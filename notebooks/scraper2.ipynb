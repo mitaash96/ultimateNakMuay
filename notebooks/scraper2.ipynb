{
 "cells": [
  {
   "cell_type": "code",
   "execution_count": 1,
   "metadata": {},
   "outputs": [],
   "source": [
    "import pandas as pd\n",
    "import numpy as np"
   ]
  },
  {
   "cell_type": "code",
   "execution_count": 2,
   "metadata": {},
   "outputs": [],
   "source": [
    "ufcstats = pd.read_json(r\"C:\\Development\\ultimateNakMuay\\data\\raw\\ufcstats.json\")"
   ]
  },
  {
   "cell_type": "code",
   "execution_count": 3,
   "metadata": {},
   "outputs": [
    {
     "data": {
      "text/html": [
       "<div>\n",
       "<style scoped>\n",
       "    .dataframe tbody tr th:only-of-type {\n",
       "        vertical-align: middle;\n",
       "    }\n",
       "\n",
       "    .dataframe tbody tr th {\n",
       "        vertical-align: top;\n",
       "    }\n",
       "\n",
       "    .dataframe thead th {\n",
       "        text-align: right;\n",
       "    }\n",
       "</style>\n",
       "<table border=\"1\" class=\"dataframe\">\n",
       "  <thead>\n",
       "    <tr style=\"text-align: right;\">\n",
       "      <th></th>\n",
       "      <th>event_name</th>\n",
       "      <th>event_details</th>\n",
       "      <th>event_date</th>\n",
       "      <th>event_locations</th>\n",
       "    </tr>\n",
       "  </thead>\n",
       "  <tbody>\n",
       "    <tr>\n",
       "      <th>0</th>\n",
       "      <td>UFC Fight Night: Kara-France vs. Albazi</td>\n",
       "      <td>http://ufcstats.com/event-details/7abe471b6172...</td>\n",
       "      <td>June 03, 2023</td>\n",
       "      <td>Las Vegas, Nevada, USA</td>\n",
       "    </tr>\n",
       "    <tr>\n",
       "      <th>1</th>\n",
       "      <td>UFC Fight Night: Dern vs. Hill</td>\n",
       "      <td>http://ufcstats.com/event-details/6f812143641c...</td>\n",
       "      <td>May 20, 2023</td>\n",
       "      <td>Las Vegas, Nevada, USA</td>\n",
       "    </tr>\n",
       "    <tr>\n",
       "      <th>2</th>\n",
       "      <td>UFC Fight Night: Rozenstruik vs. Almeida</td>\n",
       "      <td>http://ufcstats.com/event-details/901cddcbfa07...</td>\n",
       "      <td>May 13, 2023</td>\n",
       "      <td>Charlotte, North Carolina, USA</td>\n",
       "    </tr>\n",
       "    <tr>\n",
       "      <th>3</th>\n",
       "      <td>UFC 288: Sterling vs. Cejudo</td>\n",
       "      <td>http://ufcstats.com/event-details/3c6976f8182d...</td>\n",
       "      <td>May 06, 2023</td>\n",
       "      <td>Newark, New Jersey, USA</td>\n",
       "    </tr>\n",
       "    <tr>\n",
       "      <th>4</th>\n",
       "      <td>UFC Fight Night: Song vs. Simon</td>\n",
       "      <td>http://ufcstats.com/event-details/51b1e2fd9872...</td>\n",
       "      <td>April 29, 2023</td>\n",
       "      <td>Las Vegas, Nevada, USA</td>\n",
       "    </tr>\n",
       "  </tbody>\n",
       "</table>\n",
       "</div>"
      ],
      "text/plain": [
       "                                 event_name  \\\n",
       "0   UFC Fight Night: Kara-France vs. Albazi   \n",
       "1            UFC Fight Night: Dern vs. Hill   \n",
       "2  UFC Fight Night: Rozenstruik vs. Almeida   \n",
       "3              UFC 288: Sterling vs. Cejudo   \n",
       "4           UFC Fight Night: Song vs. Simon   \n",
       "\n",
       "                                       event_details      event_date  \\\n",
       "0  http://ufcstats.com/event-details/7abe471b6172...   June 03, 2023   \n",
       "1  http://ufcstats.com/event-details/6f812143641c...    May 20, 2023   \n",
       "2  http://ufcstats.com/event-details/901cddcbfa07...    May 13, 2023   \n",
       "3  http://ufcstats.com/event-details/3c6976f8182d...    May 06, 2023   \n",
       "4  http://ufcstats.com/event-details/51b1e2fd9872...  April 29, 2023   \n",
       "\n",
       "                  event_locations  \n",
       "0          Las Vegas, Nevada, USA  \n",
       "1          Las Vegas, Nevada, USA  \n",
       "2  Charlotte, North Carolina, USA  \n",
       "3         Newark, New Jersey, USA  \n",
       "4          Las Vegas, Nevada, USA  "
      ]
     },
     "execution_count": 3,
     "metadata": {},
     "output_type": "execute_result"
    }
   ],
   "source": [
    "ufcstats.head()"
   ]
  },
  {
   "cell_type": "code",
   "execution_count": null,
   "metadata": {},
   "outputs": [],
   "source": []
  }
 ],
 "metadata": {
  "kernelspec": {
   "display_name": "ultimateNakMuay",
   "language": "python",
   "name": "python3"
  },
  "language_info": {
   "codemirror_mode": {
    "name": "ipython",
    "version": 3
   },
   "file_extension": ".py",
   "mimetype": "text/x-python",
   "name": "python",
   "nbconvert_exporter": "python",
   "pygments_lexer": "ipython3",
   "version": "3.11.3"
  },
  "orig_nbformat": 4
 },
 "nbformat": 4,
 "nbformat_minor": 2
}
