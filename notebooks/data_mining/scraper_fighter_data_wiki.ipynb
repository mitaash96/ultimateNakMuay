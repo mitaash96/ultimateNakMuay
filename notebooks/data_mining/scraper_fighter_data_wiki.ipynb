{
 "cells": [
  {
   "cell_type": "code",
   "execution_count": 40,
   "metadata": {},
   "outputs": [],
   "source": [
    "import pandas as pd\n",
    "import pickle\n",
    "import hashlib\n",
    "import numpy as np"
   ]
  },
  {
   "cell_type": "code",
   "execution_count": 46,
   "metadata": {},
   "outputs": [],
   "source": [
    "with open(r\"C:\\Development\\ultimateNakMuay\\data\\raw\\fighter_ufc_payload_async.pkl\", \"rb\") as f:\n",
    "    results = pickle.load(f)"
   ]
  },
  {
   "cell_type": "code",
   "execution_count": 47,
   "metadata": {},
   "outputs": [],
   "source": [
    "def cleanResults(result):\n",
    "    event_name = result[\"event\"]\n",
    "    df = result[\"df\"]\n",
    "    df.columns = [_[1] for _ in df.columns]\n",
    "\n",
    "    split_by_card = [(i, df.iloc[i,0]) for i in df[df.eq(df.iloc[:, 0], axis=0).all(axis=1)].index]\n",
    "    if 0 not in [_[0] for _ in split_by_card]:\n",
    "        split_by_card = [(0, \"Main card\"), *split_by_card]\n",
    "\n",
    "    for i in range(len(split_by_card)-1):\n",
    "        split_by_card[i] = (split_by_card[i][0], split_by_card[i+1][0], split_by_card[i][1])\n",
    "\n",
    "    split_by_card[-1] = (split_by_card[-1][0], len(df), split_by_card[-1][1])\n",
    "\n",
    "    sdfs = []\n",
    "    for start, end, card in split_by_card:\n",
    "        sdf = df.iloc[start:end, :]\n",
    "        sdf = sdf.assign(fight_card = card)\n",
    "        sdfs.append(sdf)\n",
    "    \n",
    "    df = pd.concat(sdfs).drop([i[0] for i in split_by_card[1:]]).reset_index(drop=True)\n",
    "\n",
    "    cols2rename = {\n",
    "        x: x.lower().replace(' ', '_') for x in df.columns\n",
    "    }\n",
    "\n",
    "    cols2rename = {\n",
    "        **cols2rename,\n",
    "        **{\n",
    "            \"Unnamed: 1_level_1\": \"winner\",\n",
    "            \"Unnamed: 3_level_1\": \"loser\",\n",
    "        },\n",
    "    }\n",
    "\n",
    "    df.rename(columns=cols2rename, inplace=True)\n",
    "\n",
    "    df.drop(columns=[\"unnamed:_2_level_1\"], axis=1, inplace=True)\n",
    "\n",
    "    df = df.assign(event_name = event_name)\n",
    "\n",
    "    df.loc[:, \"event_id\"] = df[\"event_name\"].apply(lambda x: hashlib.sha256(x.encode()).hexdigest())\n",
    "\n",
    "    return df"
   ]
  },
  {
   "cell_type": "code",
   "execution_count": 48,
   "metadata": {},
   "outputs": [],
   "source": [
    "results = list(map(cleanResults, results))"
   ]
  },
  {
   "cell_type": "code",
   "execution_count": 49,
   "metadata": {},
   "outputs": [],
   "source": [
    "final_df = pd.concat(results, ignore_index=True)"
   ]
  },
  {
   "cell_type": "code",
   "execution_count": 52,
   "metadata": {},
   "outputs": [],
   "source": [
    "final_df.drop(columns=[\"unnamed:_8_level_1\", \"event\"], inplace=True)"
   ]
  },
  {
   "cell_type": "code",
   "execution_count": null,
   "metadata": {},
   "outputs": [],
   "source": []
  }
 ],
 "metadata": {
  "kernelspec": {
   "display_name": "ultimateNakMuay",
   "language": "python",
   "name": "python3"
  },
  "language_info": {
   "codemirror_mode": {
    "name": "ipython",
    "version": 3
   },
   "file_extension": ".py",
   "mimetype": "text/x-python",
   "name": "python",
   "nbconvert_exporter": "python",
   "pygments_lexer": "ipython3",
   "version": "3.11.3"
  },
  "orig_nbformat": 4
 },
 "nbformat": 4,
 "nbformat_minor": 2
}
