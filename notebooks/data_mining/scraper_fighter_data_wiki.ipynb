{
 "cells": [
  {
   "cell_type": "code",
   "execution_count": 1,
   "metadata": {},
   "outputs": [],
   "source": [
    "import pandas as pd"
   ]
  },
  {
   "cell_type": "code",
   "execution_count": 3,
   "metadata": {},
   "outputs": [],
   "source": [
    "url = \"https://en.wikipedia.org/wiki/UFC_Fight_Night:_Dern_vs._Hill\"\n",
    "tables = pd.read_html(url)"
   ]
  },
  {
   "cell_type": "code",
   "execution_count": 7,
   "metadata": {},
   "outputs": [],
   "source": [
    "input_df = pd.read_csv(r\"C:\\Development\\ultimateNakMuay\\data\\raw\\wiki_events_ufc.csv\")"
   ]
  },
  {
   "cell_type": "code",
   "execution_count": 8,
   "metadata": {},
   "outputs": [
    {
     "data": {
      "text/html": [
       "<div>\n",
       "<style scoped>\n",
       "    .dataframe tbody tr th:only-of-type {\n",
       "        vertical-align: middle;\n",
       "    }\n",
       "\n",
       "    .dataframe tbody tr th {\n",
       "        vertical-align: top;\n",
       "    }\n",
       "\n",
       "    .dataframe thead th {\n",
       "        text-align: right;\n",
       "    }\n",
       "</style>\n",
       "<table border=\"1\" class=\"dataframe\">\n",
       "  <thead>\n",
       "    <tr style=\"text-align: right;\">\n",
       "      <th></th>\n",
       "      <th>#</th>\n",
       "      <th>Event</th>\n",
       "      <th>Date</th>\n",
       "      <th>Venue</th>\n",
       "      <th>Location</th>\n",
       "      <th>Attendance</th>\n",
       "      <th>Ref.</th>\n",
       "    </tr>\n",
       "  </thead>\n",
       "  <tbody>\n",
       "    <tr>\n",
       "      <th>0</th>\n",
       "      <td>648</td>\n",
       "      <td>UFC Fight Night: Dern vs. Hill</td>\n",
       "      <td>May 20, 2023</td>\n",
       "      <td>UFC Apex</td>\n",
       "      <td>Las Vegas, Nevada, U.S.</td>\n",
       "      <td>—</td>\n",
       "      <td>[23]</td>\n",
       "    </tr>\n",
       "    <tr>\n",
       "      <th>1</th>\n",
       "      <td>647</td>\n",
       "      <td>UFC on ABC: Rozenstruik vs. Almeida</td>\n",
       "      <td>May 13, 2023</td>\n",
       "      <td>Spectrum Center</td>\n",
       "      <td>Charlotte, North Carolina, U.S.</td>\n",
       "      <td>18,712</td>\n",
       "      <td>[24]</td>\n",
       "    </tr>\n",
       "    <tr>\n",
       "      <th>2</th>\n",
       "      <td>646</td>\n",
       "      <td>UFC 288: Sterling vs. Cejudo</td>\n",
       "      <td>May 6, 2023</td>\n",
       "      <td>Prudential Center</td>\n",
       "      <td>Newark, New Jersey, U.S.</td>\n",
       "      <td>17,559</td>\n",
       "      <td>[25]</td>\n",
       "    </tr>\n",
       "    <tr>\n",
       "      <th>3</th>\n",
       "      <td>645</td>\n",
       "      <td>UFC on ESPN: Song vs. Simón</td>\n",
       "      <td>Apr 29, 2023</td>\n",
       "      <td>UFC Apex</td>\n",
       "      <td>Las Vegas, Nevada, U.S.</td>\n",
       "      <td>—</td>\n",
       "      <td>[26]</td>\n",
       "    </tr>\n",
       "    <tr>\n",
       "      <th>4</th>\n",
       "      <td>644</td>\n",
       "      <td>UFC Fight Night: Pavlovich vs. Blaydes</td>\n",
       "      <td>Apr 22, 2023</td>\n",
       "      <td>[27]</td>\n",
       "      <td>NaN</td>\n",
       "      <td>NaN</td>\n",
       "      <td>NaN</td>\n",
       "    </tr>\n",
       "  </tbody>\n",
       "</table>\n",
       "</div>"
      ],
      "text/plain": [
       "     #                                   Event          Date  \\\n",
       "0  648          UFC Fight Night: Dern vs. Hill  May 20, 2023   \n",
       "1  647     UFC on ABC: Rozenstruik vs. Almeida  May 13, 2023   \n",
       "2  646            UFC 288: Sterling vs. Cejudo   May 6, 2023   \n",
       "3  645             UFC on ESPN: Song vs. Simón  Apr 29, 2023   \n",
       "4  644  UFC Fight Night: Pavlovich vs. Blaydes  Apr 22, 2023   \n",
       "\n",
       "               Venue                         Location Attendance  Ref.  \n",
       "0           UFC Apex          Las Vegas, Nevada, U.S.          —  [23]  \n",
       "1    Spectrum Center  Charlotte, North Carolina, U.S.     18,712  [24]  \n",
       "2  Prudential Center         Newark, New Jersey, U.S.     17,559  [25]  \n",
       "3           UFC Apex          Las Vegas, Nevada, U.S.          —  [26]  \n",
       "4               [27]                              NaN        NaN   NaN  "
      ]
     },
     "execution_count": 8,
     "metadata": {},
     "output_type": "execute_result"
    }
   ],
   "source": [
    "input_df.head()"
   ]
  },
  {
   "cell_type": "code",
   "execution_count": null,
   "metadata": {},
   "outputs": [],
   "source": []
  }
 ],
 "metadata": {
  "kernelspec": {
   "display_name": "ultimateNakMuay",
   "language": "python",
   "name": "python3"
  },
  "language_info": {
   "codemirror_mode": {
    "name": "ipython",
    "version": 3
   },
   "file_extension": ".py",
   "mimetype": "text/x-python",
   "name": "python",
   "nbconvert_exporter": "python",
   "pygments_lexer": "ipython3",
   "version": "3.11.3"
  },
  "orig_nbformat": 4
 },
 "nbformat": 4,
 "nbformat_minor": 2
}
