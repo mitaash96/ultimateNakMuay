{
 "cells": [
  {
   "cell_type": "code",
   "execution_count": 78,
   "metadata": {},
   "outputs": [],
   "source": [
    "from bs4 import BeautifulSoup\n",
    "import re\n",
    "import requests\n",
    "import pandas as pd"
   ]
  },
  {
   "attachments": {},
   "cell_type": "markdown",
   "metadata": {},
   "source": [
    "# Todo:\n",
    "Read url links from scraper_one_results"
   ]
  },
  {
   "cell_type": "code",
   "execution_count": 79,
   "metadata": {},
   "outputs": [],
   "source": [
    "urls = [\n",
    "    \"https://en.wikipedia.org//wiki/ONE_Fight_Night_8\",\n",
    "    \"https://en.wikipedia.org//wiki/2013_in_ONE_Championship\",\n",
    "    \"https://en.wikipedia.org//wiki/2017_in_ONE_Championship\",\n",
    "    \"https://en.wikipedia.org//wiki/2012_in_ONE_Championship\",\n",
    "    \"https://en.wikipedia.org//wiki/2021_in_ONE_Championship\",\n",
    "]"
   ]
  },
  {
   "attachments": {},
   "cell_type": "markdown",
   "metadata": {},
   "source": [
    "# Todo:\n",
    "add function to extract event card from df"
   ]
  },
  {
   "cell_type": "code",
   "execution_count": 80,
   "metadata": {},
   "outputs": [],
   "source": [
    "def getData(url):\n",
    "    dfs = []\n",
    "    soup = BeautifulSoup(requests.get(url).text)\n",
    "    header_patterns = [\"one championship:\", \"road to one\", \"one on\", \"one fighting championship\"]\n",
    "    pattern_match = lambda x: len([_ for _ in header_patterns if _ in x.lower()]) > 0\n",
    "\n",
    "    # event_headers = soup.find_all(lambda tag: tag.name == \"h2\" and \"one\" in tag.text.lower() and \"cancelled\" not in tag.text.lower())\n",
    "    event_headers = [header for header in soup.find_all(lambda tag: tag.name == \"h2\") if pattern_match(header.text)]\n",
    "\n",
    "    if not event_headers:\n",
    "        event_headers = soup.find_all(lambda tag: tag.name == \"h1\" and \"one\" in tag.text.lower() and \"cancelled\" not in tag.text.lower())\n",
    "\n",
    "    table_classes = [_.get(\"class\") for _ in event_headers[0].find_all_next(\"table\")]\n",
    "\n",
    "    table_class = \"wikitable\" if \"toccolours\" not in [x for xs in list(filter(lambda x: x!=None, table_classes)) for x in xs] else \"toccolours\"\n",
    "\n",
    "    for event in event_headers:\n",
    "\n",
    "        event_name = event.text\n",
    "\n",
    "        df = pd.read_html(str(event.find_next(\"table\", class_ = table_class)))[0]\n",
    "        df = df.assign(event_name = event_name)\n",
    "        dfs.append(df)\n",
    "    return pd.concat(dfs, ignore_index=True)"
   ]
  },
  {
   "attachments": {},
   "cell_type": "markdown",
   "metadata": {},
   "source": [
    "# Todo:\n",
    "Convert section to pyspark"
   ]
  },
  {
   "cell_type": "code",
   "execution_count": 81,
   "metadata": {},
   "outputs": [],
   "source": [
    "df = pd.concat([getData(url) for url in urls], ignore_index=True)"
   ]
  },
  {
   "cell_type": "code",
   "execution_count": 52,
   "metadata": {},
   "outputs": [],
   "source": [
    "raw_df = pd.read_csv(r\"C:\\Development\\ultimateNakMuay\\data\\raw\\wiki_events_onefc.csv\")"
   ]
  },
  {
   "cell_type": "code",
   "execution_count": 100,
   "metadata": {},
   "outputs": [],
   "source": [
    "event_exists = lambda x: (\n",
    "    (x.replace(\"[edit]\", \"\") in raw_df[\"Event\"].to_list()) or\n",
    "    (x.replace(\"[edit]\", \"\").replace(\" Championship\", \"\") in raw_df[\"Event\"].to_list()) or\n",
    "    (x.split(\":\")[-1].replace(\"[edit]\", \"\").strip() in [_.split(\":\")[-1].strip() for _ in raw_df[\"Event\"].to_list()]) or\n",
    "    (x.split(\":\")[0].replace(\"[edit]\", \"\").strip() in [_.split(\":\")[0].strip() for _ in raw_df[\"Event\"].to_list()])\n",
    ")"
   ]
  },
  {
   "cell_type": "code",
   "execution_count": 101,
   "metadata": {},
   "outputs": [
    {
     "data": {
      "text/plain": [
       "set()"
      ]
     },
     "execution_count": 101,
     "metadata": {},
     "output_type": "execute_result"
    }
   ],
   "source": [
    "set([event for event in df[\"event_name\"].to_list() if event_exists(event) == False])"
   ]
  },
  {
   "cell_type": "code",
   "execution_count": 99,
   "metadata": {},
   "outputs": [
    {
     "data": {
      "text/html": [
       "<div>\n",
       "<style scoped>\n",
       "    .dataframe tbody tr th:only-of-type {\n",
       "        vertical-align: middle;\n",
       "    }\n",
       "\n",
       "    .dataframe tbody tr th {\n",
       "        vertical-align: top;\n",
       "    }\n",
       "\n",
       "    .dataframe thead th {\n",
       "        text-align: right;\n",
       "    }\n",
       "</style>\n",
       "<table border=\"1\" class=\"dataframe\">\n",
       "  <thead>\n",
       "    <tr style=\"text-align: right;\">\n",
       "      <th></th>\n",
       "      <th>#</th>\n",
       "      <th>Event</th>\n",
       "      <th>Date</th>\n",
       "      <th>Venue</th>\n",
       "      <th>Location</th>\n",
       "      <th>Attendance</th>\n",
       "    </tr>\n",
       "  </thead>\n",
       "  <tbody>\n",
       "    <tr>\n",
       "      <th>17</th>\n",
       "      <td>236</td>\n",
       "      <td>ONE Fight Night 8: Superlek vs. Williams</td>\n",
       "      <td>March 25, 2023</td>\n",
       "      <td>Singapore Indoor Stadium</td>\n",
       "      <td>Kallang, Singapore</td>\n",
       "      <td>NaN</td>\n",
       "    </tr>\n",
       "  </tbody>\n",
       "</table>\n",
       "</div>"
      ],
      "text/plain": [
       "      #                                     Event            Date  \\\n",
       "17  236  ONE Fight Night 8: Superlek vs. Williams  March 25, 2023   \n",
       "\n",
       "                       Venue            Location Attendance  \n",
       "17  Singapore Indoor Stadium  Kallang, Singapore        NaN  "
      ]
     },
     "execution_count": 99,
     "metadata": {},
     "output_type": "execute_result"
    }
   ],
   "source": [
    "raw_df[raw_df[\"Event\"].str.contains(\"ONE Fight Night 8\")]"
   ]
  },
  {
   "cell_type": "code",
   "execution_count": null,
   "metadata": {},
   "outputs": [],
   "source": []
  }
 ],
 "metadata": {
  "kernelspec": {
   "display_name": "ultimateNakMuay",
   "language": "python",
   "name": "python3"
  },
  "language_info": {
   "codemirror_mode": {
    "name": "ipython",
    "version": 3
   },
   "file_extension": ".py",
   "mimetype": "text/x-python",
   "name": "python",
   "nbconvert_exporter": "python",
   "pygments_lexer": "ipython3",
   "version": "3.11.3"
  },
  "orig_nbformat": 4
 },
 "nbformat": 4,
 "nbformat_minor": 2
}
