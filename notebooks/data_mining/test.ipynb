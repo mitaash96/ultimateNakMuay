{
 "cells": [
  {
   "cell_type": "code",
   "execution_count": 1,
   "metadata": {},
   "outputs": [],
   "source": [
    "from bs4 import BeautifulSoup\n",
    "import requests\n",
    "import pandas as pd"
   ]
  },
  {
   "attachments": {},
   "cell_type": "markdown",
   "metadata": {},
   "source": [
    "# Todo:\n",
    "Read url links from scraper_one_results"
   ]
  },
  {
   "cell_type": "code",
   "execution_count": 2,
   "metadata": {},
   "outputs": [],
   "source": [
    "url = \"https://en.wikipedia.org/wiki/List_of_ONE_Championship_events#Events\"\n",
    "\n",
    "soup = BeautifulSoup(requests.get(url).text,\"html.parser\")\n",
    "\n",
    "table = soup.find_all(\"table\", class_ = \"sortable\")[0]\n",
    "table_rows = table.find_all(\"tr\")[1:]\n",
    "\n",
    "anchors = [_.find_all(\"a\") for _ in table_rows if len(_.find_all(\"a\"))>0]\n",
    "cols = [\"link\", \"name\"]\n",
    "\n",
    "links_df = pd.DataFrame([(anchor[0].get(\"href\"), anchor[0].text) for anchor in anchors], columns=cols)\n"
   ]
  },
  {
   "cell_type": "code",
   "execution_count": 3,
   "metadata": {},
   "outputs": [],
   "source": [
    "clean_link = lambda x: f\"https://en.wikipedia.org/{x.split('#')[0]}\"\n",
    "links_df[\"link_clean\"] = links_df[\"link\"].apply(clean_link)\n",
    "links = links_df[\"link_clean\"].value_counts().reset_index().iloc[:,0]\n",
    "links = links.to_list()\n",
    "urls = list(set([link for link in links if \"one_\" in link.lower()]))"
   ]
  },
  {
   "attachments": {},
   "cell_type": "markdown",
   "metadata": {},
   "source": [
    "# Todo:\n",
    "add function to extract event card from df"
   ]
  },
  {
   "cell_type": "code",
   "execution_count": 4,
   "metadata": {},
   "outputs": [],
   "source": [
    "def cleanResults(result):\n",
    "    event_name = result[\"event\"]\n",
    "    df = result[\"df\"]\n",
    "    df.columns = [_[1] for _ in df.columns]\n",
    "\n",
    "    split_by_card = [(i, df.iloc[i,0]) for i in df[df.eq(df.iloc[:, 0], axis=0).all(axis=1)].index]\n",
    "    if 0 not in [_[0] for _ in split_by_card]:\n",
    "        split_by_card = [(0, \"Main card\"), *split_by_card]\n",
    "\n",
    "    for i in range(len(split_by_card)-1):\n",
    "        split_by_card[i] = (split_by_card[i][0], split_by_card[i+1][0], split_by_card[i][1])\n",
    "\n",
    "    split_by_card[-1] = (split_by_card[-1][0], len(df), split_by_card[-1][1])\n",
    "\n",
    "    sdfs = []\n",
    "    for start, end, card in split_by_card:\n",
    "        sdf = df.iloc[start:end, :]\n",
    "        sdf = sdf.assign(fight_card = card)\n",
    "        sdfs.append(sdf)\n",
    "    \n",
    "    df = pd.concat(sdfs).drop([i[0] for i in split_by_card[1:]]).reset_index(drop=True)\n",
    "\n",
    "    cols2rename = {\n",
    "        x: x.lower().replace(' ', '_') for x in df.columns\n",
    "    }\n",
    "\n",
    "    cols2rename = {\n",
    "        **cols2rename,\n",
    "        **{\n",
    "            \"Unnamed: 1_level_1\": \"winner\",\n",
    "            \"Unnamed: 3_level_1\": \"loser\",\n",
    "        },\n",
    "    }\n",
    "\n",
    "    df.rename(columns=cols2rename, inplace=True)\n",
    "\n",
    "    df.drop(columns=[\"unnamed:_2_level_1\"], axis=1, inplace=True)\n",
    "\n",
    "    df = df.assign(event_name = event_name)\n",
    "\n",
    "    return df"
   ]
  },
  {
   "cell_type": "code",
   "execution_count": 11,
   "metadata": {},
   "outputs": [],
   "source": [
    "def getData(url):\n",
    "    dfs = []\n",
    "    soup = BeautifulSoup(requests.get(url).text)\n",
    "    header_patterns = [\"one championship:\", \"road to one\", \"one on\", \"one fighting championship\", \"hero series\", \"warrior series\"]\n",
    "    pattern_match = lambda x: len([_ for _ in header_patterns if _ in x.lower()]) > 0\n",
    "\n",
    "    # event_headers = soup.find_all(lambda tag: tag.name == \"h2\" and \"one\" in tag.text.lower() and \"cancelled\" not in tag.text.lower())\n",
    "    event_headers = [header for header in soup.find_all(lambda tag: tag.name == \"h2\" and \"cancelled\" not in tag.text.lower()) if pattern_match(header.text)]\n",
    "\n",
    "    if not event_headers:\n",
    "        event_headers = soup.find_all(lambda tag: tag.name == \"h1\" and \"one\" in tag.text.lower() and \"cancelled\" not in tag.text.lower())\n",
    "    \n",
    "    table_classes = [_.get(\"class\") for _ in event_headers[0].find_all_next(\"table\")]\n",
    "\n",
    "    table_class = \"wikitable\" if \"toccolours\" not in [x for xs in list(filter(lambda x: x!=None, table_classes)) for x in xs] else \"toccolours\"\n",
    "    \n",
    "    for event in event_headers:\n",
    "\n",
    "        event_name = event.text.replace(\"[edit]\", \"\")\n",
    "        tables = event.find_next(\"table\", class_ = table_class)\n",
    "        if tables != None:\n",
    "            df = pd.read_html(str(tables))\n",
    "        else:\n",
    "            df = pd.read_html(str(event.find_next(\"table\", class_ = \"wikitable\")))\n",
    "        \n",
    "        df = df[0]\n",
    "        df = cleanResults(result={\"event\": event_name, \"df\": df})\n",
    "        dfs.append(df)\n",
    "\n",
    "    return pd.concat(dfs, ignore_index=True)"
   ]
  },
  {
   "attachments": {},
   "cell_type": "markdown",
   "metadata": {},
   "source": [
    "# Todo:\n",
    "Convert section to pyspark"
   ]
  },
  {
   "cell_type": "code",
   "execution_count": 6,
   "metadata": {},
   "outputs": [
    {
     "data": {
      "text/plain": [
       "['https://en.wikipedia.org//wiki/2020_in_ONE_Championship']"
      ]
     },
     "execution_count": 6,
     "metadata": {},
     "output_type": "execute_result"
    }
   ],
   "source": [
    "[url for url in urls if \"2020\" in url]"
   ]
  },
  {
   "cell_type": "code",
   "execution_count": 12,
   "metadata": {},
   "outputs": [
    {
     "data": {
      "text/plain": [
       "array(['ONE Championship: A New Tomorrow',\n",
       "       'ONE Championship: Fire & Fury',\n",
       "       \"ONE Championship: Warrior's Code\", 'ONE Warrior Series 10',\n",
       "       'ONE Championship: King of the Jungle', 'ONE Hero Series 13',\n",
       "       'ONE Hero Series 14', 'ONE Championship: No Surrender',\n",
       "       'ONE Championship: No Surrender 2',\n",
       "       'ONE Championship: No Surrender 3',\n",
       "       'ONE Championship: A New Breed',\n",
       "       'Road to ONE 3: Tokyo Fight Night',\n",
       "       'ONE Championship: A New Breed 2',\n",
       "       'ONE Championship: A New Breed 3',\n",
       "       'ONE Championship: Reign of Dynasties',\n",
       "       'ONE Championship: Reign of Dynasties 2',\n",
       "       'ONE Championship: Inside the Matrix',\n",
       "       'ONE Championship: Inside the Matrix 2',\n",
       "       'ONE Championship: Inside the Matrix 3',\n",
       "       'ONE Championship: Inside the Matrix 4',\n",
       "       'Road to ONE 4: Fair Fight 13', 'ONE Championship: Big Bang',\n",
       "       'ONE Championship: Big Bang 2', 'Road to ONE 5: WSS',\n",
       "       'ONE Championship: Collision Course',\n",
       "       'ONE Championship: Collision Course 2'], dtype=object)"
      ]
     },
     "execution_count": 12,
     "metadata": {},
     "output_type": "execute_result"
    }
   ],
   "source": [
    "getData('https://en.wikipedia.org//wiki/2020_in_ONE_Championship')['event_name'].unique()"
   ]
  },
  {
   "cell_type": "code",
   "execution_count": 25,
   "metadata": {},
   "outputs": [],
   "source": [
    "df = pd.concat([getData(url) for url in urls], ignore_index=True)"
   ]
  },
  {
   "cell_type": "code",
   "execution_count": 30,
   "metadata": {},
   "outputs": [
    {
     "data": {
      "text/html": [
       "<div>\n",
       "<style scoped>\n",
       "    .dataframe tbody tr th:only-of-type {\n",
       "        vertical-align: middle;\n",
       "    }\n",
       "\n",
       "    .dataframe tbody tr th {\n",
       "        vertical-align: top;\n",
       "    }\n",
       "\n",
       "    .dataframe thead th {\n",
       "        text-align: right;\n",
       "    }\n",
       "</style>\n",
       "<table border=\"1\" class=\"dataframe\">\n",
       "  <thead>\n",
       "    <tr style=\"text-align: right;\">\n",
       "      <th></th>\n",
       "      <th>weight_class</th>\n",
       "      <th>winner</th>\n",
       "      <th>loser</th>\n",
       "      <th>method</th>\n",
       "      <th>round</th>\n",
       "      <th>time</th>\n",
       "      <th>notes</th>\n",
       "      <th>fight_card</th>\n",
       "      <th>event_name</th>\n",
       "      <th>event</th>\n",
       "    </tr>\n",
       "  </thead>\n",
       "  <tbody>\n",
       "    <tr>\n",
       "      <th>0</th>\n",
       "      <td>Middleweight</td>\n",
       "      <td>Reinier de Ridder (c)</td>\n",
       "      <td>Vitaly Bigdash</td>\n",
       "      <td>Technical Submission (inverted triangle choke)</td>\n",
       "      <td>1</td>\n",
       "      <td>3:29</td>\n",
       "      <td>[a]</td>\n",
       "      <td>Main card</td>\n",
       "      <td>ONE 159</td>\n",
       "      <td>NaN</td>\n",
       "    </tr>\n",
       "    <tr>\n",
       "      <th>1</th>\n",
       "      <td>Women's Atomweight Muay Thai</td>\n",
       "      <td>Janet Todd</td>\n",
       "      <td>Lara Fernandez</td>\n",
       "      <td>Decision (unanimous)</td>\n",
       "      <td>5</td>\n",
       "      <td>3:00</td>\n",
       "      <td>[b]</td>\n",
       "      <td>Main card</td>\n",
       "      <td>ONE 159</td>\n",
       "      <td>NaN</td>\n",
       "    </tr>\n",
       "    <tr>\n",
       "      <th>2</th>\n",
       "      <td>Bantamweight Muay Thai</td>\n",
       "      <td>Muangthai P.K.Saenchai</td>\n",
       "      <td>Vladimir Kuzmin</td>\n",
       "      <td>Decision (split)</td>\n",
       "      <td>3</td>\n",
       "      <td>3:00</td>\n",
       "      <td>NaN</td>\n",
       "      <td>Main card</td>\n",
       "      <td>ONE 159</td>\n",
       "      <td>NaN</td>\n",
       "    </tr>\n",
       "    <tr>\n",
       "      <th>3</th>\n",
       "      <td>Strawweight Kickboxing</td>\n",
       "      <td>Zhang Peimian</td>\n",
       "      <td>Aslanbek Zikreev</td>\n",
       "      <td>Decision (unanimous)</td>\n",
       "      <td>3</td>\n",
       "      <td>3:00</td>\n",
       "      <td>NaN</td>\n",
       "      <td>Main card</td>\n",
       "      <td>ONE 159</td>\n",
       "      <td>NaN</td>\n",
       "    </tr>\n",
       "    <tr>\n",
       "      <th>4</th>\n",
       "      <td>Featherweight Muay Thai</td>\n",
       "      <td>Jamal Yusupov</td>\n",
       "      <td>Jo Nattawut</td>\n",
       "      <td>Decision (unanimous)</td>\n",
       "      <td>3</td>\n",
       "      <td>3:00</td>\n",
       "      <td>NaN</td>\n",
       "      <td>Main card</td>\n",
       "      <td>ONE 159</td>\n",
       "      <td>NaN</td>\n",
       "    </tr>\n",
       "    <tr>\n",
       "      <th>...</th>\n",
       "      <td>...</td>\n",
       "      <td>...</td>\n",
       "      <td>...</td>\n",
       "      <td>...</td>\n",
       "      <td>...</td>\n",
       "      <td>...</td>\n",
       "      <td>...</td>\n",
       "      <td>...</td>\n",
       "      <td>...</td>\n",
       "      <td>...</td>\n",
       "    </tr>\n",
       "    <tr>\n",
       "      <th>2269</th>\n",
       "      <td>Women's Flyweight</td>\n",
       "      <td>Irina Mazepa</td>\n",
       "      <td>Ana Julaton</td>\n",
       "      <td>Decision (unanimous)</td>\n",
       "      <td>3</td>\n",
       "      <td>5:00</td>\n",
       "      <td>NaN</td>\n",
       "      <td>Main card</td>\n",
       "      <td>ONE Championship: Spirit of Champions</td>\n",
       "      <td>NaN</td>\n",
       "    </tr>\n",
       "    <tr>\n",
       "      <th>2270</th>\n",
       "      <td>Women's Strawweight</td>\n",
       "      <td>Angela Lee</td>\n",
       "      <td>Lena Tkhorevska</td>\n",
       "      <td>Submission (rear-naked choke)</td>\n",
       "      <td>2</td>\n",
       "      <td>3:26</td>\n",
       "      <td>NaN</td>\n",
       "      <td>Main card</td>\n",
       "      <td>ONE Championship: Spirit of Champions</td>\n",
       "      <td>NaN</td>\n",
       "    </tr>\n",
       "    <tr>\n",
       "      <th>2271</th>\n",
       "      <td>Featherweight</td>\n",
       "      <td>Bruno Pucci</td>\n",
       "      <td>Anthony Engelen</td>\n",
       "      <td>Submission (rear-naked choke)</td>\n",
       "      <td>2</td>\n",
       "      <td>2:19</td>\n",
       "      <td>NaN</td>\n",
       "      <td>Main card</td>\n",
       "      <td>ONE Championship: Spirit of Champions</td>\n",
       "      <td>NaN</td>\n",
       "    </tr>\n",
       "    <tr>\n",
       "      <th>2272</th>\n",
       "      <td>Flyweight</td>\n",
       "      <td>Alex Silva</td>\n",
       "      <td>Ruel Catalan</td>\n",
       "      <td>Submission (kneebar)</td>\n",
       "      <td>1</td>\n",
       "      <td>3:53</td>\n",
       "      <td>NaN</td>\n",
       "      <td>Main card</td>\n",
       "      <td>ONE Championship: Spirit of Champions</td>\n",
       "      <td>NaN</td>\n",
       "    </tr>\n",
       "    <tr>\n",
       "      <th>2273</th>\n",
       "      <td>Featherweight</td>\n",
       "      <td>Christian Lee</td>\n",
       "      <td>David Meak</td>\n",
       "      <td>TKO (punches)</td>\n",
       "      <td>1</td>\n",
       "      <td>0:29</td>\n",
       "      <td>NaN</td>\n",
       "      <td>Main card</td>\n",
       "      <td>ONE Championship: Spirit of Champions</td>\n",
       "      <td>NaN</td>\n",
       "    </tr>\n",
       "  </tbody>\n",
       "</table>\n",
       "<p>2274 rows × 10 columns</p>\n",
       "</div>"
      ],
      "text/plain": [
       "                      weight_class                  winner             loser  \\\n",
       "0                     Middleweight   Reinier de Ridder (c)    Vitaly Bigdash   \n",
       "1     Women's Atomweight Muay Thai              Janet Todd    Lara Fernandez   \n",
       "2           Bantamweight Muay Thai  Muangthai P.K.Saenchai   Vladimir Kuzmin   \n",
       "3           Strawweight Kickboxing           Zhang Peimian  Aslanbek Zikreev   \n",
       "4          Featherweight Muay Thai           Jamal Yusupov       Jo Nattawut   \n",
       "...                            ...                     ...               ...   \n",
       "2269             Women's Flyweight            Irina Mazepa       Ana Julaton   \n",
       "2270           Women's Strawweight              Angela Lee   Lena Tkhorevska   \n",
       "2271                 Featherweight             Bruno Pucci   Anthony Engelen   \n",
       "2272                     Flyweight              Alex Silva      Ruel Catalan   \n",
       "2273                 Featherweight           Christian Lee        David Meak   \n",
       "\n",
       "                                              method round  time notes  \\\n",
       "0     Technical Submission (inverted triangle choke)     1  3:29   [a]   \n",
       "1                               Decision (unanimous)     5  3:00   [b]   \n",
       "2                                   Decision (split)     3  3:00   NaN   \n",
       "3                               Decision (unanimous)     3  3:00   NaN   \n",
       "4                               Decision (unanimous)     3  3:00   NaN   \n",
       "...                                              ...   ...   ...   ...   \n",
       "2269                            Decision (unanimous)     3  5:00   NaN   \n",
       "2270                   Submission (rear-naked choke)     2  3:26   NaN   \n",
       "2271                   Submission (rear-naked choke)     2  2:19   NaN   \n",
       "2272                            Submission (kneebar)     1  3:53   NaN   \n",
       "2273                                   TKO (punches)     1  0:29   NaN   \n",
       "\n",
       "     fight_card                             event_name event  \n",
       "0     Main card                                ONE 159   NaN  \n",
       "1     Main card                                ONE 159   NaN  \n",
       "2     Main card                                ONE 159   NaN  \n",
       "3     Main card                                ONE 159   NaN  \n",
       "4     Main card                                ONE 159   NaN  \n",
       "...         ...                                    ...   ...  \n",
       "2269  Main card  ONE Championship: Spirit of Champions   NaN  \n",
       "2270  Main card  ONE Championship: Spirit of Champions   NaN  \n",
       "2271  Main card  ONE Championship: Spirit of Champions   NaN  \n",
       "2272  Main card  ONE Championship: Spirit of Champions   NaN  \n",
       "2273  Main card  ONE Championship: Spirit of Champions   NaN  \n",
       "\n",
       "[2274 rows x 10 columns]"
      ]
     },
     "execution_count": 30,
     "metadata": {},
     "output_type": "execute_result"
    }
   ],
   "source": [
    "df"
   ]
  },
  {
   "cell_type": "code",
   "execution_count": 52,
   "metadata": {},
   "outputs": [],
   "source": [
    "raw_df = pd.read_csv(r\"C:\\Development\\ultimateNakMuay\\data\\raw\\wiki_events_onefc.csv\")"
   ]
  },
  {
   "cell_type": "code",
   "execution_count": 100,
   "metadata": {},
   "outputs": [],
   "source": [
    "event_exists = lambda x: (\n",
    "    (x.replace(\"[edit]\", \"\") in raw_df[\"Event\"].to_list()) or\n",
    "    (x.replace(\"[edit]\", \"\").replace(\" Championship\", \"\") in raw_df[\"Event\"].to_list()) or\n",
    "    (x.split(\":\")[-1].replace(\"[edit]\", \"\").strip() in [_.split(\":\")[-1].strip() for _ in raw_df[\"Event\"].to_list()]) or\n",
    "    (x.split(\":\")[0].replace(\"[edit]\", \"\").strip() in [_.split(\":\")[0].strip() for _ in raw_df[\"Event\"].to_list()])\n",
    ")"
   ]
  },
  {
   "cell_type": "code",
   "execution_count": 101,
   "metadata": {},
   "outputs": [
    {
     "data": {
      "text/plain": [
       "set()"
      ]
     },
     "execution_count": 101,
     "metadata": {},
     "output_type": "execute_result"
    }
   ],
   "source": [
    "set([event for event in df[\"event_name\"].to_list() if event_exists(event) == False])"
   ]
  },
  {
   "cell_type": "code",
   "execution_count": 99,
   "metadata": {},
   "outputs": [
    {
     "data": {
      "text/html": [
       "<div>\n",
       "<style scoped>\n",
       "    .dataframe tbody tr th:only-of-type {\n",
       "        vertical-align: middle;\n",
       "    }\n",
       "\n",
       "    .dataframe tbody tr th {\n",
       "        vertical-align: top;\n",
       "    }\n",
       "\n",
       "    .dataframe thead th {\n",
       "        text-align: right;\n",
       "    }\n",
       "</style>\n",
       "<table border=\"1\" class=\"dataframe\">\n",
       "  <thead>\n",
       "    <tr style=\"text-align: right;\">\n",
       "      <th></th>\n",
       "      <th>#</th>\n",
       "      <th>Event</th>\n",
       "      <th>Date</th>\n",
       "      <th>Venue</th>\n",
       "      <th>Location</th>\n",
       "      <th>Attendance</th>\n",
       "    </tr>\n",
       "  </thead>\n",
       "  <tbody>\n",
       "    <tr>\n",
       "      <th>17</th>\n",
       "      <td>236</td>\n",
       "      <td>ONE Fight Night 8: Superlek vs. Williams</td>\n",
       "      <td>March 25, 2023</td>\n",
       "      <td>Singapore Indoor Stadium</td>\n",
       "      <td>Kallang, Singapore</td>\n",
       "      <td>NaN</td>\n",
       "    </tr>\n",
       "  </tbody>\n",
       "</table>\n",
       "</div>"
      ],
      "text/plain": [
       "      #                                     Event            Date  \\\n",
       "17  236  ONE Fight Night 8: Superlek vs. Williams  March 25, 2023   \n",
       "\n",
       "                       Venue            Location Attendance  \n",
       "17  Singapore Indoor Stadium  Kallang, Singapore        NaN  "
      ]
     },
     "execution_count": 99,
     "metadata": {},
     "output_type": "execute_result"
    }
   ],
   "source": [
    "raw_df[raw_df[\"Event\"].str.contains(\"ONE Fight Night 8\")]"
   ]
  },
  {
   "cell_type": "code",
   "execution_count": null,
   "metadata": {},
   "outputs": [],
   "source": []
  }
 ],
 "metadata": {
  "kernelspec": {
   "display_name": "ultimateNakMuay",
   "language": "python",
   "name": "python3"
  },
  "language_info": {
   "codemirror_mode": {
    "name": "ipython",
    "version": 3
   },
   "file_extension": ".py",
   "mimetype": "text/x-python",
   "name": "python",
   "nbconvert_exporter": "python",
   "pygments_lexer": "ipython3",
   "version": "3.11.3"
  },
  "orig_nbformat": 4
 },
 "nbformat": 4,
 "nbformat_minor": 2
}
