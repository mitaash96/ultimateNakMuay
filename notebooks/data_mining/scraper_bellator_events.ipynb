{
 "cells": [
  {
   "cell_type": "code",
   "execution_count": 1,
   "metadata": {},
   "outputs": [],
   "source": [
    "import pandas as pd\n",
    "from bs4 import BeautifulSoup\n",
    "import requests"
   ]
  },
  {
   "cell_type": "code",
   "execution_count": 2,
   "metadata": {},
   "outputs": [],
   "source": [
    "url = \"https://en.wikipedia.org/wiki/List_of_Bellator_MMA_events\"\n",
    "\n",
    "soup = BeautifulSoup(\n",
    "    requests.get(url).text,\n",
    "    \"html.parser\"\n",
    ")"
   ]
  },
  {
   "cell_type": "code",
   "execution_count": 3,
   "metadata": {},
   "outputs": [],
   "source": [
    "table = soup.find_all(\"table\", class_ = \"sortable\")[0]\n",
    "table_rows = table.find_all(\"tr\")[1:]\n",
    "anchors = [_.find_all(\"a\") for _ in table_rows if len(_.find_all(\"a\"))>0]\n",
    "cols = [\"link\", \"name\"]"
   ]
  },
  {
   "cell_type": "code",
   "execution_count": 4,
   "metadata": {},
   "outputs": [],
   "source": [
    "links_df = pd.DataFrame([(anchor[0].get(\"href\"), anchor[0].text) for anchor in anchors], columns=cols)\n",
    "clean_link = lambda x: f\"https://en.wikipedia.org/{x.split('#')[0]}\"\n",
    "links_df[\"link_clean\"] = links_df[\"link\"].apply(clean_link)\n",
    "links = links_df[\"link_clean\"].value_counts().reset_index().iloc[:,0]\n",
    "links = links.to_list()"
   ]
  },
  {
   "cell_type": "code",
   "execution_count": 7,
   "metadata": {},
   "outputs": [],
   "source": [
    "def cleanResults(result):\n",
    "    event_name = result[\"event\"]\n",
    "    df = result[\"df\"]\n",
    "    df.columns = [_[1] for _ in df.columns]\n",
    "\n",
    "    split_by_card = [(i, df.iloc[i,0]) for i in df[df.eq(df.iloc[:, 0], axis=0).all(axis=1)].index]\n",
    "    if 0 not in [_[0] for _ in split_by_card]:\n",
    "        split_by_card = [(0, \"Main card\"), *split_by_card]\n",
    "\n",
    "    for i in range(len(split_by_card)-1):\n",
    "        split_by_card[i] = (split_by_card[i][0], split_by_card[i+1][0], split_by_card[i][1])\n",
    "\n",
    "    split_by_card[-1] = (split_by_card[-1][0], len(df), split_by_card[-1][1])\n",
    "\n",
    "    sdfs = []\n",
    "    for start, end, card in split_by_card:\n",
    "        sdf = df.iloc[start:end, :]\n",
    "        sdf = sdf.assign(fight_card = card)\n",
    "        sdfs.append(sdf)\n",
    "    \n",
    "    df = pd.concat(sdfs).drop([i[0] for i in split_by_card[1:]]).reset_index(drop=True)\n",
    "\n",
    "    cols2rename = {\n",
    "        x: x.lower().replace(' ', '_') for x in df.columns\n",
    "    }\n",
    "\n",
    "    cols2rename = {\n",
    "        **cols2rename,\n",
    "        **{\n",
    "            \"Unnamed: 1_level_1\": \"winner\",\n",
    "            \"Unnamed: 3_level_1\": \"loser\",\n",
    "        },\n",
    "    }\n",
    "\n",
    "    df.rename(columns=cols2rename, inplace=True)\n",
    "\n",
    "    df.drop(columns=[\"unnamed:_2_level_1\"], axis=1, inplace=True)\n",
    "\n",
    "    df = df.assign(event_name = event_name)\n",
    "\n",
    "    return df"
   ]
  },
  {
   "cell_type": "code",
   "execution_count": 8,
   "metadata": {},
   "outputs": [],
   "source": [
    "def getData(url):\n",
    "    dfs = []\n",
    "    soup = BeautifulSoup(requests.get(url).text)\n",
    "    header_patterns = [\"bellator\"]\n",
    "    pattern_match = lambda x: len([_ for _ in header_patterns if _ in x.lower()]) > 0\n",
    "\n",
    "    # event_headers = soup.find_all(lambda tag: tag.name == \"h2\" and \"one\" in tag.text.lower() and \"cancelled\" not in tag.text.lower())\n",
    "    event_headers = [\n",
    "        header for header in soup.find_all(\n",
    "        lambda tag: \n",
    "        tag.name == \"h2\" and \"cancelled\" not in tag.text.lower() and \"tournament\" not in tag.text.lower()\n",
    "        ) if pattern_match(header.text)\n",
    "        ]\n",
    "\n",
    "    if not event_headers:\n",
    "        event_headers = soup.find_all(lambda tag: tag.name == \"h1\" and \"bellator\" in tag.text.lower() and \"cancelled\" not in tag.text.lower())\n",
    "    \n",
    "    table_classes = [_.get(\"class\") for _ in event_headers[0].find_all_next(\"table\")]\n",
    "\n",
    "    table_class = \"wikitable\" if \"toccolours\" not in [x for xs in list(filter(lambda x: x!=None, table_classes)) for x in xs] else \"toccolours\"\n",
    "    \n",
    "    for event in event_headers:\n",
    "\n",
    "        event_name = event.text.replace(\"[edit]\", \"\")\n",
    "        tables = event.find_next(\"table\", class_ = table_class)\n",
    "        if tables != None:\n",
    "            df = pd.read_html(str(tables))\n",
    "        else:\n",
    "            df = pd.read_html(str(event.find_next(\"table\", class_ = \"wikitable\")))\n",
    "        \n",
    "        df = df[0]\n",
    "        df = cleanResults(result={\"event\": event_name, \"df\": df})\n",
    "        dfs.append(df)\n",
    "\n",
    "    return pd.concat(dfs, ignore_index=True)"
   ]
  },
  {
   "cell_type": "code",
   "execution_count": 10,
   "metadata": {},
   "outputs": [
    {
     "name": "stdout",
     "output_type": "stream",
     "text": [
      "15 https://en.wikipedia.org//wiki/Bellator_44\n",
      "16 https://en.wikipedia.org//wiki/Bellator_37\n",
      "17 https://en.wikipedia.org//wiki/Bellator_38\n",
      "18 https://en.wikipedia.org//wiki/Bellator_39\n",
      "19 https://en.wikipedia.org//wiki/Bellator_40\n",
      "20 https://en.wikipedia.org//wiki/Bellator_41\n",
      "21 https://en.wikipedia.org//wiki/Bellator_42\n",
      "22 https://en.wikipedia.org//wiki/Bellator_43\n",
      "23 https://en.wikipedia.org//wiki/Bellator_47\n",
      "24 https://en.wikipedia.org//wiki/Bellator_45\n",
      "25 https://en.wikipedia.org//wiki/Bellator_46\n",
      "26 https://en.wikipedia.org//wiki/Bellator_52\n",
      "27 https://en.wikipedia.org//wiki/Bellator_51\n",
      "28 https://en.wikipedia.org//wiki/Bellator_50\n",
      "29 https://en.wikipedia.org//wiki/Bellator_35\n",
      "30 https://en.wikipedia.org//wiki/Bellator_48\n",
      "31 https://en.wikipedia.org//wiki/Bellator_49\n",
      "32 https://en.wikipedia.org//wiki/Bellator_36\n",
      "33 https://en.wikipedia.org//wiki/Bellator_34\n",
      "34 https://en.wikipedia.org//wiki/Bellator_54\n",
      "35 https://en.wikipedia.org//wiki/Bellator_17\n",
      "46 https://en.wikipedia.org//wiki/Bellator_13\n",
      "47 https://en.wikipedia.org//wiki/Bellator_14\n",
      "48 https://en.wikipedia.org//wiki/Bellator_15\n",
      "49 https://en.wikipedia.org//wiki/Bellator_16\n",
      "50 https://en.wikipedia.org//wiki/Bellator_18\n",
      "51 https://en.wikipedia.org//wiki/Bellator_33\n",
      "52 https://en.wikipedia.org//wiki/Bellator_19\n",
      "53 https://en.wikipedia.org//wiki/Bellator_20\n",
      "54 https://en.wikipedia.org//wiki/Bellator_21\n",
      "55 https://en.wikipedia.org//wiki/Bellator_22\n",
      "56 https://en.wikipedia.org//wiki/Bellator_23\n",
      "57 https://en.wikipedia.org//wiki/Bellator_24\n",
      "58 https://en.wikipedia.org//wiki/Bellator_25\n",
      "59 https://en.wikipedia.org//wiki/Bellator_26\n",
      "60 https://en.wikipedia.org//wiki/Bellator_27\n",
      "61 https://en.wikipedia.org//wiki/Bellator_28\n",
      "62 https://en.wikipedia.org//wiki/Bellator_29\n",
      "63 https://en.wikipedia.org//wiki/Bellator_30\n",
      "64 https://en.wikipedia.org//wiki/Bellator_31\n",
      "65 https://en.wikipedia.org//wiki/Bellator_32\n",
      "66 https://en.wikipedia.org//wiki/Bellator_53\n",
      "68 https://en.wikipedia.org//wiki/Bellator_55\n",
      "95 https://en.wikipedia.org//wiki/Bellator_56\n",
      "97 https://en.wikipedia.org//wiki/Bellator_57\n",
      "98 https://en.wikipedia.org//wiki/Bellator_58\n",
      "99 https://en.wikipedia.org//wiki/Bellator_59\n"
     ]
    }
   ],
   "source": [
    "for i, _ in enumerate(links):\n",
    "    try:\n",
    "        getData(_)\n",
    "    except:\n",
    "        print(i, _)"
   ]
  },
  {
   "cell_type": "code",
   "execution_count": null,
   "metadata": {},
   "outputs": [],
   "source": []
  }
 ],
 "metadata": {
  "kernelspec": {
   "display_name": "ultimateNakMuay",
   "language": "python",
   "name": "python3"
  },
  "language_info": {
   "codemirror_mode": {
    "name": "ipython",
    "version": 3
   },
   "file_extension": ".py",
   "mimetype": "text/x-python",
   "name": "python",
   "nbconvert_exporter": "python",
   "pygments_lexer": "ipython3",
   "version": "3.11.3"
  },
  "orig_nbformat": 4
 },
 "nbformat": 4,
 "nbformat_minor": 2
}
