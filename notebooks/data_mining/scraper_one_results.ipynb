{
 "cells": [
  {
   "cell_type": "code",
   "execution_count": 32,
   "metadata": {},
   "outputs": [],
   "source": [
    "import requests\n",
    "from bs4 import BeautifulSoup\n",
    "import pandas as pd"
   ]
  },
  {
   "cell_type": "code",
   "execution_count": 33,
   "metadata": {},
   "outputs": [],
   "source": [
    "url = \"https://en.wikipedia.org/wiki/List_of_ONE_Championship_events#Events\"\n",
    "\n",
    "soup = BeautifulSoup(\n",
    "    requests.get(url).text,\n",
    "    \"html.parser\"\n",
    ")"
   ]
  },
  {
   "cell_type": "code",
   "execution_count": 34,
   "metadata": {},
   "outputs": [],
   "source": [
    "table = soup.find_all(\"table\", class_ = \"sortable\")[0]\n",
    "table_rows = table.find_all(\"tr\")[1:]"
   ]
  },
  {
   "cell_type": "code",
   "execution_count": 35,
   "metadata": {},
   "outputs": [],
   "source": [
    "anchors = [_.find_all(\"a\") for _ in table_rows if len(_.find_all(\"a\"))>0]\n",
    "cols = [\"link\", \"name\"]"
   ]
  },
  {
   "cell_type": "code",
   "execution_count": 36,
   "metadata": {},
   "outputs": [
    {
     "data": {
      "text/html": [
       "<div>\n",
       "<style scoped>\n",
       "    .dataframe tbody tr th:only-of-type {\n",
       "        vertical-align: middle;\n",
       "    }\n",
       "\n",
       "    .dataframe tbody tr th {\n",
       "        vertical-align: top;\n",
       "    }\n",
       "\n",
       "    .dataframe thead th {\n",
       "        text-align: right;\n",
       "    }\n",
       "</style>\n",
       "<table border=\"1\" class=\"dataframe\">\n",
       "  <thead>\n",
       "    <tr style=\"text-align: right;\">\n",
       "      <th></th>\n",
       "      <th>#</th>\n",
       "      <th>Event</th>\n",
       "      <th>Date</th>\n",
       "      <th>Venue</th>\n",
       "      <th>Location</th>\n",
       "      <th>Attendance</th>\n",
       "    </tr>\n",
       "  </thead>\n",
       "  <tbody>\n",
       "    <tr>\n",
       "      <th>0</th>\n",
       "      <td>253</td>\n",
       "      <td>ONE Fight Night 13: Allazov vs. Grigorian</td>\n",
       "      <td>August 5, 2023</td>\n",
       "      <td>Lumpinee Boxing Stadium</td>\n",
       "      <td>Bangkok, Thailand</td>\n",
       "      <td>NaN</td>\n",
       "    </tr>\n",
       "    <tr>\n",
       "      <th>1</th>\n",
       "      <td>252</td>\n",
       "      <td>ONE Fight Night 12</td>\n",
       "      <td>July 15, 2023</td>\n",
       "      <td>Lumpinee Boxing Stadium</td>\n",
       "      <td>Bangkok, Thailand</td>\n",
       "      <td>NaN</td>\n",
       "    </tr>\n",
       "    <tr>\n",
       "      <th>2</th>\n",
       "      <td>251</td>\n",
       "      <td>ONE Friday Fights 22: Bhullar vs. Malykhin</td>\n",
       "      <td>June 23, 2023</td>\n",
       "      <td>Lumpinee Boxing Stadium</td>\n",
       "      <td>Bangkok, Thailand</td>\n",
       "      <td>NaN</td>\n",
       "    </tr>\n",
       "  </tbody>\n",
       "</table>\n",
       "</div>"
      ],
      "text/plain": [
       "     #                                       Event            Date  \\\n",
       "0  253   ONE Fight Night 13: Allazov vs. Grigorian  August 5, 2023   \n",
       "1  252                          ONE Fight Night 12   July 15, 2023   \n",
       "2  251  ONE Friday Fights 22: Bhullar vs. Malykhin   June 23, 2023   \n",
       "\n",
       "                     Venue           Location Attendance  \n",
       "0  Lumpinee Boxing Stadium  Bangkok, Thailand        NaN  \n",
       "1  Lumpinee Boxing Stadium  Bangkok, Thailand        NaN  \n",
       "2  Lumpinee Boxing Stadium  Bangkok, Thailand        NaN  "
      ]
     },
     "execution_count": 36,
     "metadata": {},
     "output_type": "execute_result"
    }
   ],
   "source": [
    "raw_df = pd.read_csv(r\"C:\\Development\\ultimateNakMuay\\data\\raw\\wiki_events_onefc.csv\")\n",
    "raw_df.head(3)"
   ]
  },
  {
   "cell_type": "code",
   "execution_count": 37,
   "metadata": {},
   "outputs": [],
   "source": [
    "links_df = pd.DataFrame([(anchor[0].get(\"href\"), anchor[0].text) for anchor in anchors], columns=cols)"
   ]
  },
  {
   "cell_type": "code",
   "execution_count": 38,
   "metadata": {},
   "outputs": [],
   "source": [
    "clean_link = lambda x: f\"https://en.wikipedia.org/{x.split('#')[0]}\"\n",
    "links_df[\"link_clean\"] = links_df[\"link\"].apply(clean_link)\n",
    "links = links_df[\"link_clean\"].value_counts().reset_index().iloc[:,0]\n",
    "links = links.to_list()\n",
    "links = list(set([link for link in links if \"one_\" in link.lower()]))"
   ]
  },
  {
   "cell_type": "code",
   "execution_count": 39,
   "metadata": {},
   "outputs": [],
   "source": [
    "def scrapeTableM1(url):\n",
    "    soup = BeautifulSoup(requests.get(url).text)\n",
    "\n",
    "    events = soup.find_all(\n",
    "        lambda tag: tag.name == \"span\" and \n",
    "        (\"one \" in tag.text.lower() or \"fight card\" in tag.text.lower() or \"results\" in tag.text.lower())\n",
    "        and tag.get(\"class\") == [\"mw-headline\"]\n",
    "        )\n",
    "    \n",
    "    dfs = []\n",
    "\n",
    "    for event in events:\n",
    "        df = pd.read_html(str(event.find_next(\"table\", class_ = \"toccolours\")))[0]\n",
    "        if df.empty:\n",
    "            df = pd.read_html(str(event.find_next(\"table\", class_ = \"wikitable\")))[0]\n",
    "        df = df.assign(event_name = event.text)\n",
    "        df = df.assign(event_url = url)\n",
    "        dfs.append(df)\n",
    "\n",
    "    return pd.concat(dfs, ignore_index=True)"
   ]
  },
  {
   "cell_type": "code",
   "execution_count": 40,
   "metadata": {},
   "outputs": [],
   "source": [
    "m1_results = []\n",
    "failed_links = []\n",
    "for link in links:\n",
    "    try:\n",
    "        m1_results.append(scrapeTableM1(link))\n",
    "    except:\n",
    "        failed_links.append(link)"
   ]
  },
  {
   "cell_type": "code",
   "execution_count": 41,
   "metadata": {},
   "outputs": [],
   "source": [
    "def scrapeTableM2(url):\n",
    "    soup = BeautifulSoup(requests.get(url).text)\n",
    "    headers = soup.find_all(lambda tag: tag.name == \"h2\")\n",
    "    headers = [_ for _ in headers if _.find(lambda tag: tag.name == \"span\" and \"one\" in tag.text.lower()) != None]\n",
    "    headers = [\n",
    "        {header: header.find_next(lambda tag: tag.name==\"h3\" and tag.find(\"span\", id = \"Results\")!=None)}\n",
    "        for header in headers\n",
    "        ]\n",
    "    headers = [header for header in headers if header[list(header)[0]] != None]\n",
    "    dfs = []\n",
    "    for header in headers:\n",
    "        df = pd.read_html(str(list(header.values())[0].findNext(\"table\")))[0]\n",
    "        df = df.assign(event_name = list(header)[0].text.replace(\"[edit]\", \"\").strip())\n",
    "        dfs.append(df)\n",
    "\n",
    "    return pd.concat(dfs, ignore_index=True)"
   ]
  },
  {
   "cell_type": "code",
   "execution_count": 42,
   "metadata": {},
   "outputs": [],
   "source": [
    "m2_results = []\n",
    "for link in failed_links:\n",
    "    try:\n",
    "        m2_results.append(scrapeTableM2(link))\n",
    "    except:\n",
    "        print(link)"
   ]
  },
  {
   "cell_type": "code",
   "execution_count": 43,
   "metadata": {},
   "outputs": [
    {
     "data": {
      "text/plain": [
       "{9}"
      ]
     },
     "execution_count": 43,
     "metadata": {},
     "output_type": "execute_result"
    }
   ],
   "source": [
    "set([len(df.columns) for df in m2_results])"
   ]
  },
  {
   "cell_type": "code",
   "execution_count": 44,
   "metadata": {},
   "outputs": [],
   "source": [
    "for result in m1_results:\n",
    "    result.columns = [_[0] if _[1]==\"\" else _[1] for  _ in result.columns]"
   ]
  },
  {
   "cell_type": "code",
   "execution_count": 45,
   "metadata": {},
   "outputs": [],
   "source": [
    "for i, df in enumerate(m1_results):\n",
    "    if len(df.columns) == 18:\n",
    "        m1_results[i] = df.iloc[:,:-8]"
   ]
  },
  {
   "cell_type": "code",
   "execution_count": 46,
   "metadata": {},
   "outputs": [
    {
     "data": {
      "text/plain": [
       "{9}"
      ]
     },
     "execution_count": 46,
     "metadata": {},
     "output_type": "execute_result"
    }
   ],
   "source": [
    "set(len(df.columns) for df in m2_results)"
   ]
  },
  {
   "cell_type": "code",
   "execution_count": 47,
   "metadata": {},
   "outputs": [],
   "source": [
    "for result in m2_results:\n",
    "    result.columns = [_[0] if _[1]==\"\" else _[1] for  _ in result.columns]"
   ]
  },
  {
   "cell_type": "code",
   "execution_count": 48,
   "metadata": {},
   "outputs": [],
   "source": [
    "dfm1 = pd.concat(m1_results, ignore_index=True)\n",
    "dfm2 = pd.concat(m2_results, ignore_index=True)"
   ]
  },
  {
   "cell_type": "code",
   "execution_count": 65,
   "metadata": {},
   "outputs": [
    {
     "data": {
      "text/plain": [
       "['https://en.wikipedia.org//wiki/ONE_Friday_Fights_16',\n",
       " 'https://en.wikipedia.org//wiki/2021_in_ONE_Championship',\n",
       " 'https://en.wikipedia.org//wiki/2023_in_ONE_Championship',\n",
       " 'https://en.wikipedia.org//wiki/ONE_Friday_Fights_15',\n",
       " 'https://en.wikipedia.org//wiki/2017_in_ONE_Championship',\n",
       " 'https://en.wikipedia.org//wiki/ONE_Friday_Fights_14',\n",
       " 'https://en.wikipedia.org//wiki/ONE_Friday_Fights_13',\n",
       " 'https://en.wikipedia.org//wiki/ONE_Friday_Fights_12',\n",
       " 'https://en.wikipedia.org//wiki/ONE_Friday_Fights_18',\n",
       " 'https://en.wikipedia.org//wiki/ONE_Friday_Fights_17',\n",
       " 'https://en.wikipedia.org//wiki/ONE_Friday_Fights_8',\n",
       " 'https://en.wikipedia.org//wiki/2020_in_ONE_Championship',\n",
       " 'https://en.wikipedia.org//wiki/2018_in_ONE_Championship',\n",
       " 'https://en.wikipedia.org//wiki/2022_in_ONE_Championship',\n",
       " 'https://en.wikipedia.org//wiki/ONE_Friday_Fights_11',\n",
       " 'https://en.wikipedia.org//wiki/2019_in_ONE_Championship']"
      ]
     },
     "execution_count": 65,
     "metadata": {},
     "output_type": "execute_result"
    }
   ],
   "source": [
    "failed_links"
   ]
  },
  {
   "cell_type": "code",
   "execution_count": null,
   "metadata": {},
   "outputs": [],
   "source": []
  }
 ],
 "metadata": {
  "kernelspec": {
   "display_name": "ultimateNakMuay",
   "language": "python",
   "name": "python3"
  },
  "language_info": {
   "codemirror_mode": {
    "name": "ipython",
    "version": 3
   },
   "file_extension": ".py",
   "mimetype": "text/x-python",
   "name": "python",
   "nbconvert_exporter": "python",
   "pygments_lexer": "ipython3",
   "version": "3.11.3"
  },
  "orig_nbformat": 4
 },
 "nbformat": 4,
 "nbformat_minor": 2
}
