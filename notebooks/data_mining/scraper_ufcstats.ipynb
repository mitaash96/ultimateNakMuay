{
 "cells": [
  {
   "cell_type": "code",
   "execution_count": 1,
   "metadata": {},
   "outputs": [],
   "source": [
    "import requests\n",
    "from bs4 import BeautifulSoup"
   ]
  },
  {
   "cell_type": "code",
   "execution_count": 3,
   "metadata": {},
   "outputs": [],
   "source": [
    "url = \"http://ufcstats.com/statistics/events/completed?page=all\"\n",
    "response = requests.get(url)\n",
    "soup = BeautifulSoup(response.content, 'html.parser')\n",
    "event_table = soup.find('table', class_='b-statistics__table-events')\n",
    "rows = event_table.findAll(\"tr\")"
   ]
  },
  {
   "cell_type": "code",
   "execution_count": 52,
   "metadata": {},
   "outputs": [
    {
     "data": {
      "text/plain": [
       "['Name/date', 'Location']"
      ]
     },
     "execution_count": 52,
     "metadata": {},
     "output_type": "execute_result"
    }
   ],
   "source": [
    "columns =[_.text.strip() for _ in event_table.findAll(\"th\")]\n",
    "columns"
   ]
  },
  {
   "cell_type": "code",
   "execution_count": 75,
   "metadata": {},
   "outputs": [],
   "source": [
    "def makeData(row):\n",
    "    segments = row.find_all(\"td\", class_ = \"b-statistics__table-col\")\n",
    "    anchor = segments[0].find('a')\n",
    "    span = segments[0].find('span')\n",
    "    payload = {\n",
    "        \"event_name\": anchor.text.strip(),\n",
    "        \"event_details\": anchor[\"href\"],\n",
    "        \"event_date\": span.text.strip(),\n",
    "        \"event_locations\": segments[1].text.strip(),\n",
    "    }\n",
    "    return payload\n",
    "    \n",
    "       "
   ]
  },
  {
   "cell_type": "code",
   "execution_count": 78,
   "metadata": {},
   "outputs": [],
   "source": [
    "data = list(map(makeData, [row for row in rows if row.find('a')!=None]))"
   ]
  },
  {
   "cell_type": "code",
   "execution_count": 80,
   "metadata": {},
   "outputs": [
    {
     "data": {
      "text/plain": [
       "[{'event_name': 'UFC Fight Night: Kara-France vs. Albazi',\n",
       "  'event_details': 'http://ufcstats.com/event-details/7abe471b61725980',\n",
       "  'event_date': 'June 03, 2023',\n",
       "  'event_locations': 'Las Vegas, Nevada, USA'},\n",
       " {'event_name': 'UFC Fight Night: Dern vs. Hill',\n",
       "  'event_details': 'http://ufcstats.com/event-details/6f812143641ceff8',\n",
       "  'event_date': 'May 20, 2023',\n",
       "  'event_locations': 'Las Vegas, Nevada, USA'}]"
      ]
     },
     "execution_count": 80,
     "metadata": {},
     "output_type": "execute_result"
    }
   ],
   "source": [
    "data[:2]"
   ]
  },
  {
   "cell_type": "code",
   "execution_count": null,
   "metadata": {},
   "outputs": [],
   "source": []
  }
 ],
 "metadata": {
  "kernelspec": {
   "display_name": "ultimateNakMuay",
   "language": "python",
   "name": "python3"
  },
  "language_info": {
   "codemirror_mode": {
    "name": "ipython",
    "version": 3
   },
   "file_extension": ".py",
   "mimetype": "text/x-python",
   "name": "python",
   "nbconvert_exporter": "python",
   "pygments_lexer": "ipython3",
   "version": "3.11.3"
  },
  "orig_nbformat": 4
 },
 "nbformat": 4,
 "nbformat_minor": 2
}
