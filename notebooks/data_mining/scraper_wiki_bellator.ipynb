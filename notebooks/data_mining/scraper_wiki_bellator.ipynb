{
 "cells": [
  {
   "cell_type": "code",
   "execution_count": 1,
   "metadata": {},
   "outputs": [],
   "source": [
    "import requests\n",
    "from bs4 import BeautifulSoup\n",
    "import pandas as pd"
   ]
  },
  {
   "cell_type": "code",
   "execution_count": 6,
   "metadata": {},
   "outputs": [],
   "source": [
    "# Send a GET request to the Wikipedia page\n",
    "url = 'https://en.wikipedia.org/wiki/List_of_Bellator_MMA_events'\n",
    "response = requests.get(url)\n",
    "\n",
    "# Create a BeautifulSoup object with the HTML content\n",
    "soup = BeautifulSoup(response.text, 'html.parser')\n",
    "\n",
    "# Find the events table on the page\n",
    "events_table = soup.find('table', class_='wikitable')\n"
   ]
  },
  {
   "cell_type": "code",
   "execution_count": 21,
   "metadata": {},
   "outputs": [],
   "source": [
    "headers = [th.text.strip() for th in events_table.find_all(\"th\", scope=\"col\")[1:]]"
   ]
  },
  {
   "cell_type": "code",
   "execution_count": 27,
   "metadata": {},
   "outputs": [
    {
     "data": {
      "text/plain": [
       "'1'"
      ]
     },
     "execution_count": 27,
     "metadata": {},
     "output_type": "execute_result"
    }
   ],
   "source": [
    "events_table.find_all(\"tr\")[1:][-1].find('th').text.strip()"
   ]
  },
  {
   "cell_type": "code",
   "execution_count": 33,
   "metadata": {},
   "outputs": [],
   "source": [
    "rows = []\n",
    "for tr in events_table.find_all('tr')[1:]:\n",
    "    row = [tr.find('th').text.strip()]  if tr.find('th') != None else []\n",
    "    for td in tr.find_all('td'):\n",
    "        row.append(td.text.strip())\n",
    "    rows.append(row)"
   ]
  },
  {
   "cell_type": "code",
   "execution_count": 36,
   "metadata": {},
   "outputs": [
    {
     "data": {
      "text/plain": [
       "['Event', 'Date', 'Venue', 'Location', 'Attendance']"
      ]
     },
     "execution_count": 36,
     "metadata": {},
     "output_type": "execute_result"
    }
   ],
   "source": [
    "headers"
   ]
  },
  {
   "cell_type": "code",
   "execution_count": 43,
   "metadata": {},
   "outputs": [],
   "source": [
    "headers = [\"EventID\", *headers]"
   ]
  },
  {
   "cell_type": "code",
   "execution_count": 45,
   "metadata": {},
   "outputs": [],
   "source": [
    "df = pd.DataFrame(rows, columns=headers)"
   ]
  },
  {
   "cell_type": "code",
   "execution_count": 46,
   "metadata": {},
   "outputs": [
    {
     "data": {
      "text/html": [
       "<div>\n",
       "<style scoped>\n",
       "    .dataframe tbody tr th:only-of-type {\n",
       "        vertical-align: middle;\n",
       "    }\n",
       "\n",
       "    .dataframe tbody tr th {\n",
       "        vertical-align: top;\n",
       "    }\n",
       "\n",
       "    .dataframe thead th {\n",
       "        text-align: right;\n",
       "    }\n",
       "</style>\n",
       "<table border=\"1\" class=\"dataframe\">\n",
       "  <thead>\n",
       "    <tr style=\"text-align: right;\">\n",
       "      <th></th>\n",
       "      <th>EventID</th>\n",
       "      <th>Event</th>\n",
       "      <th>Date</th>\n",
       "      <th>Venue</th>\n",
       "      <th>Location</th>\n",
       "      <th>Attendance</th>\n",
       "    </tr>\n",
       "  </thead>\n",
       "  <tbody>\n",
       "    <tr>\n",
       "      <th>0</th>\n",
       "      <td>305</td>\n",
       "      <td>Bellator 299</td>\n",
       "      <td>September 23, 2023</td>\n",
       "      <td>3Arena</td>\n",
       "      <td>Dublin, Ireland</td>\n",
       "      <td>None</td>\n",
       "    </tr>\n",
       "    <tr>\n",
       "      <th>1</th>\n",
       "      <td>304</td>\n",
       "      <td>Bellator 298</td>\n",
       "      <td>August 11, 2023</td>\n",
       "      <td>Sanford Pentagon</td>\n",
       "      <td>Sioux Falls, South Dakota, U.S.</td>\n",
       "      <td></td>\n",
       "    </tr>\n",
       "    <tr>\n",
       "      <th>2</th>\n",
       "      <td>303</td>\n",
       "      <td>Bellator MMA x Rizin 2</td>\n",
       "      <td>July 30, 2023</td>\n",
       "      <td>Saitama Super Arena</td>\n",
       "      <td>Saitama, Japan</td>\n",
       "      <td></td>\n",
       "    </tr>\n",
       "    <tr>\n",
       "      <th>3</th>\n",
       "      <td>302</td>\n",
       "      <td>Bellator 297</td>\n",
       "      <td>June 16, 2023</td>\n",
       "      <td>Wintrust Arena</td>\n",
       "      <td>Chicago, Illinois, U.S.</td>\n",
       "      <td></td>\n",
       "    </tr>\n",
       "    <tr>\n",
       "      <th>4</th>\n",
       "      <td>301</td>\n",
       "      <td>Bellator 296</td>\n",
       "      <td>May 12, 2023</td>\n",
       "      <td>Accor Arena</td>\n",
       "      <td>Paris, France</td>\n",
       "      <td></td>\n",
       "    </tr>\n",
       "    <tr>\n",
       "      <th>...</th>\n",
       "      <td>...</td>\n",
       "      <td>...</td>\n",
       "      <td>...</td>\n",
       "      <td>...</td>\n",
       "      <td>...</td>\n",
       "      <td>...</td>\n",
       "    </tr>\n",
       "    <tr>\n",
       "      <th>312</th>\n",
       "      <td>5</td>\n",
       "      <td>Bellator 5</td>\n",
       "      <td>May 1, 2009</td>\n",
       "      <td>Hara Arena</td>\n",
       "      <td>Dayton, Ohio, U.S.</td>\n",
       "      <td></td>\n",
       "    </tr>\n",
       "    <tr>\n",
       "      <th>313</th>\n",
       "      <td>4</td>\n",
       "      <td>Bellator 4</td>\n",
       "      <td>April 17, 2009</td>\n",
       "      <td>Lloyd Noble Center</td>\n",
       "      <td>Norman, Oklahoma, U.S.</td>\n",
       "      <td>3,850</td>\n",
       "    </tr>\n",
       "    <tr>\n",
       "      <th>314</th>\n",
       "      <td>3</td>\n",
       "      <td>Bellator 3</td>\n",
       "      <td>4,297</td>\n",
       "      <td>None</td>\n",
       "      <td>None</td>\n",
       "      <td>None</td>\n",
       "    </tr>\n",
       "    <tr>\n",
       "      <th>315</th>\n",
       "      <td>2</td>\n",
       "      <td>Bellator 2</td>\n",
       "      <td>April 10, 2009</td>\n",
       "      <td>Mohegan Sun Arena</td>\n",
       "      <td>Uncasville, Connecticut, U.S.</td>\n",
       "      <td>1,283</td>\n",
       "    </tr>\n",
       "    <tr>\n",
       "      <th>316</th>\n",
       "      <td>1</td>\n",
       "      <td>Bellator 1</td>\n",
       "      <td>April 3, 2009</td>\n",
       "      <td>Seminole Hard Rock Hotel &amp; Casino</td>\n",
       "      <td>Hollywood, Florida, U.S.</td>\n",
       "      <td>1,756</td>\n",
       "    </tr>\n",
       "  </tbody>\n",
       "</table>\n",
       "<p>317 rows × 6 columns</p>\n",
       "</div>"
      ],
      "text/plain": [
       "    EventID                   Event                Date  \\\n",
       "0       305            Bellator 299  September 23, 2023   \n",
       "1       304            Bellator 298     August 11, 2023   \n",
       "2       303  Bellator MMA x Rizin 2       July 30, 2023   \n",
       "3       302            Bellator 297       June 16, 2023   \n",
       "4       301            Bellator 296        May 12, 2023   \n",
       "..      ...                     ...                 ...   \n",
       "312       5              Bellator 5         May 1, 2009   \n",
       "313       4              Bellator 4      April 17, 2009   \n",
       "314       3              Bellator 3               4,297   \n",
       "315       2              Bellator 2      April 10, 2009   \n",
       "316       1              Bellator 1       April 3, 2009   \n",
       "\n",
       "                                 Venue                         Location  \\\n",
       "0                               3Arena                  Dublin, Ireland   \n",
       "1                     Sanford Pentagon  Sioux Falls, South Dakota, U.S.   \n",
       "2                  Saitama Super Arena                   Saitama, Japan   \n",
       "3                       Wintrust Arena          Chicago, Illinois, U.S.   \n",
       "4                          Accor Arena                    Paris, France   \n",
       "..                                 ...                              ...   \n",
       "312                         Hara Arena               Dayton, Ohio, U.S.   \n",
       "313                 Lloyd Noble Center           Norman, Oklahoma, U.S.   \n",
       "314                               None                             None   \n",
       "315                  Mohegan Sun Arena    Uncasville, Connecticut, U.S.   \n",
       "316  Seminole Hard Rock Hotel & Casino         Hollywood, Florida, U.S.   \n",
       "\n",
       "    Attendance  \n",
       "0         None  \n",
       "1               \n",
       "2               \n",
       "3               \n",
       "4               \n",
       "..         ...  \n",
       "312             \n",
       "313      3,850  \n",
       "314       None  \n",
       "315      1,283  \n",
       "316      1,756  \n",
       "\n",
       "[317 rows x 6 columns]"
      ]
     },
     "execution_count": 46,
     "metadata": {},
     "output_type": "execute_result"
    }
   ],
   "source": [
    "df"
   ]
  },
  {
   "cell_type": "code",
   "execution_count": null,
   "metadata": {},
   "outputs": [],
   "source": []
  }
 ],
 "metadata": {
  "kernelspec": {
   "display_name": "ultimateNakMuay",
   "language": "python",
   "name": "python3"
  },
  "language_info": {
   "codemirror_mode": {
    "name": "ipython",
    "version": 3
   },
   "file_extension": ".py",
   "mimetype": "text/x-python",
   "name": "python",
   "nbconvert_exporter": "python",
   "pygments_lexer": "ipython3",
   "version": "3.11.3"
  },
  "orig_nbformat": 4
 },
 "nbformat": 4,
 "nbformat_minor": 2
}
