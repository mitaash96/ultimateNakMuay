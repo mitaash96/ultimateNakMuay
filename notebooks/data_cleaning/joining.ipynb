{
 "cells": [
  {
   "cell_type": "code",
   "execution_count": 1,
   "metadata": {},
   "outputs": [],
   "source": [
    "from pyspark.sql import SparkSession\n",
    "from pyspark.sql import functions as F\n",
    "from pyspark.sql import types as T\n",
    "import os\n",
    "import re"
   ]
  },
  {
   "cell_type": "code",
   "execution_count": 2,
   "metadata": {},
   "outputs": [],
   "source": [
    "spark = SparkSession.builder.master(\"local[*]\").getOrCreate()"
   ]
  },
  {
   "cell_type": "code",
   "execution_count": 3,
   "metadata": {},
   "outputs": [],
   "source": [
    "def find_csv_files(folder_path):\n",
    "    csv_files = []\n",
    "    for root, dirs, files in os.walk(folder_path):\n",
    "        for file in files:\n",
    "            if file.endswith('.csv'):\n",
    "                csv_files.append(os.path.join(root, file))\n",
    "    return csv_files"
   ]
  },
  {
   "cell_type": "code",
   "execution_count": 4,
   "metadata": {},
   "outputs": [],
   "source": [
    "def show(df, limit=10):\n",
    "    return df.toPandas().head(limit)"
   ]
  },
  {
   "cell_type": "code",
   "execution_count": 5,
   "metadata": {},
   "outputs": [],
   "source": [
    "def roman_to_int(roman):\n",
    "    roman_mapping = {\n",
    "        'I': 1,\n",
    "        'II': 2,\n",
    "        'III': 3,\n",
    "        'IV': 4,\n",
    "        'V': 5,\n",
    "        'VI': 6,\n",
    "        'VII': 7,\n",
    "        'VIII': 8,\n",
    "        'IX': 9,\n",
    "        'X': 10\n",
    "    }\n",
    "    pattern = r'\\b(I{1,3}|IV|V|VI{0,3}|IX|X)\\b'\n",
    "    \n",
    "    def replace(match):\n",
    "        return str(roman_mapping[match.group(0)])\n",
    "    \n",
    "    return re.sub(pattern, replace, roman)"
   ]
  },
  {
   "cell_type": "code",
   "execution_count": 6,
   "metadata": {},
   "outputs": [],
   "source": [
    "folder = r\"C:\\Development\\ultimateNakMuay\\data\\processed\"\n",
    "files = find_csv_files(folder)"
   ]
  },
  {
   "cell_type": "code",
   "execution_count": 7,
   "metadata": {},
   "outputs": [],
   "source": [
    "files = files[2:]"
   ]
  },
  {
   "cell_type": "code",
   "execution_count": 8,
   "metadata": {},
   "outputs": [],
   "source": [
    "organizations = [\"ufc\", \"onefc\", \"bellator\", \"glory\"]\n",
    "\n",
    "organizations = {\n",
    "    k:{\n",
    "        \"event\": spark.read.csv(list(filter(lambda x: \"event\" in x and k in x, files))[0], header=True),\n",
    "        \"result\": spark.read.csv(list(filter(lambda x: \"result\" in x and k in x, files))[0], header=True),\n",
    "        }\n",
    "    for k in organizations\n",
    "}"
   ]
  },
  {
   "cell_type": "code",
   "execution_count": 9,
   "metadata": {},
   "outputs": [],
   "source": [
    "def get_data(org):\n",
    "    return organizations[org][\"event\"], organizations[org][\"result\"]"
   ]
  },
  {
   "cell_type": "code",
   "execution_count": 39,
   "metadata": {},
   "outputs": [],
   "source": [
    "event, result = get_data(\"onefc\")"
   ]
  },
  {
   "cell_type": "code",
   "execution_count": 40,
   "metadata": {},
   "outputs": [],
   "source": [
    "event = event.withColumn(\"ejc1\", F.element_at(F.split(F.col(\"event\"), \":\"), 1))\\\n",
    "    .withColumn(\"event\", F.regexp_replace(F.col(\"event\"), \"ONE:\", \"ONE Championship:\"))\\\n",
    "    .withColumn(\"ejc4\", F.udf(lambda x: roman_to_int(x), T.StringType())(F.col(\"event\")))\\\n",
    "    .withColumn(\"ejc2\", F.lower(F.trim(F.element_at(F.split(F.col(\"event\"), \":\"), -1))))\\\n",
    "    .withColumn(\n",
    "        \"ejc3\", F.when(\n",
    "            F.col(\"event\").contains(\"Hero Series\"),\n",
    "            F.concat(\n",
    "                F.regexp_extract(F.col(\"event\"), r\"^(ONE Hero Series)\", 1),\n",
    "                F.lit(\" \"),\n",
    "                F.date_format(F.col(\"date\"), \"MMMM\")\n",
    "                )\n",
    "            ).otherwise(F.lit(None))\n",
    "        )"
   ]
  },
  {
   "cell_type": "code",
   "execution_count": 41,
   "metadata": {},
   "outputs": [],
   "source": [
    "result = result.withColumn(\"event_name\", F.regexp_replace(F.col(\"event_name\"), \"Road to ONE:\", \"Road to ONE Championship:\"))\\\n",
    "    .withColumn(\"rjc1\", F.lower(F.trim(F.element_at(F.split(F.col(\"event_name\"), \":\"), -1))))"
   ]
  },
  {
   "cell_type": "code",
   "execution_count": 42,
   "metadata": {},
   "outputs": [],
   "source": [
    "manual_event_name_corrections = [\n",
    "    (\"2011 in ONE Championship\", \"ONE Fighting Championship 1: Champion vs. Champion\"),\n",
    "    (\"Road to ONE Championship: Night of Warriors 17\",\"Road to ONE 8: Night of Warriors\"),    \n",
    "]\n",
    "\n",
    "for _ in manual_event_name_corrections:\n",
    "    result = result.withColumn(\"event_name\", F.regexp_replace(F.col(\"event_name\"), _[0], _[1]))"
   ]
  },
  {
   "cell_type": "code",
   "execution_count": 43,
   "metadata": {},
   "outputs": [],
   "source": [
    "join_conditions = (\n",
    "    (event.event == result.event_name)\n",
    "    |(event.ejc1 == result.event_name)\n",
    "    |(event.ejc2 == result.rjc1)\n",
    "    |(event.ejc4 == result.event_name)\n",
    "    )\n",
    "dbg = event.select(\"event\", \"ejc1\", \"ejc2\", \"ejc3\", \"ejc4\").distinct().join(\n",
    "    result.select(\"event_name\", \"rjc1\").distinct(), join_conditions, \"full_outer\"\n",
    ")"
   ]
  },
  {
   "cell_type": "code",
   "execution_count": 44,
   "metadata": {},
   "outputs": [],
   "source": [
    "hsdf = dbg.filter(F.col(\"ejc3\").isNotNull() & F.col(\"event_name\").isNull())\n",
    "dbg = dbg.subtract(hsdf).filter(~(F.col(\"ejc3\").isNull() & F.col(\"event_name\").contains(\"Hero Series\")))\n",
    "\n",
    "hsdf = hsdf.select(\"event\", \"ejc1\", \"ejc2\", \"ejc3\", \"ejc4\")\n",
    "\n",
    "hsdf = hsdf.join(result.select(\"event_name\", \"rjc1\").distinct(), hsdf.ejc3 == result.event_name, \"left\")\n",
    "\n",
    "dbg = dbg.unionByName(hsdf)"
   ]
  },
  {
   "cell_type": "code",
   "execution_count": 45,
   "metadata": {},
   "outputs": [],
   "source": [
    "df = event.join(result, on=join_conditions, how=\"left\")\n",
    "\n",
    "hsdf = df.filter(F.col(\"ejc3\").isNotNull() & F.col(\"event_name\").isNull())\n",
    "df = df.subtract(hsdf)\n",
    "hsdf = hsdf.select(*event.columns)\n",
    "\n",
    "hsdf = hsdf.join(result, hsdf.ejc3 == result.event_name, \"left\")\n",
    "\n",
    "df = df.unionByName(hsdf)"
   ]
  },
  {
   "cell_type": "code",
   "execution_count": 57,
   "metadata": {},
   "outputs": [],
   "source": [
    "df = df.withColumn(\"event_num\", F.regexp_replace(F.col(\"event_num\"), \"–\", \"cancelled\"))"
   ]
  },
  {
   "cell_type": "code",
   "execution_count": 58,
   "metadata": {},
   "outputs": [
    {
     "data": {
      "text/html": [
       "<div>\n",
       "<style scoped>\n",
       "    .dataframe tbody tr th:only-of-type {\n",
       "        vertical-align: middle;\n",
       "    }\n",
       "\n",
       "    .dataframe tbody tr th {\n",
       "        vertical-align: top;\n",
       "    }\n",
       "\n",
       "    .dataframe thead th {\n",
       "        text-align: right;\n",
       "    }\n",
       "</style>\n",
       "<table border=\"1\" class=\"dataframe\">\n",
       "  <thead>\n",
       "    <tr style=\"text-align: right;\">\n",
       "      <th></th>\n",
       "      <th>event_num</th>\n",
       "      <th>event</th>\n",
       "      <th>date</th>\n",
       "    </tr>\n",
       "  </thead>\n",
       "  <tbody>\n",
       "    <tr>\n",
       "      <th>0</th>\n",
       "      <td>cancelled</td>\n",
       "      <td>ONE Championship: Battle for the Ages</td>\n",
       "      <td>2020-06-05</td>\n",
       "    </tr>\n",
       "    <tr>\n",
       "      <th>1</th>\n",
       "      <td>cancelled</td>\n",
       "      <td>ONE Championship: Dreams</td>\n",
       "      <td>2020-05-01</td>\n",
       "    </tr>\n",
       "    <tr>\n",
       "      <th>2</th>\n",
       "      <td>cancelled</td>\n",
       "      <td>ONE Championship: Dynasty of Champions (Shanghai)</td>\n",
       "      <td>2015-09-17</td>\n",
       "    </tr>\n",
       "    <tr>\n",
       "      <th>3</th>\n",
       "      <td>cancelled</td>\n",
       "      <td>ONE Championship: Heart of Heroes</td>\n",
       "      <td>2020-06-26</td>\n",
       "    </tr>\n",
       "    <tr>\n",
       "      <th>4</th>\n",
       "      <td>cancelled</td>\n",
       "      <td>ONE Championship: Hope</td>\n",
       "      <td>2020-04-17</td>\n",
       "    </tr>\n",
       "    <tr>\n",
       "      <th>5</th>\n",
       "      <td>cancelled</td>\n",
       "      <td>ONE Championship: Infinity 1</td>\n",
       "      <td>2020-04-10</td>\n",
       "    </tr>\n",
       "    <tr>\n",
       "      <th>6</th>\n",
       "      <td>cancelled</td>\n",
       "      <td>ONE Championship: Infinity 2</td>\n",
       "      <td>2020-06-19</td>\n",
       "    </tr>\n",
       "    <tr>\n",
       "      <th>7</th>\n",
       "      <td>cancelled</td>\n",
       "      <td>ONE Championship: Inspiration</td>\n",
       "      <td>2020-05-08</td>\n",
       "    </tr>\n",
       "    <tr>\n",
       "      <th>8</th>\n",
       "      <td>cancelled</td>\n",
       "      <td>ONE Championship: Legendary Warriors</td>\n",
       "      <td>2020-06-19</td>\n",
       "    </tr>\n",
       "    <tr>\n",
       "      <th>9</th>\n",
       "      <td>cancelled</td>\n",
       "      <td>ONE Championship: Strength</td>\n",
       "      <td>2020-04-24</td>\n",
       "    </tr>\n",
       "  </tbody>\n",
       "</table>\n",
       "</div>"
      ],
      "text/plain": [
       "   event_num                                              event        date\n",
       "0  cancelled              ONE Championship: Battle for the Ages  2020-06-05\n",
       "1  cancelled                           ONE Championship: Dreams  2020-05-01\n",
       "2  cancelled  ONE Championship: Dynasty of Champions (Shanghai)  2015-09-17\n",
       "3  cancelled                  ONE Championship: Heart of Heroes  2020-06-26\n",
       "4  cancelled                             ONE Championship: Hope  2020-04-17\n",
       "5  cancelled                       ONE Championship: Infinity 1  2020-04-10\n",
       "6  cancelled                       ONE Championship: Infinity 2  2020-06-19\n",
       "7  cancelled                      ONE Championship: Inspiration  2020-05-08\n",
       "8  cancelled               ONE Championship: Legendary Warriors  2020-06-19\n",
       "9  cancelled                         ONE Championship: Strength  2020-04-24"
      ]
     },
     "execution_count": 58,
     "metadata": {},
     "output_type": "execute_result"
    }
   ],
   "source": [
    "show(df\\\n",
    "    .filter(F.col(\"event_name\").isNull())\\\n",
    "    .select(\"event_num\", \"event\", \"date\")\\\n",
    "    .distinct()\\\n",
    "    .orderBy(F.col(\"event\").asc()))"
   ]
  },
  {
   "cell_type": "code",
   "execution_count": null,
   "metadata": {},
   "outputs": [],
   "source": []
  }
 ],
 "metadata": {
  "kernelspec": {
   "display_name": "ultimateNakMuay",
   "language": "python",
   "name": "python3"
  },
  "language_info": {
   "codemirror_mode": {
    "name": "ipython",
    "version": 3
   },
   "file_extension": ".py",
   "mimetype": "text/x-python",
   "name": "python",
   "nbconvert_exporter": "python",
   "pygments_lexer": "ipython3",
   "version": "3.11.3"
  },
  "orig_nbformat": 4
 },
 "nbformat": 4,
 "nbformat_minor": 2
}
