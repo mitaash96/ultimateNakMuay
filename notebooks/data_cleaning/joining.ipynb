{
 "cells": [
  {
   "cell_type": "code",
   "execution_count": 11,
   "metadata": {},
   "outputs": [],
   "source": [
    "from pyspark.sql import SparkSession\n",
    "from pyspark.sql import functions as F\n",
    "from pyspark.sql import types as T\n",
    "import os"
   ]
  },
  {
   "cell_type": "code",
   "execution_count": 12,
   "metadata": {},
   "outputs": [],
   "source": [
    "spark = SparkSession.builder.master(\"local[*]\").getOrCreate()"
   ]
  },
  {
   "cell_type": "code",
   "execution_count": 13,
   "metadata": {},
   "outputs": [],
   "source": [
    "def find_csv_files(folder_path):\n",
    "    csv_files = []\n",
    "    for root, dirs, files in os.walk(folder_path):\n",
    "        for file in files:\n",
    "            if file.endswith('.csv'):\n",
    "                csv_files.append(os.path.join(root, file))\n",
    "    return csv_files"
   ]
  },
  {
   "cell_type": "code",
   "execution_count": 14,
   "metadata": {},
   "outputs": [],
   "source": [
    "folder = r\"C:\\Development\\ultimateNakMuay\\data\\processed\"\n",
    "files = find_csv_files(folder)"
   ]
  },
  {
   "cell_type": "code",
   "execution_count": 15,
   "metadata": {},
   "outputs": [],
   "source": [
    "files = files[2:]"
   ]
  },
  {
   "cell_type": "code",
   "execution_count": 16,
   "metadata": {},
   "outputs": [
    {
     "data": {
      "text/plain": [
       "['C:\\\\Development\\\\ultimateNakMuay\\\\data\\\\processed\\\\wiki_events_bellator.csv',\n",
       " 'C:\\\\Development\\\\ultimateNakMuay\\\\data\\\\processed\\\\wiki_events_glory.csv',\n",
       " 'C:\\\\Development\\\\ultimateNakMuay\\\\data\\\\processed\\\\wiki_events_onefc.csv',\n",
       " 'C:\\\\Development\\\\ultimateNakMuay\\\\data\\\\processed\\\\wiki_events_thai_fight.csv',\n",
       " 'C:\\\\Development\\\\ultimateNakMuay\\\\data\\\\processed\\\\wiki_events_ufc.csv',\n",
       " 'C:\\\\Development\\\\ultimateNakMuay\\\\data\\\\processed\\\\wiki_fc_ufc.csv',\n",
       " 'C:\\\\Development\\\\ultimateNakMuay\\\\data\\\\processed\\\\wiki_results_bellator.csv',\n",
       " 'C:\\\\Development\\\\ultimateNakMuay\\\\data\\\\processed\\\\wiki_results_glory.csv',\n",
       " 'C:\\\\Development\\\\ultimateNakMuay\\\\data\\\\processed\\\\wiki_results_onefc.csv',\n",
       " 'C:\\\\Development\\\\ultimateNakMuay\\\\data\\\\processed\\\\wiki_results_ufc.csv']"
      ]
     },
     "execution_count": 16,
     "metadata": {},
     "output_type": "execute_result"
    }
   ],
   "source": [
    "files"
   ]
  },
  {
   "cell_type": "code",
   "execution_count": 10,
   "metadata": {},
   "outputs": [
    {
     "data": {
      "text/plain": [
       "['C:\\\\Development\\\\ultimateNakMuay\\\\data\\\\processed\\\\wiki_events_bellator.csv',\n",
       " 'C:\\\\Development\\\\ultimateNakMuay\\\\data\\\\processed\\\\wiki_events_glory.csv',\n",
       " 'C:\\\\Development\\\\ultimateNakMuay\\\\data\\\\processed\\\\wiki_events_onefc.csv',\n",
       " 'C:\\\\Development\\\\ultimateNakMuay\\\\data\\\\processed\\\\wiki_events_thai_fight.csv',\n",
       " 'C:\\\\Development\\\\ultimateNakMuay\\\\data\\\\processed\\\\wiki_events_ufc.csv',\n",
       " 'C:\\\\Development\\\\ultimateNakMuay\\\\data\\\\processed\\\\wiki_fc_ufc.csv',\n",
       " 'C:\\\\Development\\\\ultimateNakMuay\\\\data\\\\processed\\\\wiki_results_bellator.csv',\n",
       " 'C:\\\\Development\\\\ultimateNakMuay\\\\data\\\\processed\\\\wiki_results_glory.csv',\n",
       " 'C:\\\\Development\\\\ultimateNakMuay\\\\data\\\\processed\\\\wiki_results_onefc.csv']"
      ]
     },
     "execution_count": 10,
     "metadata": {},
     "output_type": "execute_result"
    }
   ],
   "source": [
    "organizations = [\"ufc\", \"onefc\", \"bellator\", \"glory\"]\n",
    "\n",
    "organizations = {k:{\n",
    "    \"event\": \n",
    "}}"
   ]
  },
  {
   "cell_type": "code",
   "execution_count": null,
   "metadata": {},
   "outputs": [],
   "source": []
  }
 ],
 "metadata": {
  "kernelspec": {
   "display_name": "ultimateNakMuay",
   "language": "python",
   "name": "python3"
  },
  "language_info": {
   "codemirror_mode": {
    "name": "ipython",
    "version": 3
   },
   "file_extension": ".py",
   "mimetype": "text/x-python",
   "name": "python",
   "nbconvert_exporter": "python",
   "pygments_lexer": "ipython3",
   "version": "3.11.3"
  },
  "orig_nbformat": 4
 },
 "nbformat": 4,
 "nbformat_minor": 2
}
