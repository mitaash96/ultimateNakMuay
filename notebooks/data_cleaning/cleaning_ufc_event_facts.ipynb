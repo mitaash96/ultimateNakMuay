{
 "cells": [
  {
   "cell_type": "code",
   "execution_count": 1,
   "metadata": {},
   "outputs": [],
   "source": [
    "from pyspark.sql import SparkSession"
   ]
  },
  {
   "cell_type": "code",
   "execution_count": 2,
   "metadata": {},
   "outputs": [],
   "source": [
    "spark = SparkSession.builder.getOrCreate()"
   ]
  },
  {
   "cell_type": "code",
   "execution_count": 3,
   "metadata": {},
   "outputs": [],
   "source": [
    "df_events = r\"C:\\Development\\ultimateNakMuay\\data\\processed\\wiki_events_ufc.csv\"\n",
    "df_fc = r\"C:\\Development\\ultimateNakMuay\\data\\processed\\wiki_fc_ufc.csv\""
   ]
  },
  {
   "cell_type": "code",
   "execution_count": 4,
   "metadata": {},
   "outputs": [],
   "source": [
    "df_events = spark.read.csv(df_events, header=True)\n",
    "df_fc = spark.read.csv(df_fc, header=True)"
   ]
  },
  {
   "cell_type": "code",
   "execution_count": 5,
   "metadata": {},
   "outputs": [
    {
     "name": "stdout",
     "output_type": "stream",
     "text": [
      "+--------------------+---------+--------------------+----------+--------+--------------------+----------+--------------------+----------------+--------------------+--------------------+-----+----+-----+--------------------+--------------------+\n",
      "|            event_id|event_num|               event|      date|   venue|            location|attendance|        weight_class|          winner|               loser|              method|round|time|notes|          fight_card|          event_name|\n",
      "+--------------------+---------+--------------------+----------+--------+--------------------+----------+--------------------+----------------+--------------------+--------------------+-----+----+-----+--------------------+--------------------+\n",
      "|58cb1f65abe0d87d6...|      644|UFC Fight Night: ...|2023-04-22|UFC Apex|Las Vegas, Nevada...|      null|         Heavyweight|Sergei Pavlovich|      Curtis Blaydes|       TKO (punches)|    1|3:08| null|           Main card|UFC Fight Night: ...|\n",
      "|58cb1f65abe0d87d6...|      644|UFC Fight Night: ...|2023-04-22|UFC Apex|Las Vegas, Nevada...|      null|        Middleweight|     Bruno Silva|        Brad Tavares|TKO (knee and punch)|    1|3:35| null|           Main card|UFC Fight Night: ...|\n",
      "|58cb1f65abe0d87d6...|      644|UFC Fight Night: ...|2023-04-22|UFC Apex|Las Vegas, Nevada...|      null|         Lightweight|     Bobby Green|        Jared Gordon|No Contest (accid...|    1|4:35|  [a]|           Main card|UFC Fight Night: ...|\n",
      "|58cb1f65abe0d87d6...|      644|UFC Fight Night: ...|2023-04-22|UFC Apex|Las Vegas, Nevada...|      null|   Women's Flyweight|  Iasmin Lucindo|Brogan Walker-San...|Decision (unanimo...|    3|5:00| null|           Main card|UFC Fight Night: ...|\n",
      "|58cb1f65abe0d87d6...|      644|UFC Fight Night: ...|2023-04-22|UFC Apex|Las Vegas, Nevada...|      null|        Welterweight|  Jeremiah Wells|Matthew Semelsberger|Decision (split) ...|    3|5:00| null|           Main card|UFC Fight Night: ...|\n",
      "|58cb1f65abe0d87d6...|      644|UFC Fight Night: ...|2023-04-22|UFC Apex|Las Vegas, Nevada...|      null|         Lightweight| Christos Giagos|         Ricky Glenn|          KO (punch)|    1|1:35| null|Preliminary Card ...|UFC Fight Night: ...|\n",
      "|58cb1f65abe0d87d6...|      644|UFC Fight Night: ...|2023-04-22|UFC Apex|Las Vegas, Nevada...|      null|        Bantamweight|  Montel Jackson|          Rani Yahya|        KO (punches)|    1|3:42| null|Preliminary Card ...|UFC Fight Night: ...|\n",
      "|58cb1f65abe0d87d6...|      644|UFC Fight Night: ...|2023-04-22|UFC Apex|Las Vegas, Nevada...|      null|Women's Featherwe...|    Norma Dumont|          Karol Rosa|Decision (unanimo...|    3|5:00| null|Preliminary Card ...|UFC Fight Night: ...|\n",
      "|58cb1f65abe0d87d6...|      644|UFC Fight Night: ...|2023-04-22|UFC Apex|Las Vegas, Nevada...|      null|         Heavyweight|  Mohammad Usman|         Junior Tafa|Decision (unanimo...|    3|5:00| null|Preliminary Card ...|UFC Fight Night: ...|\n",
      "|58cb1f65abe0d87d6...|      644|UFC Fight Night: ...|2023-04-22|UFC Apex|Las Vegas, Nevada...|      null|Catchweight (147 lb)|   William Gomis|    Francis Marshall|Decision (split) ...|    3|5:00| null|Preliminary Card ...|UFC Fight Night: ...|\n",
      "+--------------------+---------+--------------------+----------+--------+--------------------+----------+--------------------+----------------+--------------------+--------------------+-----+----+-----+--------------------+--------------------+\n",
      "only showing top 10 rows\n",
      "\n"
     ]
    }
   ],
   "source": [
    "df = df_events.join(df_fc, on=[\"event_id\"], how=\"inner\")\n",
    "\n",
    "df.show(10)"
   ]
  },
  {
   "cell_type": "code",
   "execution_count": 6,
   "metadata": {},
   "outputs": [
    {
     "data": {
      "text/plain": [
       "7126"
      ]
     },
     "execution_count": 6,
     "metadata": {},
     "output_type": "execute_result"
    }
   ],
   "source": [
    "df.count()"
   ]
  },
  {
   "cell_type": "code",
   "execution_count": null,
   "metadata": {},
   "outputs": [],
   "source": []
  }
 ],
 "metadata": {
  "kernelspec": {
   "display_name": "ultimateNakMuay",
   "language": "python",
   "name": "python3"
  },
  "language_info": {
   "codemirror_mode": {
    "name": "ipython",
    "version": 3
   },
   "file_extension": ".py",
   "mimetype": "text/x-python",
   "name": "python",
   "nbconvert_exporter": "python",
   "pygments_lexer": "ipython3",
   "version": "3.11.3"
  },
  "orig_nbformat": 4
 },
 "nbformat": 4,
 "nbformat_minor": 2
}
