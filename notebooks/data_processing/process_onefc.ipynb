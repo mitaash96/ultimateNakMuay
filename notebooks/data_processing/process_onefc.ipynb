{
 "cells": [
  {
   "cell_type": "code",
   "execution_count": 1,
   "metadata": {},
   "outputs": [],
   "source": [
    "from pyspark.sql import SparkSession\n",
    "from pyspark.sql import types as T\n",
    "from pyspark.sql import functions as F"
   ]
  },
  {
   "cell_type": "code",
   "execution_count": 2,
   "metadata": {},
   "outputs": [],
   "source": [
    "def show(df, limit = 5):\n",
    "    return df.toPandas().head(limit)"
   ]
  },
  {
   "cell_type": "code",
   "execution_count": 3,
   "metadata": {},
   "outputs": [],
   "source": [
    "spark = SparkSession.builder.master(\"local[*]\").getOrCreate()"
   ]
  },
  {
   "cell_type": "code",
   "execution_count": 10,
   "metadata": {},
   "outputs": [],
   "source": [
    "events = spark.read.csv(r\"C:\\Development\\ultimateNakMuay\\data\\raw\\wiki_events_onefc.csv\", header=True)"
   ]
  },
  {
   "cell_type": "code",
   "execution_count": 13,
   "metadata": {},
   "outputs": [],
   "source": [
    "events = events.withColumn(\n",
    "    \"date\",\n",
    "    F.when(\n",
    "        F.to_date(F.col(\"date\"), \"MMMM d, yyyy\").isNotNull(), F.to_date(F.col(\"date\"), \"MMMM d, yyyy\")\n",
    "        ).otherwise(F.to_date(F.col(\"date\"), \"d MMMM yyyy\"))\n",
    "        )\\\n",
    "    .withColumn(\"attendance\", F.regexp_replace(F.col(\"attendance\"), \",\", \"\"))\\\n",
    "    .withColumn(\"attendance\", F.col(\"attendance\").cast(T.IntegerType()))\\\n",
    "    .withColumn(\"location\", F.when(F.col(\"location\") == \"—\", F.lit(None)).otherwise(F.col(\"location\")))"
   ]
  },
  {
   "cell_type": "code",
   "execution_count": 16,
   "metadata": {},
   "outputs": [],
   "source": [
    "events = events.withColumn(\"venue\", F.when(F.col(\"venue\") == \"—\", F.lit(None)).otherwise(F.col(\"venue\")))"
   ]
  },
  {
   "cell_type": "code",
   "execution_count": 19,
   "metadata": {},
   "outputs": [],
   "source": [
    "events = events.withColumn(\"location\", F.split(F.col(\"location\"), \",\"))\\\n",
    "    .withColumn(\"city\", F.when(F.size(F.col(\"location\")) == 3, F.element_at(F.col(\"location\"), 1)))\\\n",
    "    .withColumn(\"state\", F.when(\n",
    "        F.size(F.col(\"location\")) == 3, F.element_at(F.col(\"location\"), 2)\n",
    "        ).otherwise(F.element_at(F.col(\"location\"), 1))\n",
    "        )\\\n",
    "    .withColumn(\"country\", F.element_at(F.col(\"location\"), -1))\\\n",
    "    .withColumn(\"country\", F.regexp_replace(F.col(\"country\"), \"[^a-zA-Z0-9 ]\", \"\"))\\\n",
    "    .drop(\"location\")"
   ]
  },
  {
   "cell_type": "code",
   "execution_count": 20,
   "metadata": {},
   "outputs": [
    {
     "data": {
      "text/html": [
       "<div>\n",
       "<style scoped>\n",
       "    .dataframe tbody tr th:only-of-type {\n",
       "        vertical-align: middle;\n",
       "    }\n",
       "\n",
       "    .dataframe tbody tr th {\n",
       "        vertical-align: top;\n",
       "    }\n",
       "\n",
       "    .dataframe thead th {\n",
       "        text-align: right;\n",
       "    }\n",
       "</style>\n",
       "<table border=\"1\" class=\"dataframe\">\n",
       "  <thead>\n",
       "    <tr style=\"text-align: right;\">\n",
       "      <th></th>\n",
       "      <th>#</th>\n",
       "      <th>Event</th>\n",
       "      <th>date</th>\n",
       "      <th>venue</th>\n",
       "      <th>attendance</th>\n",
       "      <th>city</th>\n",
       "      <th>state</th>\n",
       "      <th>country</th>\n",
       "    </tr>\n",
       "  </thead>\n",
       "  <tbody>\n",
       "    <tr>\n",
       "      <th>0</th>\n",
       "      <td>253</td>\n",
       "      <td>ONE Fight Night 13: Allazov vs. Grigorian</td>\n",
       "      <td>2023-08-05</td>\n",
       "      <td>Lumpinee Boxing Stadium</td>\n",
       "      <td>NaN</td>\n",
       "      <td>None</td>\n",
       "      <td>Bangkok</td>\n",
       "      <td>Thailand</td>\n",
       "    </tr>\n",
       "    <tr>\n",
       "      <th>1</th>\n",
       "      <td>252</td>\n",
       "      <td>ONE Fight Night 12</td>\n",
       "      <td>2023-07-15</td>\n",
       "      <td>Lumpinee Boxing Stadium</td>\n",
       "      <td>NaN</td>\n",
       "      <td>None</td>\n",
       "      <td>Bangkok</td>\n",
       "      <td>Thailand</td>\n",
       "    </tr>\n",
       "    <tr>\n",
       "      <th>2</th>\n",
       "      <td>251</td>\n",
       "      <td>ONE Friday Fights 22: Bhullar vs. Malykhin</td>\n",
       "      <td>2023-06-23</td>\n",
       "      <td>Lumpinee Boxing Stadium</td>\n",
       "      <td>NaN</td>\n",
       "      <td>None</td>\n",
       "      <td>Bangkok</td>\n",
       "      <td>Thailand</td>\n",
       "    </tr>\n",
       "    <tr>\n",
       "      <th>3</th>\n",
       "      <td>250</td>\n",
       "      <td>ONE Friday Fights 21</td>\n",
       "      <td>2023-06-16</td>\n",
       "      <td>Lumpinee Boxing Stadium</td>\n",
       "      <td>NaN</td>\n",
       "      <td>None</td>\n",
       "      <td>Bangkok</td>\n",
       "      <td>Thailand</td>\n",
       "    </tr>\n",
       "    <tr>\n",
       "      <th>4</th>\n",
       "      <td>249</td>\n",
       "      <td>ONE Fight Night 11: Eersel vs. Menshikov</td>\n",
       "      <td>2023-06-10</td>\n",
       "      <td>Lumpinee Boxing Stadium</td>\n",
       "      <td>NaN</td>\n",
       "      <td>None</td>\n",
       "      <td>Bangkok</td>\n",
       "      <td>Thailand</td>\n",
       "    </tr>\n",
       "  </tbody>\n",
       "</table>\n",
       "</div>"
      ],
      "text/plain": [
       "     #                                       Event        date  \\\n",
       "0  253   ONE Fight Night 13: Allazov vs. Grigorian  2023-08-05   \n",
       "1  252                          ONE Fight Night 12  2023-07-15   \n",
       "2  251  ONE Friday Fights 22: Bhullar vs. Malykhin  2023-06-23   \n",
       "3  250                        ONE Friday Fights 21  2023-06-16   \n",
       "4  249    ONE Fight Night 11: Eersel vs. Menshikov  2023-06-10   \n",
       "\n",
       "                     venue  attendance  city    state    country  \n",
       "0  Lumpinee Boxing Stadium         NaN  None  Bangkok   Thailand  \n",
       "1  Lumpinee Boxing Stadium         NaN  None  Bangkok   Thailand  \n",
       "2  Lumpinee Boxing Stadium         NaN  None  Bangkok   Thailand  \n",
       "3  Lumpinee Boxing Stadium         NaN  None  Bangkok   Thailand  \n",
       "4  Lumpinee Boxing Stadium         NaN  None  Bangkok   Thailand  "
      ]
     },
     "execution_count": 20,
     "metadata": {},
     "output_type": "execute_result"
    }
   ],
   "source": [
    "show(events)"
   ]
  },
  {
   "cell_type": "code",
   "execution_count": 21,
   "metadata": {},
   "outputs": [],
   "source": [
    "events = events.withColumnRenamed(\"#\", \"event_num\")\n",
    "for _ in events.columns:\n",
    "    events = events.withColumnRenamed(_, _.lower())"
   ]
  },
  {
   "cell_type": "code",
   "execution_count": 23,
   "metadata": {},
   "outputs": [],
   "source": [
    "cols = [\"event_num\", \"event\", \"date\", \"venue\", \"city\", \"state\", \"country\", \"attendance\"]\n",
    "\n",
    "events = events.select(*cols)"
   ]
  },
  {
   "cell_type": "code",
   "execution_count": 24,
   "metadata": {},
   "outputs": [
    {
     "data": {
      "text/html": [
       "<div>\n",
       "<style scoped>\n",
       "    .dataframe tbody tr th:only-of-type {\n",
       "        vertical-align: middle;\n",
       "    }\n",
       "\n",
       "    .dataframe tbody tr th {\n",
       "        vertical-align: top;\n",
       "    }\n",
       "\n",
       "    .dataframe thead th {\n",
       "        text-align: right;\n",
       "    }\n",
       "</style>\n",
       "<table border=\"1\" class=\"dataframe\">\n",
       "  <thead>\n",
       "    <tr style=\"text-align: right;\">\n",
       "      <th></th>\n",
       "      <th>event_num</th>\n",
       "      <th>event</th>\n",
       "      <th>date</th>\n",
       "      <th>venue</th>\n",
       "      <th>city</th>\n",
       "      <th>state</th>\n",
       "      <th>country</th>\n",
       "      <th>attendance</th>\n",
       "    </tr>\n",
       "  </thead>\n",
       "  <tbody>\n",
       "    <tr>\n",
       "      <th>0</th>\n",
       "      <td>253</td>\n",
       "      <td>ONE Fight Night 13: Allazov vs. Grigorian</td>\n",
       "      <td>2023-08-05</td>\n",
       "      <td>Lumpinee Boxing Stadium</td>\n",
       "      <td>None</td>\n",
       "      <td>Bangkok</td>\n",
       "      <td>Thailand</td>\n",
       "      <td>NaN</td>\n",
       "    </tr>\n",
       "    <tr>\n",
       "      <th>1</th>\n",
       "      <td>252</td>\n",
       "      <td>ONE Fight Night 12</td>\n",
       "      <td>2023-07-15</td>\n",
       "      <td>Lumpinee Boxing Stadium</td>\n",
       "      <td>None</td>\n",
       "      <td>Bangkok</td>\n",
       "      <td>Thailand</td>\n",
       "      <td>NaN</td>\n",
       "    </tr>\n",
       "    <tr>\n",
       "      <th>2</th>\n",
       "      <td>251</td>\n",
       "      <td>ONE Friday Fights 22: Bhullar vs. Malykhin</td>\n",
       "      <td>2023-06-23</td>\n",
       "      <td>Lumpinee Boxing Stadium</td>\n",
       "      <td>None</td>\n",
       "      <td>Bangkok</td>\n",
       "      <td>Thailand</td>\n",
       "      <td>NaN</td>\n",
       "    </tr>\n",
       "    <tr>\n",
       "      <th>3</th>\n",
       "      <td>250</td>\n",
       "      <td>ONE Friday Fights 21</td>\n",
       "      <td>2023-06-16</td>\n",
       "      <td>Lumpinee Boxing Stadium</td>\n",
       "      <td>None</td>\n",
       "      <td>Bangkok</td>\n",
       "      <td>Thailand</td>\n",
       "      <td>NaN</td>\n",
       "    </tr>\n",
       "    <tr>\n",
       "      <th>4</th>\n",
       "      <td>249</td>\n",
       "      <td>ONE Fight Night 11: Eersel vs. Menshikov</td>\n",
       "      <td>2023-06-10</td>\n",
       "      <td>Lumpinee Boxing Stadium</td>\n",
       "      <td>None</td>\n",
       "      <td>Bangkok</td>\n",
       "      <td>Thailand</td>\n",
       "      <td>NaN</td>\n",
       "    </tr>\n",
       "  </tbody>\n",
       "</table>\n",
       "</div>"
      ],
      "text/plain": [
       "  event_num                                       event        date  \\\n",
       "0       253   ONE Fight Night 13: Allazov vs. Grigorian  2023-08-05   \n",
       "1       252                          ONE Fight Night 12  2023-07-15   \n",
       "2       251  ONE Friday Fights 22: Bhullar vs. Malykhin  2023-06-23   \n",
       "3       250                        ONE Friday Fights 21  2023-06-16   \n",
       "4       249    ONE Fight Night 11: Eersel vs. Menshikov  2023-06-10   \n",
       "\n",
       "                     venue  city    state    country  attendance  \n",
       "0  Lumpinee Boxing Stadium  None  Bangkok   Thailand         NaN  \n",
       "1  Lumpinee Boxing Stadium  None  Bangkok   Thailand         NaN  \n",
       "2  Lumpinee Boxing Stadium  None  Bangkok   Thailand         NaN  \n",
       "3  Lumpinee Boxing Stadium  None  Bangkok   Thailand         NaN  \n",
       "4  Lumpinee Boxing Stadium  None  Bangkok   Thailand         NaN  "
      ]
     },
     "execution_count": 24,
     "metadata": {},
     "output_type": "execute_result"
    }
   ],
   "source": [
    "show(events)"
   ]
  },
  {
   "cell_type": "code",
   "execution_count": null,
   "metadata": {},
   "outputs": [],
   "source": []
  }
 ],
 "metadata": {
  "kernelspec": {
   "display_name": "ultimateNakMuay",
   "language": "python",
   "name": "python3"
  },
  "language_info": {
   "codemirror_mode": {
    "name": "ipython",
    "version": 3
   },
   "file_extension": ".py",
   "mimetype": "text/x-python",
   "name": "python",
   "nbconvert_exporter": "python",
   "pygments_lexer": "ipython3",
   "version": "3.11.3"
  },
  "orig_nbformat": 4
 },
 "nbformat": 4,
 "nbformat_minor": 2
}
