{
 "cells": [
  {
   "cell_type": "code",
   "execution_count": 1,
   "metadata": {},
   "outputs": [],
   "source": [
    "from pyspark.sql import SparkSession\n",
    "from pyspark.sql import types as T\n",
    "from pyspark.sql import functions as F"
   ]
  },
  {
   "cell_type": "code",
   "execution_count": 2,
   "metadata": {},
   "outputs": [],
   "source": [
    "def show(df, limit = 5):\n",
    "    return df.toPandas().head(limit)"
   ]
  },
  {
   "cell_type": "code",
   "execution_count": 3,
   "metadata": {},
   "outputs": [],
   "source": [
    "spark = SparkSession.builder.master(\"local[*]\").getOrCreate()"
   ]
  },
  {
   "attachments": {},
   "cell_type": "markdown",
   "metadata": {},
   "source": [
    "# Events"
   ]
  },
  {
   "cell_type": "code",
   "execution_count": 10,
   "metadata": {},
   "outputs": [],
   "source": [
    "events = spark.read.csv(r\"C:\\Development\\ultimateNakMuay\\data\\raw\\wiki_events_onefc.csv\", header=True)"
   ]
  },
  {
   "cell_type": "code",
   "execution_count": 13,
   "metadata": {},
   "outputs": [],
   "source": [
    "events = events.withColumn(\n",
    "    \"date\",\n",
    "    F.when(\n",
    "        F.to_date(F.col(\"date\"), \"MMMM d, yyyy\").isNotNull(), F.to_date(F.col(\"date\"), \"MMMM d, yyyy\")\n",
    "        ).otherwise(F.to_date(F.col(\"date\"), \"d MMMM yyyy\"))\n",
    "        )\\\n",
    "    .withColumn(\"attendance\", F.regexp_replace(F.col(\"attendance\"), \",\", \"\"))\\\n",
    "    .withColumn(\"attendance\", F.col(\"attendance\").cast(T.IntegerType()))\\\n",
    "    .withColumn(\"location\", F.when(F.col(\"location\") == \"—\", F.lit(None)).otherwise(F.col(\"location\")))"
   ]
  },
  {
   "cell_type": "code",
   "execution_count": 16,
   "metadata": {},
   "outputs": [],
   "source": [
    "events = events.withColumn(\"venue\", F.when(F.col(\"venue\") == \"—\", F.lit(None)).otherwise(F.col(\"venue\")))"
   ]
  },
  {
   "cell_type": "code",
   "execution_count": 19,
   "metadata": {},
   "outputs": [],
   "source": [
    "events = events.withColumn(\"location\", F.split(F.col(\"location\"), \",\"))\\\n",
    "    .withColumn(\"city\", F.when(F.size(F.col(\"location\")) == 3, F.element_at(F.col(\"location\"), 1)))\\\n",
    "    .withColumn(\"state\", F.when(\n",
    "        F.size(F.col(\"location\")) == 3, F.element_at(F.col(\"location\"), 2)\n",
    "        ).otherwise(F.element_at(F.col(\"location\"), 1))\n",
    "        )\\\n",
    "    .withColumn(\"country\", F.element_at(F.col(\"location\"), -1))\\\n",
    "    .withColumn(\"country\", F.regexp_replace(F.col(\"country\"), \"[^a-zA-Z0-9 ]\", \"\"))\\\n",
    "    .drop(\"location\")"
   ]
  },
  {
   "cell_type": "code",
   "execution_count": 21,
   "metadata": {},
   "outputs": [],
   "source": [
    "events = events.withColumnRenamed(\"#\", \"event_num\")\n",
    "for _ in events.columns:\n",
    "    events = events.withColumnRenamed(_, _.lower())"
   ]
  },
  {
   "cell_type": "code",
   "execution_count": 23,
   "metadata": {},
   "outputs": [],
   "source": [
    "cols = [\"event_num\", \"event\", \"date\", \"venue\", \"city\", \"state\", \"country\", \"attendance\"]\n",
    "\n",
    "events = events.select(*cols)"
   ]
  },
  {
   "attachments": {},
   "cell_type": "markdown",
   "metadata": {},
   "source": [
    "# Results"
   ]
  },
  {
   "cell_type": "code",
   "execution_count": 4,
   "metadata": {},
   "outputs": [],
   "source": [
    "results = spark.read.csv(r\"C:\\Development\\ultimateNakMuay\\data\\raw\\wiki_results_onefc.csv\", header=True)"
   ]
  },
  {
   "cell_type": "code",
   "execution_count": 8,
   "metadata": {},
   "outputs": [],
   "source": [
    "results = results.withColumn(\"event_name\", F.when(\n",
    "    F.col(\"event\").isNotNull(), F.col(\"event\")\n",
    ").otherwise(F.col(\"event_name\"))\n",
    ")"
   ]
  },
  {
   "cell_type": "code",
   "execution_count": 10,
   "metadata": {},
   "outputs": [],
   "source": [
    "results = results.drop(\"event\")"
   ]
  },
  {
   "cell_type": "code",
   "execution_count": 12,
   "metadata": {},
   "outputs": [],
   "source": [
    "def remove_poisoned_rows(df):\n",
    "    hash_rows = lambda col_list: F.sha2(F.concat_ws(\"|\", *col_list), 256)\n",
    "    test_cols = [F.col(_) for _ in df.columns[:7]]\n",
    "\n",
    "    incorrect_data = df.filter(\n",
    "        ~(F.col(\"time\").contains(\":\") | F.col(\"time\").contains(\".\"))\n",
    "        ).select(*test_cols)\\\n",
    "        .distinct()\n",
    "    \n",
    "    incorrect_data = incorrect_data.withColumn(\"poison\", hash_rows(incorrect_data.columns))\n",
    "\n",
    "    df = df.withColumn(\"poison\", hash_rows(test_cols))\\\n",
    "        .join(incorrect_data, [\"poison\"], how=\"left_anti\")\\\n",
    "        .drop(\"poison\")\n",
    "    \n",
    "    return df"
   ]
  },
  {
   "cell_type": "code",
   "execution_count": 15,
   "metadata": {},
   "outputs": [],
   "source": [
    "results = remove_poisoned_rows(results)"
   ]
  },
  {
   "cell_type": "code",
   "execution_count": 21,
   "metadata": {},
   "outputs": [],
   "source": [
    "results = results.withColumn(\"time\", F.regexp_replace(F.col(\"time\"), \"\\\\.\", \":\"))\\\n",
    "    .withColumn(\"time_parts\", F.split(F.col(\"time\"), \":\"))\\\n",
    "    .withColumn(\"time\", F.element_at(F.col(\"time_parts\"), 1)*60 + F.element_at(F.col(\"time_parts\"), 2))\\\n",
    "    .drop(\"time_parts\")"
   ]
  },
  {
   "cell_type": "code",
   "execution_count": 23,
   "metadata": {},
   "outputs": [],
   "source": [
    "results = results.withColumn(\"time\", F.col(\"time\").cast(T.DoubleType()))\\\n",
    "    .withColumn(\"round\", F.col(\"round\").cast(T.IntegerType()))"
   ]
  },
  {
   "cell_type": "code",
   "execution_count": 24,
   "metadata": {},
   "outputs": [
    {
     "data": {
      "text/html": [
       "<div>\n",
       "<style scoped>\n",
       "    .dataframe tbody tr th:only-of-type {\n",
       "        vertical-align: middle;\n",
       "    }\n",
       "\n",
       "    .dataframe tbody tr th {\n",
       "        vertical-align: top;\n",
       "    }\n",
       "\n",
       "    .dataframe thead th {\n",
       "        text-align: right;\n",
       "    }\n",
       "</style>\n",
       "<table border=\"1\" class=\"dataframe\">\n",
       "  <thead>\n",
       "    <tr style=\"text-align: right;\">\n",
       "      <th></th>\n",
       "      <th>weight_class</th>\n",
       "      <th>winner</th>\n",
       "      <th>loser</th>\n",
       "      <th>method</th>\n",
       "      <th>round</th>\n",
       "      <th>time</th>\n",
       "      <th>notes</th>\n",
       "      <th>fight_card</th>\n",
       "      <th>event_name</th>\n",
       "    </tr>\n",
       "  </thead>\n",
       "  <tbody>\n",
       "    <tr>\n",
       "      <th>0</th>\n",
       "      <td>Strawweight 57 kg</td>\n",
       "      <td>Yosuke Saruta</td>\n",
       "      <td>Joshua Pacio (c)</td>\n",
       "      <td>Decision (Split)</td>\n",
       "      <td>5.0</td>\n",
       "      <td>300.0</td>\n",
       "      <td>For the ONE Strawweight Championship</td>\n",
       "      <td>Main card</td>\n",
       "      <td>ONE Championship: Eternal Glory</td>\n",
       "    </tr>\n",
       "    <tr>\n",
       "      <th>1</th>\n",
       "      <td>Flyweight 61 kg</td>\n",
       "      <td>Mongkolpetch Petchyindee</td>\n",
       "      <td>Alexi Serepisos</td>\n",
       "      <td>Decision (Unanimous)</td>\n",
       "      <td>3.0</td>\n",
       "      <td>180.0</td>\n",
       "      <td>Muay Thai</td>\n",
       "      <td>Main card</td>\n",
       "      <td>ONE Championship: Eternal Glory</td>\n",
       "    </tr>\n",
       "    <tr>\n",
       "      <th>2</th>\n",
       "      <td>Featherweight 70 kg</td>\n",
       "      <td>Christian Lee</td>\n",
       "      <td>Edward Kelly</td>\n",
       "      <td>TKO (Punches)</td>\n",
       "      <td>1.0</td>\n",
       "      <td>173.0</td>\n",
       "      <td>None</td>\n",
       "      <td>Main card</td>\n",
       "      <td>ONE Championship: Eternal Glory</td>\n",
       "    </tr>\n",
       "    <tr>\n",
       "      <th>3</th>\n",
       "      <td>Atomweight 52 kg</td>\n",
       "      <td>Puja Tomar</td>\n",
       "      <td>Priscilla Gaol</td>\n",
       "      <td>Decision (Split)</td>\n",
       "      <td>3.0</td>\n",
       "      <td>300.0</td>\n",
       "      <td>None</td>\n",
       "      <td>Main card</td>\n",
       "      <td>ONE Championship: Eternal Glory</td>\n",
       "    </tr>\n",
       "    <tr>\n",
       "      <th>4</th>\n",
       "      <td>Flyweight 61 kg</td>\n",
       "      <td>Jonathan Haggerty</td>\n",
       "      <td>Joseph Lasiri</td>\n",
       "      <td>Decision (Unanimous)</td>\n",
       "      <td>3.0</td>\n",
       "      <td>180.0</td>\n",
       "      <td>Muay Thai</td>\n",
       "      <td>Main card</td>\n",
       "      <td>ONE Championship: Eternal Glory</td>\n",
       "    </tr>\n",
       "  </tbody>\n",
       "</table>\n",
       "</div>"
      ],
      "text/plain": [
       "          weight_class                    winner             loser  \\\n",
       "0    Strawweight 57 kg             Yosuke Saruta  Joshua Pacio (c)   \n",
       "1      Flyweight 61 kg  Mongkolpetch Petchyindee   Alexi Serepisos   \n",
       "2  Featherweight 70 kg             Christian Lee      Edward Kelly   \n",
       "3     Atomweight 52 kg                Puja Tomar    Priscilla Gaol   \n",
       "4      Flyweight 61 kg         Jonathan Haggerty     Joseph Lasiri   \n",
       "\n",
       "                 method  round   time                                 notes  \\\n",
       "0      Decision (Split)    5.0  300.0  For the ONE Strawweight Championship   \n",
       "1  Decision (Unanimous)    3.0  180.0                             Muay Thai   \n",
       "2         TKO (Punches)    1.0  173.0                                  None   \n",
       "3      Decision (Split)    3.0  300.0                                  None   \n",
       "4  Decision (Unanimous)    3.0  180.0                             Muay Thai   \n",
       "\n",
       "  fight_card                       event_name  \n",
       "0  Main card  ONE Championship: Eternal Glory  \n",
       "1  Main card  ONE Championship: Eternal Glory  \n",
       "2  Main card  ONE Championship: Eternal Glory  \n",
       "3  Main card  ONE Championship: Eternal Glory  \n",
       "4  Main card  ONE Championship: Eternal Glory  "
      ]
     },
     "execution_count": 24,
     "metadata": {},
     "output_type": "execute_result"
    }
   ],
   "source": [
    "show(results)"
   ]
  },
  {
   "cell_type": "code",
   "execution_count": null,
   "metadata": {},
   "outputs": [],
   "source": []
  }
 ],
 "metadata": {
  "kernelspec": {
   "display_name": "ultimateNakMuay",
   "language": "python",
   "name": "python3"
  },
  "language_info": {
   "codemirror_mode": {
    "name": "ipython",
    "version": 3
   },
   "file_extension": ".py",
   "mimetype": "text/x-python",
   "name": "python",
   "nbconvert_exporter": "python",
   "pygments_lexer": "ipython3",
   "version": "3.11.3"
  },
  "orig_nbformat": 4
 },
 "nbformat": 4,
 "nbformat_minor": 2
}
