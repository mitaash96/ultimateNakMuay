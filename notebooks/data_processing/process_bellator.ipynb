{
 "cells": [
  {
   "cell_type": "code",
   "execution_count": 190,
   "metadata": {},
   "outputs": [],
   "source": [
    "from pyspark.sql import SparkSession, DataFrame\n",
    "from pyspark.sql import functions as F\n",
    "from pyspark.sql import types as T"
   ]
  },
  {
   "cell_type": "code",
   "execution_count": 2,
   "metadata": {},
   "outputs": [],
   "source": [
    "spark = SparkSession.builder.master(\"local[*]\").getOrCreate()"
   ]
  },
  {
   "cell_type": "code",
   "execution_count": 31,
   "metadata": {},
   "outputs": [],
   "source": [
    "def show(df, limit=5):\n",
    "    return df.toPandas().head(limit)"
   ]
  },
  {
   "attachments": {},
   "cell_type": "markdown",
   "metadata": {},
   "source": [
    "# Events"
   ]
  },
  {
   "cell_type": "code",
   "execution_count": null,
   "metadata": {},
   "outputs": [],
   "source": [
    "events = spark.read.csv(r\"C:\\Development\\ultimateNakMuay\\data\\raw\\wiki_events_bellator.csv\", header=True)"
   ]
  },
  {
   "cell_type": "code",
   "execution_count": 56,
   "metadata": {},
   "outputs": [],
   "source": [
    "for col in events.columns:\n",
    "    events = events.withColumnRenamed(col, col.lower())"
   ]
  },
  {
   "cell_type": "code",
   "execution_count": 57,
   "metadata": {},
   "outputs": [],
   "source": [
    "# schema cleaning\n",
    "events = events\\\n",
    "    .withColumn(\"date\", F.to_date(F.col(\"date\"), \"MMMM d, yyyy\"))\\\n",
    "    .withColumn(\"attendance\", F.col(\"attendance\").cast(T.IntegerType()))\n",
    "    \n",
    "# split location to city, state, country\n",
    "events = events.withColumn(\"location\", F.split(F.col(\"location\"), \",\"))\\\n",
    "    .withColumn(\"city\", F.when(F.size(F.col(\"location\")) == 3, F.element_at(F.col(\"location\"), 1)))\\\n",
    "    .withColumn(\"state\", F.when(\n",
    "        F.size(F.col(\"location\")) == 3, F.element_at(F.col(\"location\"), 2)\n",
    "        ).otherwise(F.element_at(F.col(\"location\"), 1))\n",
    "        )\\\n",
    "    .withColumn(\"country\", F.element_at(F.col(\"location\"), -1))\\\n",
    "    .withColumn(\"country\", F.regexp_replace(F.col(\"country\"), \"[^a-zA-Z0-9 ]\", \"\"))\\\n",
    "    .drop(\"location\")"
   ]
  },
  {
   "cell_type": "code",
   "execution_count": 58,
   "metadata": {},
   "outputs": [
    {
     "data": {
      "text/html": [
       "<div>\n",
       "<style scoped>\n",
       "    .dataframe tbody tr th:only-of-type {\n",
       "        vertical-align: middle;\n",
       "    }\n",
       "\n",
       "    .dataframe tbody tr th {\n",
       "        vertical-align: top;\n",
       "    }\n",
       "\n",
       "    .dataframe thead th {\n",
       "        text-align: right;\n",
       "    }\n",
       "</style>\n",
       "<table border=\"1\" class=\"dataframe\">\n",
       "  <thead>\n",
       "    <tr style=\"text-align: right;\">\n",
       "      <th></th>\n",
       "      <th>#</th>\n",
       "      <th>event</th>\n",
       "      <th>date</th>\n",
       "      <th>venue</th>\n",
       "      <th>attendance</th>\n",
       "      <th>city</th>\n",
       "      <th>state</th>\n",
       "      <th>country</th>\n",
       "    </tr>\n",
       "  </thead>\n",
       "  <tbody>\n",
       "    <tr>\n",
       "      <th>0</th>\n",
       "      <td>288</td>\n",
       "      <td>Bellator 284</td>\n",
       "      <td>2022-08-12</td>\n",
       "      <td>Sanford Pentagon</td>\n",
       "      <td>2900</td>\n",
       "      <td>Sioux Falls</td>\n",
       "      <td>South Dakota</td>\n",
       "      <td>US</td>\n",
       "    </tr>\n",
       "    <tr>\n",
       "      <th>1</th>\n",
       "      <td>287</td>\n",
       "      <td>Bellator 283</td>\n",
       "      <td>2022-07-22</td>\n",
       "      <td>Emerald Queen Casino and Hotel</td>\n",
       "      <td>1012</td>\n",
       "      <td>Tacoma</td>\n",
       "      <td>Washington</td>\n",
       "      <td>US</td>\n",
       "    </tr>\n",
       "    <tr>\n",
       "      <th>2</th>\n",
       "      <td>286</td>\n",
       "      <td>Bellator 282</td>\n",
       "      <td>2022-06-24</td>\n",
       "      <td>Mohegan Sun Arena</td>\n",
       "      <td>10000</td>\n",
       "      <td>Uncasville</td>\n",
       "      <td>Connecticut</td>\n",
       "      <td>US</td>\n",
       "    </tr>\n",
       "    <tr>\n",
       "      <th>3</th>\n",
       "      <td>285</td>\n",
       "      <td>Bellator 281</td>\n",
       "      <td>2022-05-13</td>\n",
       "      <td>SSE Arena</td>\n",
       "      <td>8779</td>\n",
       "      <td>None</td>\n",
       "      <td>London</td>\n",
       "      <td>England</td>\n",
       "    </tr>\n",
       "    <tr>\n",
       "      <th>4</th>\n",
       "      <td>284</td>\n",
       "      <td>Bellator 280</td>\n",
       "      <td>2022-05-06</td>\n",
       "      <td>AccorHotels Arena</td>\n",
       "      <td>13131</td>\n",
       "      <td>None</td>\n",
       "      <td>Paris</td>\n",
       "      <td>France</td>\n",
       "    </tr>\n",
       "  </tbody>\n",
       "</table>\n",
       "</div>"
      ],
      "text/plain": [
       "     #         event        date                           venue  attendance  \\\n",
       "0  288  Bellator 284  2022-08-12                Sanford Pentagon        2900   \n",
       "1  287  Bellator 283  2022-07-22  Emerald Queen Casino and Hotel        1012   \n",
       "2  286  Bellator 282  2022-06-24               Mohegan Sun Arena       10000   \n",
       "3  285  Bellator 281  2022-05-13                       SSE Arena        8779   \n",
       "4  284  Bellator 280  2022-05-06               AccorHotels Arena       13131   \n",
       "\n",
       "          city          state   country  \n",
       "0  Sioux Falls   South Dakota        US  \n",
       "1       Tacoma     Washington        US  \n",
       "2   Uncasville    Connecticut        US  \n",
       "3         None         London   England  \n",
       "4         None          Paris    France  "
      ]
     },
     "execution_count": 58,
     "metadata": {},
     "output_type": "execute_result"
    }
   ],
   "source": [
    "show(events.filter(F.col(\"attendance\").isNotNull()))"
   ]
  },
  {
   "attachments": {},
   "cell_type": "markdown",
   "metadata": {},
   "source": [
    "# Results"
   ]
  },
  {
   "cell_type": "code",
   "execution_count": 167,
   "metadata": {},
   "outputs": [],
   "source": [
    "results = spark.read.csv(r\"C:\\Development\\ultimateNakMuay\\data\\raw\\wiki_results_bellator.csv\", header=True)"
   ]
  },
  {
   "cell_type": "code",
   "execution_count": 168,
   "metadata": {},
   "outputs": [],
   "source": [
    "hash_rows = lambda col_list: F.sha2(F.concat_ws(\"|\", *col_list), 256)"
   ]
  },
  {
   "cell_type": "code",
   "execution_count": 169,
   "metadata": {},
   "outputs": [],
   "source": [
    "# remove poisoned rows\n",
    "\n",
    "test_cols = [F.col(_) for _ in results.columns[:7]]\n",
    "\n",
    "incorrect_data = results.filter(\n",
    "    ~(F.col(\"time\").contains(\":\") | F.col(\"time\").contains(\".\"))\n",
    "    ).select(*test_cols)\\\n",
    "    .distinct()\n",
    "    \n",
    "incorrect_data = incorrect_data.withColumn(\"poison\", hash_rows(incorrect_data.columns))"
   ]
  },
  {
   "cell_type": "code",
   "execution_count": 170,
   "metadata": {},
   "outputs": [],
   "source": [
    "results = results.withColumn(\"poison\", hash_rows(test_cols))\\\n",
    "    .join(incorrect_data, [\"poison\"], how=\"left_anti\")\\\n",
    "    .drop(\"poison\")"
   ]
  },
  {
   "cell_type": "code",
   "execution_count": 171,
   "metadata": {},
   "outputs": [],
   "source": [
    "results = results.withColumn(\"time\", F.regexp_replace(F.col(\"time\"), \"\\\\.\", \":\"))\\\n",
    "    .withColumn(\"time_parts\", F.split(F.col(\"time\"), \":\"))\\\n",
    "    .withColumn(\"time\", F.element_at(F.col(\"time_parts\"), 1)*60 + F.element_at(F.col(\"time_parts\"), 2))\\\n",
    "    .drop(\"time_parts\")"
   ]
  },
  {
   "cell_type": "code",
   "execution_count": 172,
   "metadata": {},
   "outputs": [],
   "source": [
    "results = results.withColumn(\"time\", F.col(\"time\").cast(T.DoubleType()))\\\n",
    "    .withColumn(\"round\", F.col(\"round\").cast(T.IntegerType()))"
   ]
  },
  {
   "cell_type": "code",
   "execution_count": 173,
   "metadata": {},
   "outputs": [],
   "source": [
    "results = results.drop(\"notes\")"
   ]
  },
  {
   "cell_type": "code",
   "execution_count": 192,
   "metadata": {},
   "outputs": [
    {
     "data": {
      "text/plain": [
       "False"
      ]
     },
     "execution_count": 192,
     "metadata": {},
     "output_type": "execute_result"
    }
   ],
   "source": [
    "isinstance(results.toPandas(), DataFrame)"
   ]
  },
  {
   "cell_type": "code",
   "execution_count": null,
   "metadata": {},
   "outputs": [],
   "source": []
  }
 ],
 "metadata": {
  "kernelspec": {
   "display_name": "ultimateNakMuay",
   "language": "python",
   "name": "python3"
  },
  "language_info": {
   "codemirror_mode": {
    "name": "ipython",
    "version": 3
   },
   "file_extension": ".py",
   "mimetype": "text/x-python",
   "name": "python",
   "nbconvert_exporter": "python",
   "pygments_lexer": "ipython3",
   "version": "3.11.3"
  },
  "orig_nbformat": 4
 },
 "nbformat": 4,
 "nbformat_minor": 2
}
