{
 "cells": [
  {
   "cell_type": "code",
   "execution_count": 1,
   "metadata": {},
   "outputs": [],
   "source": [
    "from pyspark.sql import SparkSession\n",
    "import pyspark.sql.functions as F\n",
    "import pyspark.sql.types as T\n",
    "import os"
   ]
  },
  {
   "cell_type": "code",
   "execution_count": 2,
   "metadata": {},
   "outputs": [],
   "source": [
    "def find_csv_files(folder_path):\n",
    "    csv_files = []\n",
    "    for root, dirs, files in os.walk(folder_path):\n",
    "        for file in files:\n",
    "            if file.endswith('.csv'):\n",
    "                csv_files.append(os.path.join(root, file))\n",
    "    return csv_files"
   ]
  },
  {
   "cell_type": "code",
   "execution_count": 3,
   "metadata": {},
   "outputs": [],
   "source": [
    "folder = r\"C:\\Development\\ultimateNakMuay\\data\\raw\"\n",
    "files = find_csv_files(folder)"
   ]
  },
  {
   "cell_type": "code",
   "execution_count": 4,
   "metadata": {},
   "outputs": [],
   "source": [
    "events = [filepath for filepath in files if \"event\" in filepath]\n",
    "results = [filepath for filepath in files if \"result\" in filepath]"
   ]
  },
  {
   "cell_type": "code",
   "execution_count": 5,
   "metadata": {},
   "outputs": [],
   "source": [
    "results.append(r\"C:\\Development\\ultimateNakMuay\\data\\processed\\wiki_fc_ufc.csv\")"
   ]
  },
  {
   "cell_type": "code",
   "execution_count": 6,
   "metadata": {},
   "outputs": [],
   "source": [
    "spark = SparkSession.builder.master(\"local[*]\").getOrCreate()"
   ]
  },
  {
   "cell_type": "code",
   "execution_count": 7,
   "metadata": {},
   "outputs": [],
   "source": [
    "events = [spark.read.csv(file, header=True) for file in events]"
   ]
  },
  {
   "cell_type": "code",
   "execution_count": 8,
   "metadata": {},
   "outputs": [
    {
     "name": "stdout",
     "output_type": "stream",
     "text": [
      "0 ['#', 'Event', 'Date', 'Venue', 'Location', 'Attendance']\n",
      "1 ['#', 'Event', 'Date', 'Venue', 'Location', 'Attendance']\n",
      "2 ['#', 'Event', 'Date', 'Venue', 'Location', 'Attendance']\n",
      "3 ['#', 'Event', 'Date', 'Venue', 'City']\n",
      "4 ['#', 'Event', 'Date', 'Venue', 'Location', 'Attendance', 'Ref.']\n"
     ]
    }
   ],
   "source": [
    "for i, df in enumerate(events):\n",
    "    print(i, df.columns)"
   ]
  },
  {
   "cell_type": "code",
   "execution_count": 9,
   "metadata": {},
   "outputs": [],
   "source": [
    "results = [spark.read.csv(file, header=True) for file in results]"
   ]
  },
  {
   "cell_type": "code",
   "execution_count": 10,
   "metadata": {},
   "outputs": [
    {
     "name": "stdout",
     "output_type": "stream",
     "text": [
      "0 ['weight_class', 'winner', 'loser', 'method', 'round', 'time', 'notes', 'fight_card', 'event_name', 'link']\n",
      "1 ['weight_class', 'winner', 'loser', 'method', 'round', 'time', 'notes', 'fight_card', 'event_name', 'link', 'weight']\n",
      "2 ['weight_class', 'winner', 'loser', 'method', 'round', 'time', 'notes', 'fight_card', 'event_name', 'event']\n",
      "3 ['weight_class', 'winner', 'loser', 'method', 'round', 'time', 'notes', 'fight_card', 'event_name', 'event_id']\n"
     ]
    }
   ],
   "source": [
    "for i, df in enumerate(results):\n",
    "    print(i, df.columns)"
   ]
  },
  {
   "cell_type": "code",
   "execution_count": 11,
   "metadata": {},
   "outputs": [
    {
     "data": {
      "text/html": [
       "<div>\n",
       "<style scoped>\n",
       "    .dataframe tbody tr th:only-of-type {\n",
       "        vertical-align: middle;\n",
       "    }\n",
       "\n",
       "    .dataframe tbody tr th {\n",
       "        vertical-align: top;\n",
       "    }\n",
       "\n",
       "    .dataframe thead th {\n",
       "        text-align: right;\n",
       "    }\n",
       "</style>\n",
       "<table border=\"1\" class=\"dataframe\">\n",
       "  <thead>\n",
       "    <tr style=\"text-align: right;\">\n",
       "      <th></th>\n",
       "      <th>weight_class</th>\n",
       "      <th>winner</th>\n",
       "      <th>loser</th>\n",
       "      <th>method</th>\n",
       "      <th>round</th>\n",
       "      <th>time</th>\n",
       "      <th>notes</th>\n",
       "      <th>fight_card</th>\n",
       "      <th>event_name</th>\n",
       "      <th>link</th>\n",
       "      <th>weight</th>\n",
       "    </tr>\n",
       "  </thead>\n",
       "  <tbody>\n",
       "    <tr>\n",
       "      <th>0</th>\n",
       "      <td>None</td>\n",
       "      <td>Kento Haraguchi</td>\n",
       "      <td>Serhiy Adamchuk</td>\n",
       "      <td>Decision (Unanimous)</td>\n",
       "      <td>3</td>\n",
       "      <td>3:00</td>\n",
       "      <td>None</td>\n",
       "      <td>Main card</td>\n",
       "      <td>Glory Rivals 4</td>\n",
       "      <td>https://en.wikipedia.org//wiki/2022_in_Glory</td>\n",
       "      <td>Featherweight 65 kg</td>\n",
       "    </tr>\n",
       "    <tr>\n",
       "      <th>1</th>\n",
       "      <td>None</td>\n",
       "      <td>Kaito</td>\n",
       "      <td>Stoyan Koprivlenski</td>\n",
       "      <td>Decision (Split)</td>\n",
       "      <td>3</td>\n",
       "      <td>3:00</td>\n",
       "      <td>None</td>\n",
       "      <td>Main card</td>\n",
       "      <td>Glory Rivals 4</td>\n",
       "      <td>https://en.wikipedia.org//wiki/2022_in_Glory</td>\n",
       "      <td>Lightweight 70 kg</td>\n",
       "    </tr>\n",
       "    <tr>\n",
       "      <th>2</th>\n",
       "      <td>None</td>\n",
       "      <td>Petpanomrung Kiatmuu9</td>\n",
       "      <td>Kosei Yamada</td>\n",
       "      <td>Decision (Unanimous)</td>\n",
       "      <td>3</td>\n",
       "      <td>3:00</td>\n",
       "      <td>None</td>\n",
       "      <td>Main card</td>\n",
       "      <td>Glory Rivals 4</td>\n",
       "      <td>https://en.wikipedia.org//wiki/2022_in_Glory</td>\n",
       "      <td>Featherweight 65 kg</td>\n",
       "    </tr>\n",
       "    <tr>\n",
       "      <th>3</th>\n",
       "      <td>None</td>\n",
       "      <td>Taiju Shiratori</td>\n",
       "      <td>Ilias Banniss</td>\n",
       "      <td>Decision (Unanimous)</td>\n",
       "      <td>3</td>\n",
       "      <td>3:00</td>\n",
       "      <td>None</td>\n",
       "      <td>Main card</td>\n",
       "      <td>Glory Rivals 4</td>\n",
       "      <td>https://en.wikipedia.org//wiki/2022_in_Glory</td>\n",
       "      <td>Featherweight 65 kg</td>\n",
       "    </tr>\n",
       "    <tr>\n",
       "      <th>4</th>\n",
       "      <td>None</td>\n",
       "      <td>Chadd Collins</td>\n",
       "      <td>Hiroki Kasahara</td>\n",
       "      <td>Decision (Unanimous)</td>\n",
       "      <td>3</td>\n",
       "      <td>3:00</td>\n",
       "      <td>None</td>\n",
       "      <td>Main card</td>\n",
       "      <td>Glory Rivals 4</td>\n",
       "      <td>https://en.wikipedia.org//wiki/2022_in_Glory</td>\n",
       "      <td>Catchweight 63.5 kg</td>\n",
       "    </tr>\n",
       "  </tbody>\n",
       "</table>\n",
       "</div>"
      ],
      "text/plain": [
       "  weight_class                 winner                loser  \\\n",
       "0         None        Kento Haraguchi      Serhiy Adamchuk   \n",
       "1         None                  Kaito  Stoyan Koprivlenski   \n",
       "2         None  Petpanomrung Kiatmuu9         Kosei Yamada   \n",
       "3         None        Taiju Shiratori        Ilias Banniss   \n",
       "4         None          Chadd Collins      Hiroki Kasahara   \n",
       "\n",
       "                 method round  time notes fight_card      event_name  \\\n",
       "0  Decision (Unanimous)     3  3:00  None  Main card  Glory Rivals 4   \n",
       "1      Decision (Split)     3  3:00  None  Main card  Glory Rivals 4   \n",
       "2  Decision (Unanimous)     3  3:00  None  Main card  Glory Rivals 4   \n",
       "3  Decision (Unanimous)     3  3:00  None  Main card  Glory Rivals 4   \n",
       "4  Decision (Unanimous)     3  3:00  None  Main card  Glory Rivals 4   \n",
       "\n",
       "                                           link               weight  \n",
       "0  https://en.wikipedia.org//wiki/2022_in_Glory  Featherweight 65 kg  \n",
       "1  https://en.wikipedia.org//wiki/2022_in_Glory    Lightweight 70 kg  \n",
       "2  https://en.wikipedia.org//wiki/2022_in_Glory  Featherweight 65 kg  \n",
       "3  https://en.wikipedia.org//wiki/2022_in_Glory  Featherweight 65 kg  \n",
       "4  https://en.wikipedia.org//wiki/2022_in_Glory  Catchweight 63.5 kg  "
      ]
     },
     "execution_count": 11,
     "metadata": {},
     "output_type": "execute_result"
    }
   ],
   "source": [
    "results[1]\\\n",
    "    .filter(F.col(\"weight\").isNotNull())\\\n",
    "    .toPandas()\\\n",
    "    .head(5)"
   ]
  },
  {
   "attachments": {},
   "cell_type": "markdown",
   "metadata": {},
   "source": [
    "glory: coalesce wight and weight class"
   ]
  },
  {
   "cell_type": "code",
   "execution_count": 15,
   "metadata": {},
   "outputs": [
    {
     "data": {
      "text/plain": [
       "DataFrame[summary: string, #: string, Event: string, Date: string, Venue: string, Location: string, Attendance: string]"
      ]
     },
     "execution_count": 15,
     "metadata": {},
     "output_type": "execute_result"
    }
   ],
   "source": [
    "events[2].describe()"
   ]
  },
  {
   "cell_type": "code",
   "execution_count": 16,
   "metadata": {},
   "outputs": [
    {
     "data": {
      "text/plain": [
       "DataFrame[summary: string, weight_class: string, winner: string, loser: string, method: string, round: string, time: string, notes: string, fight_card: string, event_name: string, link: string]"
      ]
     },
     "execution_count": 16,
     "metadata": {},
     "output_type": "execute_result"
    }
   ],
   "source": [
    "results[0].describe()"
   ]
  },
  {
   "attachments": {},
   "cell_type": "markdown",
   "metadata": {},
   "source": [
    "cast schema"
   ]
  },
  {
   "cell_type": "code",
   "execution_count": null,
   "metadata": {},
   "outputs": [],
   "source": []
  }
 ],
 "metadata": {
  "kernelspec": {
   "display_name": "ultimateNakMuay",
   "language": "python",
   "name": "python3"
  },
  "language_info": {
   "codemirror_mode": {
    "name": "ipython",
    "version": 3
   },
   "file_extension": ".py",
   "mimetype": "text/x-python",
   "name": "python",
   "nbconvert_exporter": "python",
   "pygments_lexer": "ipython3",
   "version": "3.11.3"
  },
  "orig_nbformat": 4
 },
 "nbformat": 4,
 "nbformat_minor": 2
}
