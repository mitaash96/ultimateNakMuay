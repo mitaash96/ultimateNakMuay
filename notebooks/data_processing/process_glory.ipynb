{
 "cells": [
  {
   "cell_type": "code",
   "execution_count": 1,
   "metadata": {},
   "outputs": [],
   "source": [
    "from pyspark.sql import SparkSession\n",
    "from pyspark.sql import types as T\n",
    "from pyspark.sql import functions as F"
   ]
  },
  {
   "cell_type": "code",
   "execution_count": 2,
   "metadata": {},
   "outputs": [],
   "source": [
    "spark = SparkSession.builder.master(\"local[*]\").getOrCreate()"
   ]
  },
  {
   "cell_type": "code",
   "execution_count": 3,
   "metadata": {},
   "outputs": [],
   "source": [
    "def show(df, limit = 5):\n",
    "    return df.toPandas().head(limit)"
   ]
  },
  {
   "attachments": {},
   "cell_type": "markdown",
   "metadata": {},
   "source": [
    "# Events"
   ]
  },
  {
   "cell_type": "code",
   "execution_count": 8,
   "metadata": {},
   "outputs": [],
   "source": [
    "events = spark.read.csv(r\"C:\\Development\\ultimateNakMuay\\data\\raw\\wiki_events_glory.csv\", header=True)"
   ]
  },
  {
   "cell_type": "code",
   "execution_count": 10,
   "metadata": {},
   "outputs": [],
   "source": [
    "events = events.withColumn(\"date\", F.to_date(F.col(\"date\"), \"MMMM d, yyyy\"))\\\n",
    "    .withColumn(\"attendance\", F.regexp_replace(F.col(\"attendance\"), \",\", \"\"))\\\n",
    "    .withColumn(\"attendance\", F.col(\"attendance\").cast(T.IntegerType()))\\\n",
    "    .withColumn(\"location\", F.when(F.col(\"location\") == \"—\", F.lit(None)).otherwise(F.col(\"location\")))"
   ]
  },
  {
   "cell_type": "code",
   "execution_count": 13,
   "metadata": {},
   "outputs": [],
   "source": [
    "events = events.withColumn(\"location\", F.split(F.col(\"location\"), \",\"))\\\n",
    "    .withColumn(\"city\", F.when(F.size(F.col(\"location\")) == 3, F.element_at(F.col(\"location\"), 1)))\\\n",
    "    .withColumn(\"state\", F.when(\n",
    "        F.size(F.col(\"location\")) == 3, F.element_at(F.col(\"location\"), 2)\n",
    "        ).otherwise(F.element_at(F.col(\"location\"), 1))\n",
    "        )\\\n",
    "    .withColumn(\"country\", F.element_at(F.col(\"location\"), -1))\\\n",
    "    .withColumn(\"country\", F.regexp_replace(F.col(\"country\"), \"[^a-zA-Z0-9 ]\", \"\"))\\\n",
    "    .drop(\"location\")"
   ]
  },
  {
   "cell_type": "code",
   "execution_count": 17,
   "metadata": {},
   "outputs": [],
   "source": [
    "events = events.withColumnRenamed(\"#\", \"event_num\")\n",
    "for _ in events.columns:\n",
    "    events = events.withColumnRenamed(_, _.lower())\n",
    "\n",
    "cols = [\"event_num\", \"event\", \"date\", \"venue\", \"city\", \"state\", \"country\", \"attendance\"]\n",
    "\n",
    "events = events.select(*cols)"
   ]
  },
  {
   "cell_type": "code",
   "execution_count": 18,
   "metadata": {},
   "outputs": [
    {
     "data": {
      "text/html": [
       "<div>\n",
       "<style scoped>\n",
       "    .dataframe tbody tr th:only-of-type {\n",
       "        vertical-align: middle;\n",
       "    }\n",
       "\n",
       "    .dataframe tbody tr th {\n",
       "        vertical-align: top;\n",
       "    }\n",
       "\n",
       "    .dataframe thead th {\n",
       "        text-align: right;\n",
       "    }\n",
       "</style>\n",
       "<table border=\"1\" class=\"dataframe\">\n",
       "  <thead>\n",
       "    <tr style=\"text-align: right;\">\n",
       "      <th></th>\n",
       "      <th>event_num</th>\n",
       "      <th>event</th>\n",
       "      <th>date</th>\n",
       "      <th>venue</th>\n",
       "      <th>city</th>\n",
       "      <th>state</th>\n",
       "      <th>country</th>\n",
       "      <th>attendance</th>\n",
       "    </tr>\n",
       "  </thead>\n",
       "  <tbody>\n",
       "    <tr>\n",
       "      <th>0</th>\n",
       "      <td>82</td>\n",
       "      <td>Glory: Collision 2</td>\n",
       "      <td>2019-12-21</td>\n",
       "      <td>GelreDome</td>\n",
       "      <td>None</td>\n",
       "      <td>Arnhem</td>\n",
       "      <td>Netherlands</td>\n",
       "      <td>31000</td>\n",
       "    </tr>\n",
       "    <tr>\n",
       "      <th>1</th>\n",
       "      <td>49</td>\n",
       "      <td>Glory 41: Holland</td>\n",
       "      <td>2017-05-20</td>\n",
       "      <td>Brabanthallen</td>\n",
       "      <td>None</td>\n",
       "      <td>Den Bosch</td>\n",
       "      <td>Netherlands</td>\n",
       "      <td>5000</td>\n",
       "    </tr>\n",
       "    <tr>\n",
       "      <th>2</th>\n",
       "      <td>48</td>\n",
       "      <td>Glory 40: Copenhagen</td>\n",
       "      <td>2017-04-29</td>\n",
       "      <td>Forum Copenhagen</td>\n",
       "      <td>None</td>\n",
       "      <td>Copenhagen</td>\n",
       "      <td>Denmark</td>\n",
       "      <td>2500</td>\n",
       "    </tr>\n",
       "    <tr>\n",
       "      <th>3</th>\n",
       "      <td>47</td>\n",
       "      <td>Glory 39: Brussels</td>\n",
       "      <td>2017-03-25</td>\n",
       "      <td>Vorst National</td>\n",
       "      <td>None</td>\n",
       "      <td>Brussels</td>\n",
       "      <td>Belgium</td>\n",
       "      <td>1500</td>\n",
       "    </tr>\n",
       "    <tr>\n",
       "      <th>4</th>\n",
       "      <td>43</td>\n",
       "      <td>Glory 36: Oberhausen</td>\n",
       "      <td>2016-12-10</td>\n",
       "      <td>König Pilsener Arena</td>\n",
       "      <td>None</td>\n",
       "      <td>Oberhausen</td>\n",
       "      <td>Germany</td>\n",
       "      <td>13000</td>\n",
       "    </tr>\n",
       "  </tbody>\n",
       "</table>\n",
       "</div>"
      ],
      "text/plain": [
       "  event_num                 event        date                 venue  city  \\\n",
       "0        82    Glory: Collision 2  2019-12-21             GelreDome  None   \n",
       "1        49     Glory 41: Holland  2017-05-20         Brabanthallen  None   \n",
       "2        48  Glory 40: Copenhagen  2017-04-29      Forum Copenhagen  None   \n",
       "3        47    Glory 39: Brussels  2017-03-25        Vorst National  None   \n",
       "4        43  Glory 36: Oberhausen  2016-12-10  König Pilsener Arena  None   \n",
       "\n",
       "        state       country  attendance  \n",
       "0      Arnhem   Netherlands       31000  \n",
       "1   Den Bosch   Netherlands        5000  \n",
       "2  Copenhagen       Denmark        2500  \n",
       "3    Brussels       Belgium        1500  \n",
       "4  Oberhausen       Germany       13000  "
      ]
     },
     "execution_count": 18,
     "metadata": {},
     "output_type": "execute_result"
    }
   ],
   "source": [
    "show(events.filter(F.col(\"attendance\").isNotNull()))"
   ]
  },
  {
   "cell_type": "code",
   "execution_count": null,
   "metadata": {},
   "outputs": [],
   "source": []
  }
 ],
 "metadata": {
  "kernelspec": {
   "display_name": "ultimateNakMuay",
   "language": "python",
   "name": "python3"
  },
  "language_info": {
   "codemirror_mode": {
    "name": "ipython",
    "version": 3
   },
   "file_extension": ".py",
   "mimetype": "text/x-python",
   "name": "python",
   "nbconvert_exporter": "python",
   "pygments_lexer": "ipython3",
   "version": "3.11.3"
  },
  "orig_nbformat": 4
 },
 "nbformat": 4,
 "nbformat_minor": 2
}
