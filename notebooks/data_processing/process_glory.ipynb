{
 "cells": [
  {
   "cell_type": "code",
   "execution_count": 1,
   "metadata": {},
   "outputs": [],
   "source": [
    "from pyspark.sql import SparkSession\n",
    "from pyspark.sql import types as T\n",
    "from pyspark.sql import functions as F"
   ]
  },
  {
   "cell_type": "code",
   "execution_count": 2,
   "metadata": {},
   "outputs": [],
   "source": [
    "spark = SparkSession.builder.master(\"local[*]\").getOrCreate()"
   ]
  },
  {
   "cell_type": "code",
   "execution_count": 3,
   "metadata": {},
   "outputs": [],
   "source": [
    "def show(df, limit = 5):\n",
    "    return df.toPandas().head(limit)"
   ]
  },
  {
   "attachments": {},
   "cell_type": "markdown",
   "metadata": {},
   "source": [
    "# Events"
   ]
  },
  {
   "cell_type": "code",
   "execution_count": 8,
   "metadata": {},
   "outputs": [],
   "source": [
    "events = spark.read.csv(r\"C:\\Development\\ultimateNakMuay\\data\\raw\\wiki_events_glory.csv\", header=True)"
   ]
  },
  {
   "cell_type": "code",
   "execution_count": 10,
   "metadata": {},
   "outputs": [],
   "source": [
    "events = events.withColumn(\"date\", F.to_date(F.col(\"date\"), \"MMMM d, yyyy\"))\\\n",
    "    .withColumn(\"attendance\", F.regexp_replace(F.col(\"attendance\"), \",\", \"\"))\\\n",
    "    .withColumn(\"attendance\", F.col(\"attendance\").cast(T.IntegerType()))\\\n",
    "    .withColumn(\"location\", F.when(F.col(\"location\") == \"—\", F.lit(None)).otherwise(F.col(\"location\")))"
   ]
  },
  {
   "cell_type": "code",
   "execution_count": 13,
   "metadata": {},
   "outputs": [],
   "source": [
    "events = events.withColumn(\"location\", F.split(F.col(\"location\"), \",\"))\\\n",
    "    .withColumn(\"city\", F.when(F.size(F.col(\"location\")) == 3, F.element_at(F.col(\"location\"), 1)))\\\n",
    "    .withColumn(\"state\", F.when(\n",
    "        F.size(F.col(\"location\")) == 3, F.element_at(F.col(\"location\"), 2)\n",
    "        ).otherwise(F.element_at(F.col(\"location\"), 1))\n",
    "        )\\\n",
    "    .withColumn(\"country\", F.element_at(F.col(\"location\"), -1))\\\n",
    "    .withColumn(\"country\", F.regexp_replace(F.col(\"country\"), \"[^a-zA-Z0-9 ]\", \"\"))\\\n",
    "    .drop(\"location\")"
   ]
  },
  {
   "cell_type": "code",
   "execution_count": 17,
   "metadata": {},
   "outputs": [],
   "source": [
    "events = events.withColumnRenamed(\"#\", \"event_num\")\n",
    "for _ in events.columns:\n",
    "    events = events.withColumnRenamed(_, _.lower())\n",
    "\n",
    "cols = [\"event_num\", \"event\", \"date\", \"venue\", \"city\", \"state\", \"country\", \"attendance\"]\n",
    "\n",
    "events = events.select(*cols)"
   ]
  },
  {
   "cell_type": "code",
   "execution_count": 18,
   "metadata": {},
   "outputs": [
    {
     "data": {
      "text/html": [
       "<div>\n",
       "<style scoped>\n",
       "    .dataframe tbody tr th:only-of-type {\n",
       "        vertical-align: middle;\n",
       "    }\n",
       "\n",
       "    .dataframe tbody tr th {\n",
       "        vertical-align: top;\n",
       "    }\n",
       "\n",
       "    .dataframe thead th {\n",
       "        text-align: right;\n",
       "    }\n",
       "</style>\n",
       "<table border=\"1\" class=\"dataframe\">\n",
       "  <thead>\n",
       "    <tr style=\"text-align: right;\">\n",
       "      <th></th>\n",
       "      <th>event_num</th>\n",
       "      <th>event</th>\n",
       "      <th>date</th>\n",
       "      <th>venue</th>\n",
       "      <th>city</th>\n",
       "      <th>state</th>\n",
       "      <th>country</th>\n",
       "      <th>attendance</th>\n",
       "    </tr>\n",
       "  </thead>\n",
       "  <tbody>\n",
       "    <tr>\n",
       "      <th>0</th>\n",
       "      <td>82</td>\n",
       "      <td>Glory: Collision 2</td>\n",
       "      <td>2019-12-21</td>\n",
       "      <td>GelreDome</td>\n",
       "      <td>None</td>\n",
       "      <td>Arnhem</td>\n",
       "      <td>Netherlands</td>\n",
       "      <td>31000</td>\n",
       "    </tr>\n",
       "    <tr>\n",
       "      <th>1</th>\n",
       "      <td>49</td>\n",
       "      <td>Glory 41: Holland</td>\n",
       "      <td>2017-05-20</td>\n",
       "      <td>Brabanthallen</td>\n",
       "      <td>None</td>\n",
       "      <td>Den Bosch</td>\n",
       "      <td>Netherlands</td>\n",
       "      <td>5000</td>\n",
       "    </tr>\n",
       "    <tr>\n",
       "      <th>2</th>\n",
       "      <td>48</td>\n",
       "      <td>Glory 40: Copenhagen</td>\n",
       "      <td>2017-04-29</td>\n",
       "      <td>Forum Copenhagen</td>\n",
       "      <td>None</td>\n",
       "      <td>Copenhagen</td>\n",
       "      <td>Denmark</td>\n",
       "      <td>2500</td>\n",
       "    </tr>\n",
       "    <tr>\n",
       "      <th>3</th>\n",
       "      <td>47</td>\n",
       "      <td>Glory 39: Brussels</td>\n",
       "      <td>2017-03-25</td>\n",
       "      <td>Vorst National</td>\n",
       "      <td>None</td>\n",
       "      <td>Brussels</td>\n",
       "      <td>Belgium</td>\n",
       "      <td>1500</td>\n",
       "    </tr>\n",
       "    <tr>\n",
       "      <th>4</th>\n",
       "      <td>43</td>\n",
       "      <td>Glory 36: Oberhausen</td>\n",
       "      <td>2016-12-10</td>\n",
       "      <td>König Pilsener Arena</td>\n",
       "      <td>None</td>\n",
       "      <td>Oberhausen</td>\n",
       "      <td>Germany</td>\n",
       "      <td>13000</td>\n",
       "    </tr>\n",
       "  </tbody>\n",
       "</table>\n",
       "</div>"
      ],
      "text/plain": [
       "  event_num                 event        date                 venue  city  \\\n",
       "0        82    Glory: Collision 2  2019-12-21             GelreDome  None   \n",
       "1        49     Glory 41: Holland  2017-05-20         Brabanthallen  None   \n",
       "2        48  Glory 40: Copenhagen  2017-04-29      Forum Copenhagen  None   \n",
       "3        47    Glory 39: Brussels  2017-03-25        Vorst National  None   \n",
       "4        43  Glory 36: Oberhausen  2016-12-10  König Pilsener Arena  None   \n",
       "\n",
       "        state       country  attendance  \n",
       "0      Arnhem   Netherlands       31000  \n",
       "1   Den Bosch   Netherlands        5000  \n",
       "2  Copenhagen       Denmark        2500  \n",
       "3    Brussels       Belgium        1500  \n",
       "4  Oberhausen       Germany       13000  "
      ]
     },
     "execution_count": 18,
     "metadata": {},
     "output_type": "execute_result"
    }
   ],
   "source": [
    "show(events.filter(F.col(\"attendance\").isNotNull()))"
   ]
  },
  {
   "attachments": {},
   "cell_type": "markdown",
   "metadata": {},
   "source": [
    "# Results"
   ]
  },
  {
   "cell_type": "code",
   "execution_count": 4,
   "metadata": {},
   "outputs": [],
   "source": [
    "results = spark.read.csv(r\"C:\\Development\\ultimateNakMuay\\data\\raw\\wiki_results_glory.csv\", header=True)"
   ]
  },
  {
   "cell_type": "code",
   "execution_count": 7,
   "metadata": {},
   "outputs": [],
   "source": [
    "results = results.withColumn(\"weight_class\", F.coalesce(\"weight_class\", \"weight\")).drop(\"weight\")"
   ]
  },
  {
   "cell_type": "code",
   "execution_count": 9,
   "metadata": {},
   "outputs": [],
   "source": [
    "def remove_poisoned_rows(df):\n",
    "    hash_rows = lambda col_list: F.sha2(F.concat_ws(\"|\", *col_list), 256)\n",
    "    test_cols = [F.col(_) for _ in df.columns[:7]]\n",
    "\n",
    "    incorrect_data = df.filter(\n",
    "        ~(F.col(\"time\").contains(\":\") | F.col(\"time\").contains(\".\"))\n",
    "        ).select(*test_cols)\\\n",
    "        .distinct()\n",
    "    \n",
    "    incorrect_data = incorrect_data.withColumn(\"poison\", hash_rows(incorrect_data.columns))\n",
    "\n",
    "    df = df.withColumn(\"poison\", hash_rows(test_cols))\\\n",
    "        .join(incorrect_data, [\"poison\"], how=\"left_anti\")\\\n",
    "        .drop(\"poison\")\n",
    "    \n",
    "    return df"
   ]
  },
  {
   "cell_type": "code",
   "execution_count": 11,
   "metadata": {},
   "outputs": [],
   "source": [
    "results = remove_poisoned_rows(results)"
   ]
  },
  {
   "cell_type": "code",
   "execution_count": 15,
   "metadata": {},
   "outputs": [],
   "source": [
    "results = results.withColumn(\"time\", F.regexp_replace(F.col(\"time\"), \"\\\\.\", \":\"))\\\n",
    "    .withColumn(\"time_parts\", F.split(F.col(\"time\"), \":\"))\\\n",
    "    .withColumn(\"time\", F.element_at(F.col(\"time_parts\"), 1)*60 + F.element_at(F.col(\"time_parts\"), 2))\\\n",
    "    .drop(\"time_parts\")"
   ]
  },
  {
   "cell_type": "code",
   "execution_count": 17,
   "metadata": {},
   "outputs": [],
   "source": [
    "results = results.withColumn(\"time\", F.col(\"time\").cast(T.DoubleType()))\\\n",
    "    .withColumn(\"round\", F.col(\"round\").cast(T.IntegerType()))"
   ]
  },
  {
   "cell_type": "code",
   "execution_count": 18,
   "metadata": {},
   "outputs": [
    {
     "data": {
      "text/html": [
       "<div>\n",
       "<style scoped>\n",
       "    .dataframe tbody tr th:only-of-type {\n",
       "        vertical-align: middle;\n",
       "    }\n",
       "\n",
       "    .dataframe tbody tr th {\n",
       "        vertical-align: top;\n",
       "    }\n",
       "\n",
       "    .dataframe thead th {\n",
       "        text-align: right;\n",
       "    }\n",
       "</style>\n",
       "<table border=\"1\" class=\"dataframe\">\n",
       "  <thead>\n",
       "    <tr style=\"text-align: right;\">\n",
       "      <th></th>\n",
       "      <th>weight_class</th>\n",
       "      <th>winner</th>\n",
       "      <th>loser</th>\n",
       "      <th>method</th>\n",
       "      <th>round</th>\n",
       "      <th>time</th>\n",
       "      <th>notes</th>\n",
       "      <th>fight_card</th>\n",
       "      <th>event_name</th>\n",
       "      <th>link</th>\n",
       "    </tr>\n",
       "  </thead>\n",
       "  <tbody>\n",
       "    <tr>\n",
       "      <th>0</th>\n",
       "      <td>Middleweight 85 kg</td>\n",
       "      <td>Jason Wilnis (c)</td>\n",
       "      <td>Israel Adesanya</td>\n",
       "      <td>Decision (Unanimous)</td>\n",
       "      <td>5.0</td>\n",
       "      <td>180.0</td>\n",
       "      <td>For the Glory Middleweight Championship</td>\n",
       "      <td>Main card</td>\n",
       "      <td>Glory 37: Los Angeles</td>\n",
       "      <td>https://en.wikipedia.org//wiki/2017_in_Glory</td>\n",
       "    </tr>\n",
       "    <tr>\n",
       "      <th>1</th>\n",
       "      <td>Welterweight 77 kg</td>\n",
       "      <td>Yoann Kongolo</td>\n",
       "      <td>Karim Benmansour</td>\n",
       "      <td>KO (Punches)</td>\n",
       "      <td>3.0</td>\n",
       "      <td>177.0</td>\n",
       "      <td>Welterweight Contender Tournament Final</td>\n",
       "      <td>Main card</td>\n",
       "      <td>Glory 37: Los Angeles</td>\n",
       "      <td>https://en.wikipedia.org//wiki/2017_in_Glory</td>\n",
       "    </tr>\n",
       "    <tr>\n",
       "      <th>2</th>\n",
       "      <td>Heavyweight 120 kg</td>\n",
       "      <td>Guto Inocente</td>\n",
       "      <td>D'Angelo Marshall</td>\n",
       "      <td>Decision (Extra Round)</td>\n",
       "      <td>4.0</td>\n",
       "      <td>180.0</td>\n",
       "      <td>None</td>\n",
       "      <td>Main card</td>\n",
       "      <td>Glory 37: Los Angeles</td>\n",
       "      <td>https://en.wikipedia.org//wiki/2017_in_Glory</td>\n",
       "    </tr>\n",
       "    <tr>\n",
       "      <th>3</th>\n",
       "      <td>Welterweight 77 kg</td>\n",
       "      <td>Karim Benmansour</td>\n",
       "      <td>Alan Scheinson</td>\n",
       "      <td>Decision (Split)</td>\n",
       "      <td>3.0</td>\n",
       "      <td>180.0</td>\n",
       "      <td>Welterweight Contender Tournament Semi-Finals</td>\n",
       "      <td>Main card</td>\n",
       "      <td>Glory 37: Los Angeles</td>\n",
       "      <td>https://en.wikipedia.org//wiki/2017_in_Glory</td>\n",
       "    </tr>\n",
       "    <tr>\n",
       "      <th>4</th>\n",
       "      <td>Welterweight 77 kg</td>\n",
       "      <td>Yoann Kongolo</td>\n",
       "      <td>Konstantin Khuzin</td>\n",
       "      <td>Decision (Unanimous)</td>\n",
       "      <td>3.0</td>\n",
       "      <td>180.0</td>\n",
       "      <td>Welterweight Contender Tournament Semi-Finals</td>\n",
       "      <td>Main card</td>\n",
       "      <td>Glory 37: Los Angeles</td>\n",
       "      <td>https://en.wikipedia.org//wiki/2017_in_Glory</td>\n",
       "    </tr>\n",
       "  </tbody>\n",
       "</table>\n",
       "</div>"
      ],
      "text/plain": [
       "         weight_class            winner              loser  \\\n",
       "0  Middleweight 85 kg  Jason Wilnis (c)    Israel Adesanya   \n",
       "1  Welterweight 77 kg     Yoann Kongolo   Karim Benmansour   \n",
       "2  Heavyweight 120 kg     Guto Inocente  D'Angelo Marshall   \n",
       "3  Welterweight 77 kg  Karim Benmansour     Alan Scheinson   \n",
       "4  Welterweight 77 kg     Yoann Kongolo  Konstantin Khuzin   \n",
       "\n",
       "                   method  round   time  \\\n",
       "0    Decision (Unanimous)    5.0  180.0   \n",
       "1            KO (Punches)    3.0  177.0   \n",
       "2  Decision (Extra Round)    4.0  180.0   \n",
       "3        Decision (Split)    3.0  180.0   \n",
       "4    Decision (Unanimous)    3.0  180.0   \n",
       "\n",
       "                                           notes fight_card  \\\n",
       "0        For the Glory Middleweight Championship  Main card   \n",
       "1        Welterweight Contender Tournament Final  Main card   \n",
       "2                                           None  Main card   \n",
       "3  Welterweight Contender Tournament Semi-Finals  Main card   \n",
       "4  Welterweight Contender Tournament Semi-Finals  Main card   \n",
       "\n",
       "              event_name                                          link  \n",
       "0  Glory 37: Los Angeles  https://en.wikipedia.org//wiki/2017_in_Glory  \n",
       "1  Glory 37: Los Angeles  https://en.wikipedia.org//wiki/2017_in_Glory  \n",
       "2  Glory 37: Los Angeles  https://en.wikipedia.org//wiki/2017_in_Glory  \n",
       "3  Glory 37: Los Angeles  https://en.wikipedia.org//wiki/2017_in_Glory  \n",
       "4  Glory 37: Los Angeles  https://en.wikipedia.org//wiki/2017_in_Glory  "
      ]
     },
     "execution_count": 18,
     "metadata": {},
     "output_type": "execute_result"
    }
   ],
   "source": [
    "show(results)"
   ]
  },
  {
   "cell_type": "code",
   "execution_count": null,
   "metadata": {},
   "outputs": [],
   "source": []
  }
 ],
 "metadata": {
  "kernelspec": {
   "display_name": "ultimateNakMuay",
   "language": "python",
   "name": "python3"
  },
  "language_info": {
   "codemirror_mode": {
    "name": "ipython",
    "version": 3
   },
   "file_extension": ".py",
   "mimetype": "text/x-python",
   "name": "python",
   "nbconvert_exporter": "python",
   "pygments_lexer": "ipython3",
   "version": "3.11.3"
  },
  "orig_nbformat": 4
 },
 "nbformat": 4,
 "nbformat_minor": 2
}
