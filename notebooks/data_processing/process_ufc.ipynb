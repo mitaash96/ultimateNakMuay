{
 "cells": [
  {
   "cell_type": "code",
   "execution_count": 1,
   "metadata": {},
   "outputs": [],
   "source": [
    "from pyspark.sql import SparkSession\n",
    "from pyspark.sql import types as T\n",
    "from pyspark.sql import functions as F"
   ]
  },
  {
   "cell_type": "code",
   "execution_count": 5,
   "metadata": {},
   "outputs": [],
   "source": [
    "def show(df, limit = 5):\n",
    "    return df.toPandas().head(limit)"
   ]
  },
  {
   "cell_type": "code",
   "execution_count": 3,
   "metadata": {},
   "outputs": [],
   "source": [
    "spark = SparkSession.builder.master(\"local[*]\").getOrCreate()"
   ]
  },
  {
   "cell_type": "code",
   "execution_count": 47,
   "metadata": {},
   "outputs": [],
   "source": [
    "events = spark.read.csv(r\"C:\\Development\\ultimateNakMuay\\data\\processed\\wiki_events_ufc.csv\", header=True)"
   ]
  },
  {
   "cell_type": "code",
   "execution_count": 48,
   "metadata": {},
   "outputs": [],
   "source": [
    "events = events.withColumn(\"date\", F.to_date(F.col(\"date\")))\\\n",
    "    .withColumn(\"attendance\", F.regexp_replace(F.col(\"attendance\"), \",\", \"\"))\\\n",
    "    .withColumn(\"attendance\", F.col(\"attendance\").cast(T.IntegerType()))\\\n",
    "    .withColumn(\"location\", F.when(F.col(\"location\") == \"—\", F.lit(None)).otherwise(F.col(\"location\")))"
   ]
  },
  {
   "cell_type": "code",
   "execution_count": 49,
   "metadata": {},
   "outputs": [],
   "source": [
    "events = events.withColumn(\n",
    "    \"location\", F.when(\n",
    "        F.col(\"location\").endswith(\"U.S\"), F.regexp_replace(F.col(\"location\"), \"U.S\", \"U.S.\")\n",
    "        ).otherwise(F.col(\"location\"))\n",
    "        )"
   ]
  },
  {
   "cell_type": "code",
   "execution_count": 50,
   "metadata": {},
   "outputs": [],
   "source": [
    "venue_map = events.filter(F.col(\"location\").isNotNull())\\\n",
    "    .select(\"venue\", \"location\").distinct()"
   ]
  },
  {
   "cell_type": "code",
   "execution_count": 57,
   "metadata": {},
   "outputs": [],
   "source": [
    "venue_map = venue_map.withColumn(\"venue\", F.when((F.col(\"location\") == \"Hidalgo, Texas, U.S.\") & (F.col(\"venue\") == \"State Farm Arena\"),\n",
    "                                     F.lit(\"Payne Arena\")).otherwise(F.col(\"venue\"))\n",
    "                                     ).withColumnRenamed(\"location\", \"location_filled\")\n"
   ]
  },
  {
   "cell_type": "code",
   "execution_count": 59,
   "metadata": {},
   "outputs": [],
   "source": [
    "events = events.join(venue_map, on=[\"venue\"], how=\"left\")\\\n",
    "    .withColumn(\"location\", F.col(\"location_filled\"))\\\n",
    "    .drop(\"location_filled\")"
   ]
  },
  {
   "cell_type": "code",
   "execution_count": 62,
   "metadata": {},
   "outputs": [],
   "source": [
    "events = events.withColumn(\"location\", F.split(F.col(\"location\"), \",\"))\\\n",
    "    .withColumn(\"city\", F.when(F.size(F.col(\"location\")) == 3, F.element_at(F.col(\"location\"), 1)))\\\n",
    "    .withColumn(\"state\", F.when(\n",
    "        F.size(F.col(\"location\")) == 3, F.element_at(F.col(\"location\"), 2)\n",
    "        ).otherwise(F.element_at(F.col(\"location\"), 1))\n",
    "        )\\\n",
    "    .withColumn(\"country\", F.element_at(F.col(\"location\"), -1))\\\n",
    "    .withColumn(\"country\", F.regexp_replace(F.col(\"country\"), \"[^a-zA-Z0-9 ]\", \"\"))\\\n",
    "    .drop(\"location\")"
   ]
  },
  {
   "cell_type": "code",
   "execution_count": 63,
   "metadata": {},
   "outputs": [
    {
     "data": {
      "text/html": [
       "<div>\n",
       "<style scoped>\n",
       "    .dataframe tbody tr th:only-of-type {\n",
       "        vertical-align: middle;\n",
       "    }\n",
       "\n",
       "    .dataframe tbody tr th {\n",
       "        vertical-align: top;\n",
       "    }\n",
       "\n",
       "    .dataframe thead th {\n",
       "        text-align: right;\n",
       "    }\n",
       "</style>\n",
       "<table border=\"1\" class=\"dataframe\">\n",
       "  <thead>\n",
       "    <tr style=\"text-align: right;\">\n",
       "      <th></th>\n",
       "      <th>venue</th>\n",
       "      <th>event_num</th>\n",
       "      <th>event</th>\n",
       "      <th>date</th>\n",
       "      <th>attendance</th>\n",
       "      <th>event_id</th>\n",
       "      <th>city</th>\n",
       "      <th>state</th>\n",
       "      <th>country</th>\n",
       "    </tr>\n",
       "  </thead>\n",
       "  <tbody>\n",
       "    <tr>\n",
       "      <th>0</th>\n",
       "      <td>VyStar Veterans Memorial Arena</td>\n",
       "      <td>652</td>\n",
       "      <td>UFC on ABC: Emmett vs. Topuria</td>\n",
       "      <td>2023-06-24</td>\n",
       "      <td>NaN</td>\n",
       "      <td>f796c71c34c1c47ec8d9ac26c5f015d2f0c36f4c1a6e1d...</td>\n",
       "      <td>Jacksonville</td>\n",
       "      <td>Florida</td>\n",
       "      <td>US</td>\n",
       "    </tr>\n",
       "    <tr>\n",
       "      <th>1</th>\n",
       "      <td>UFC Apex</td>\n",
       "      <td>651</td>\n",
       "      <td>UFC on ESPN: Vettori vs. Cannonier</td>\n",
       "      <td>2023-06-17</td>\n",
       "      <td>NaN</td>\n",
       "      <td>b9d858650af3b4603d1f73dd9d46d337644d942d3b3c62...</td>\n",
       "      <td>Las Vegas</td>\n",
       "      <td>Nevada</td>\n",
       "      <td>US</td>\n",
       "    </tr>\n",
       "    <tr>\n",
       "      <th>2</th>\n",
       "      <td>Rogers Arena</td>\n",
       "      <td>650</td>\n",
       "      <td>UFC 289: Nunes vs. Aldana</td>\n",
       "      <td>2023-06-10</td>\n",
       "      <td>17628.0</td>\n",
       "      <td>a8b3628f1a194459323a285a9e55aaa74035164ad6967a...</td>\n",
       "      <td>Vancouver</td>\n",
       "      <td>British Columbia</td>\n",
       "      <td>Canada</td>\n",
       "    </tr>\n",
       "    <tr>\n",
       "      <th>3</th>\n",
       "      <td>UFC Apex</td>\n",
       "      <td>649</td>\n",
       "      <td>UFC on ESPN: Kara-France vs. Albazi</td>\n",
       "      <td>2023-06-03</td>\n",
       "      <td>NaN</td>\n",
       "      <td>a8b4dda55b9d768282cdbfddcf6edd34b8539d638d9cad...</td>\n",
       "      <td>Las Vegas</td>\n",
       "      <td>Nevada</td>\n",
       "      <td>US</td>\n",
       "    </tr>\n",
       "    <tr>\n",
       "      <th>4</th>\n",
       "      <td>UFC Apex</td>\n",
       "      <td>648</td>\n",
       "      <td>UFC Fight Night: Dern vs. Hill</td>\n",
       "      <td>2023-05-20</td>\n",
       "      <td>NaN</td>\n",
       "      <td>d8efd546a501350524b7b0987463472ddc45083f561753...</td>\n",
       "      <td>Las Vegas</td>\n",
       "      <td>Nevada</td>\n",
       "      <td>US</td>\n",
       "    </tr>\n",
       "  </tbody>\n",
       "</table>\n",
       "</div>"
      ],
      "text/plain": [
       "                            venue event_num  \\\n",
       "0  VyStar Veterans Memorial Arena       652   \n",
       "1                        UFC Apex       651   \n",
       "2                    Rogers Arena       650   \n",
       "3                        UFC Apex       649   \n",
       "4                        UFC Apex       648   \n",
       "\n",
       "                                 event        date  attendance  \\\n",
       "0       UFC on ABC: Emmett vs. Topuria  2023-06-24         NaN   \n",
       "1   UFC on ESPN: Vettori vs. Cannonier  2023-06-17         NaN   \n",
       "2            UFC 289: Nunes vs. Aldana  2023-06-10     17628.0   \n",
       "3  UFC on ESPN: Kara-France vs. Albazi  2023-06-03         NaN   \n",
       "4       UFC Fight Night: Dern vs. Hill  2023-05-20         NaN   \n",
       "\n",
       "                                            event_id          city  \\\n",
       "0  f796c71c34c1c47ec8d9ac26c5f015d2f0c36f4c1a6e1d...  Jacksonville   \n",
       "1  b9d858650af3b4603d1f73dd9d46d337644d942d3b3c62...     Las Vegas   \n",
       "2  a8b3628f1a194459323a285a9e55aaa74035164ad6967a...     Vancouver   \n",
       "3  a8b4dda55b9d768282cdbfddcf6edd34b8539d638d9cad...     Las Vegas   \n",
       "4  d8efd546a501350524b7b0987463472ddc45083f561753...     Las Vegas   \n",
       "\n",
       "               state  country  \n",
       "0            Florida       US  \n",
       "1             Nevada       US  \n",
       "2   British Columbia   Canada  \n",
       "3             Nevada       US  \n",
       "4             Nevada       US  "
      ]
     },
     "execution_count": 63,
     "metadata": {},
     "output_type": "execute_result"
    }
   ],
   "source": [
    "show(events)"
   ]
  },
  {
   "cell_type": "code",
   "execution_count": 64,
   "metadata": {},
   "outputs": [],
   "source": [
    "cols = [\"event_num\", \"event\", \"date\", \"venue\", \"city\", \"state\", \"country\", \"attendance\", \"event_id\"]\n",
    "\n",
    "events = events.select(*cols)"
   ]
  },
  {
   "cell_type": "code",
   "execution_count": 65,
   "metadata": {},
   "outputs": [
    {
     "data": {
      "text/html": [
       "<div>\n",
       "<style scoped>\n",
       "    .dataframe tbody tr th:only-of-type {\n",
       "        vertical-align: middle;\n",
       "    }\n",
       "\n",
       "    .dataframe tbody tr th {\n",
       "        vertical-align: top;\n",
       "    }\n",
       "\n",
       "    .dataframe thead th {\n",
       "        text-align: right;\n",
       "    }\n",
       "</style>\n",
       "<table border=\"1\" class=\"dataframe\">\n",
       "  <thead>\n",
       "    <tr style=\"text-align: right;\">\n",
       "      <th></th>\n",
       "      <th>event_num</th>\n",
       "      <th>event</th>\n",
       "      <th>date</th>\n",
       "      <th>venue</th>\n",
       "      <th>city</th>\n",
       "      <th>state</th>\n",
       "      <th>country</th>\n",
       "      <th>attendance</th>\n",
       "      <th>event_id</th>\n",
       "    </tr>\n",
       "  </thead>\n",
       "  <tbody>\n",
       "    <tr>\n",
       "      <th>0</th>\n",
       "      <td>652</td>\n",
       "      <td>UFC on ABC: Emmett vs. Topuria</td>\n",
       "      <td>2023-06-24</td>\n",
       "      <td>VyStar Veterans Memorial Arena</td>\n",
       "      <td>Jacksonville</td>\n",
       "      <td>Florida</td>\n",
       "      <td>US</td>\n",
       "      <td>NaN</td>\n",
       "      <td>f796c71c34c1c47ec8d9ac26c5f015d2f0c36f4c1a6e1d...</td>\n",
       "    </tr>\n",
       "    <tr>\n",
       "      <th>1</th>\n",
       "      <td>651</td>\n",
       "      <td>UFC on ESPN: Vettori vs. Cannonier</td>\n",
       "      <td>2023-06-17</td>\n",
       "      <td>UFC Apex</td>\n",
       "      <td>Las Vegas</td>\n",
       "      <td>Nevada</td>\n",
       "      <td>US</td>\n",
       "      <td>NaN</td>\n",
       "      <td>b9d858650af3b4603d1f73dd9d46d337644d942d3b3c62...</td>\n",
       "    </tr>\n",
       "    <tr>\n",
       "      <th>2</th>\n",
       "      <td>650</td>\n",
       "      <td>UFC 289: Nunes vs. Aldana</td>\n",
       "      <td>2023-06-10</td>\n",
       "      <td>Rogers Arena</td>\n",
       "      <td>Vancouver</td>\n",
       "      <td>British Columbia</td>\n",
       "      <td>Canada</td>\n",
       "      <td>17628.0</td>\n",
       "      <td>a8b3628f1a194459323a285a9e55aaa74035164ad6967a...</td>\n",
       "    </tr>\n",
       "    <tr>\n",
       "      <th>3</th>\n",
       "      <td>649</td>\n",
       "      <td>UFC on ESPN: Kara-France vs. Albazi</td>\n",
       "      <td>2023-06-03</td>\n",
       "      <td>UFC Apex</td>\n",
       "      <td>Las Vegas</td>\n",
       "      <td>Nevada</td>\n",
       "      <td>US</td>\n",
       "      <td>NaN</td>\n",
       "      <td>a8b4dda55b9d768282cdbfddcf6edd34b8539d638d9cad...</td>\n",
       "    </tr>\n",
       "    <tr>\n",
       "      <th>4</th>\n",
       "      <td>648</td>\n",
       "      <td>UFC Fight Night: Dern vs. Hill</td>\n",
       "      <td>2023-05-20</td>\n",
       "      <td>UFC Apex</td>\n",
       "      <td>Las Vegas</td>\n",
       "      <td>Nevada</td>\n",
       "      <td>US</td>\n",
       "      <td>NaN</td>\n",
       "      <td>d8efd546a501350524b7b0987463472ddc45083f561753...</td>\n",
       "    </tr>\n",
       "  </tbody>\n",
       "</table>\n",
       "</div>"
      ],
      "text/plain": [
       "  event_num                                event        date  \\\n",
       "0       652       UFC on ABC: Emmett vs. Topuria  2023-06-24   \n",
       "1       651   UFC on ESPN: Vettori vs. Cannonier  2023-06-17   \n",
       "2       650            UFC 289: Nunes vs. Aldana  2023-06-10   \n",
       "3       649  UFC on ESPN: Kara-France vs. Albazi  2023-06-03   \n",
       "4       648       UFC Fight Night: Dern vs. Hill  2023-05-20   \n",
       "\n",
       "                            venue          city              state  country  \\\n",
       "0  VyStar Veterans Memorial Arena  Jacksonville            Florida       US   \n",
       "1                        UFC Apex     Las Vegas             Nevada       US   \n",
       "2                    Rogers Arena     Vancouver   British Columbia   Canada   \n",
       "3                        UFC Apex     Las Vegas             Nevada       US   \n",
       "4                        UFC Apex     Las Vegas             Nevada       US   \n",
       "\n",
       "   attendance                                           event_id  \n",
       "0         NaN  f796c71c34c1c47ec8d9ac26c5f015d2f0c36f4c1a6e1d...  \n",
       "1         NaN  b9d858650af3b4603d1f73dd9d46d337644d942d3b3c62...  \n",
       "2     17628.0  a8b3628f1a194459323a285a9e55aaa74035164ad6967a...  \n",
       "3         NaN  a8b4dda55b9d768282cdbfddcf6edd34b8539d638d9cad...  \n",
       "4         NaN  d8efd546a501350524b7b0987463472ddc45083f561753...  "
      ]
     },
     "execution_count": 65,
     "metadata": {},
     "output_type": "execute_result"
    }
   ],
   "source": [
    "show(events)"
   ]
  },
  {
   "cell_type": "code",
   "execution_count": null,
   "metadata": {},
   "outputs": [],
   "source": []
  }
 ],
 "metadata": {
  "kernelspec": {
   "display_name": "ultimateNakMuay",
   "language": "python",
   "name": "python3"
  },
  "language_info": {
   "codemirror_mode": {
    "name": "ipython",
    "version": 3
   },
   "file_extension": ".py",
   "mimetype": "text/x-python",
   "name": "python",
   "nbconvert_exporter": "python",
   "pygments_lexer": "ipython3",
   "version": "3.11.3"
  },
  "orig_nbformat": 4
 },
 "nbformat": 4,
 "nbformat_minor": 2
}
