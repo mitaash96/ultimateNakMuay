{
 "cells": [
  {
   "cell_type": "code",
   "execution_count": 2,
   "metadata": {},
   "outputs": [],
   "source": [
    "from pyspark.sql import SparkSession\n",
    "from pyspark.sql import types as T\n",
    "from pyspark.sql import functions as F"
   ]
  },
  {
   "cell_type": "code",
   "execution_count": 3,
   "metadata": {},
   "outputs": [],
   "source": [
    "def show(df, limit = 5):\n",
    "    return df.toPandas().head(limit)"
   ]
  },
  {
   "cell_type": "code",
   "execution_count": 4,
   "metadata": {},
   "outputs": [],
   "source": [
    "spark = SparkSession.builder.master(\"local[*]\").getOrCreate()"
   ]
  },
  {
   "cell_type": "code",
   "execution_count": 5,
   "metadata": {},
   "outputs": [],
   "source": [
    "results = spark.read.csv(r\"C:\\Development\\ultimateNakMuay\\data\\processed\\wiki_fc_ufc.csv\", header=True)"
   ]
  },
  {
   "cell_type": "code",
   "execution_count": 6,
   "metadata": {},
   "outputs": [],
   "source": [
    "def remove_poisoned_rows(df):\n",
    "    hash_rows = lambda col_list: F.sha2(F.concat_ws(\"|\", *col_list), 256)\n",
    "    test_cols = [F.col(_) for _ in df.columns[:7]]\n",
    "\n",
    "    incorrect_data = df.filter(\n",
    "        ~(F.col(\"time\").contains(\":\") | F.col(\"time\").contains(\".\"))\n",
    "        ).select(*test_cols)\\\n",
    "        .distinct()\n",
    "    \n",
    "    incorrect_data = incorrect_data.withColumn(\"poison\", hash_rows(incorrect_data.columns))\n",
    "\n",
    "    df = df.withColumn(\"poison\", hash_rows(test_cols))\\\n",
    "        .join(incorrect_data, [\"poison\"], how=\"left_anti\")\\\n",
    "        .drop(\"poison\")\n",
    "    \n",
    "    return df"
   ]
  },
  {
   "cell_type": "code",
   "execution_count": 7,
   "metadata": {},
   "outputs": [],
   "source": [
    "results = remove_poisoned_rows(results)"
   ]
  },
  {
   "cell_type": "code",
   "execution_count": 8,
   "metadata": {},
   "outputs": [],
   "source": [
    "results = results.withColumn(\"time\", F.regexp_replace(F.col(\"time\"), \"\\\\.\", \":\"))\\\n",
    "    .withColumn(\"time_parts\", F.split(F.col(\"time\"), \":\"))\\\n",
    "    .withColumn(\"time\", F.element_at(F.col(\"time_parts\"), 1)*60 + F.element_at(F.col(\"time_parts\"), 2))\\\n",
    "    .drop(\"time_parts\")"
   ]
  },
  {
   "cell_type": "code",
   "execution_count": 9,
   "metadata": {},
   "outputs": [],
   "source": [
    "results = results.withColumn(\"time\", F.col(\"time\").cast(T.DoubleType()))\\\n",
    "    .withColumn(\"round\", F.col(\"round\").cast(T.IntegerType()))"
   ]
  },
  {
   "cell_type": "code",
   "execution_count": 10,
   "metadata": {},
   "outputs": [],
   "source": [
    "results = results.drop(\"notes\")"
   ]
  },
  {
   "cell_type": "code",
   "execution_count": 11,
   "metadata": {},
   "outputs": [
    {
     "data": {
      "text/html": [
       "<div>\n",
       "<style scoped>\n",
       "    .dataframe tbody tr th:only-of-type {\n",
       "        vertical-align: middle;\n",
       "    }\n",
       "\n",
       "    .dataframe tbody tr th {\n",
       "        vertical-align: top;\n",
       "    }\n",
       "\n",
       "    .dataframe thead th {\n",
       "        text-align: right;\n",
       "    }\n",
       "</style>\n",
       "<table border=\"1\" class=\"dataframe\">\n",
       "  <thead>\n",
       "    <tr style=\"text-align: right;\">\n",
       "      <th></th>\n",
       "      <th>weight_class</th>\n",
       "      <th>winner</th>\n",
       "      <th>loser</th>\n",
       "      <th>method</th>\n",
       "      <th>round</th>\n",
       "      <th>time</th>\n",
       "      <th>fight_card</th>\n",
       "      <th>event_name</th>\n",
       "      <th>event_id</th>\n",
       "    </tr>\n",
       "  </thead>\n",
       "  <tbody>\n",
       "    <tr>\n",
       "      <th>0</th>\n",
       "      <td>Heavyweight</td>\n",
       "      <td>Sergei Pavlovich</td>\n",
       "      <td>Curtis Blaydes</td>\n",
       "      <td>TKO (punches)</td>\n",
       "      <td>1.0</td>\n",
       "      <td>188.0</td>\n",
       "      <td>Main card</td>\n",
       "      <td>UFC Fight Night: Pavlovich vs. Blaydes</td>\n",
       "      <td>58cb1f65abe0d87d636582d45edbb984fe4c92044d67d3...</td>\n",
       "    </tr>\n",
       "    <tr>\n",
       "      <th>1</th>\n",
       "      <td>Middleweight</td>\n",
       "      <td>Bruno Silva</td>\n",
       "      <td>Brad Tavares</td>\n",
       "      <td>TKO (knee and punch)</td>\n",
       "      <td>1.0</td>\n",
       "      <td>215.0</td>\n",
       "      <td>Main card</td>\n",
       "      <td>UFC Fight Night: Pavlovich vs. Blaydes</td>\n",
       "      <td>58cb1f65abe0d87d636582d45edbb984fe4c92044d67d3...</td>\n",
       "    </tr>\n",
       "    <tr>\n",
       "      <th>2</th>\n",
       "      <td>Lightweight</td>\n",
       "      <td>Bobby Green</td>\n",
       "      <td>Jared Gordon</td>\n",
       "      <td>No Contest (accidental clash of heads)</td>\n",
       "      <td>1.0</td>\n",
       "      <td>275.0</td>\n",
       "      <td>Main card</td>\n",
       "      <td>UFC Fight Night: Pavlovich vs. Blaydes</td>\n",
       "      <td>58cb1f65abe0d87d636582d45edbb984fe4c92044d67d3...</td>\n",
       "    </tr>\n",
       "    <tr>\n",
       "      <th>3</th>\n",
       "      <td>Women's Flyweight</td>\n",
       "      <td>Iasmin Lucindo</td>\n",
       "      <td>Brogan Walker-Sanchez</td>\n",
       "      <td>Decision (unanimous) (30–27, 30–27, 30–27)</td>\n",
       "      <td>3.0</td>\n",
       "      <td>300.0</td>\n",
       "      <td>Main card</td>\n",
       "      <td>UFC Fight Night: Pavlovich vs. Blaydes</td>\n",
       "      <td>58cb1f65abe0d87d636582d45edbb984fe4c92044d67d3...</td>\n",
       "    </tr>\n",
       "    <tr>\n",
       "      <th>4</th>\n",
       "      <td>Welterweight</td>\n",
       "      <td>Jeremiah Wells</td>\n",
       "      <td>Matthew Semelsberger</td>\n",
       "      <td>Decision (split) (30–27, 28–29, 30–27)</td>\n",
       "      <td>3.0</td>\n",
       "      <td>300.0</td>\n",
       "      <td>Main card</td>\n",
       "      <td>UFC Fight Night: Pavlovich vs. Blaydes</td>\n",
       "      <td>58cb1f65abe0d87d636582d45edbb984fe4c92044d67d3...</td>\n",
       "    </tr>\n",
       "  </tbody>\n",
       "</table>\n",
       "</div>"
      ],
      "text/plain": [
       "        weight_class            winner                  loser  \\\n",
       "0        Heavyweight  Sergei Pavlovich         Curtis Blaydes   \n",
       "1       Middleweight       Bruno Silva           Brad Tavares   \n",
       "2        Lightweight       Bobby Green           Jared Gordon   \n",
       "3  Women's Flyweight    Iasmin Lucindo  Brogan Walker-Sanchez   \n",
       "4       Welterweight    Jeremiah Wells   Matthew Semelsberger   \n",
       "\n",
       "                                       method  round   time fight_card  \\\n",
       "0                               TKO (punches)    1.0  188.0  Main card   \n",
       "1                        TKO (knee and punch)    1.0  215.0  Main card   \n",
       "2      No Contest (accidental clash of heads)    1.0  275.0  Main card   \n",
       "3  Decision (unanimous) (30–27, 30–27, 30–27)    3.0  300.0  Main card   \n",
       "4      Decision (split) (30–27, 28–29, 30–27)    3.0  300.0  Main card   \n",
       "\n",
       "                               event_name  \\\n",
       "0  UFC Fight Night: Pavlovich vs. Blaydes   \n",
       "1  UFC Fight Night: Pavlovich vs. Blaydes   \n",
       "2  UFC Fight Night: Pavlovich vs. Blaydes   \n",
       "3  UFC Fight Night: Pavlovich vs. Blaydes   \n",
       "4  UFC Fight Night: Pavlovich vs. Blaydes   \n",
       "\n",
       "                                            event_id  \n",
       "0  58cb1f65abe0d87d636582d45edbb984fe4c92044d67d3...  \n",
       "1  58cb1f65abe0d87d636582d45edbb984fe4c92044d67d3...  \n",
       "2  58cb1f65abe0d87d636582d45edbb984fe4c92044d67d3...  \n",
       "3  58cb1f65abe0d87d636582d45edbb984fe4c92044d67d3...  \n",
       "4  58cb1f65abe0d87d636582d45edbb984fe4c92044d67d3...  "
      ]
     },
     "execution_count": 11,
     "metadata": {},
     "output_type": "execute_result"
    }
   ],
   "source": [
    "show(results)"
   ]
  },
  {
   "cell_type": "code",
   "execution_count": null,
   "metadata": {},
   "outputs": [],
   "source": []
  }
 ],
 "metadata": {
  "kernelspec": {
   "display_name": "ultimateNakMuay",
   "language": "python",
   "name": "python3"
  },
  "language_info": {
   "codemirror_mode": {
    "name": "ipython",
    "version": 3
   },
   "file_extension": ".py",
   "mimetype": "text/x-python",
   "name": "python",
   "nbconvert_exporter": "python",
   "pygments_lexer": "ipython3",
   "version": "3.11.3"
  },
  "orig_nbformat": 4
 },
 "nbformat": 4,
 "nbformat_minor": 2
}
