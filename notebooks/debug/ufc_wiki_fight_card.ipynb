{
 "cells": [
  {
   "cell_type": "code",
   "execution_count": 32,
   "metadata": {},
   "outputs": [],
   "source": [
    "import pandas as pd\n",
    "import numpy as np\n",
    "import pickle\n",
    "import urllib"
   ]
  },
  {
   "cell_type": "code",
   "execution_count": 33,
   "metadata": {},
   "outputs": [],
   "source": [
    "failed_events = r\"C:\\Development\\ultimateNakMuay\\data\\raw\\fighter_ufc_payload_failed.pkl\"\n",
    "with open(failed_events, \"rb\") as f:\n",
    "    failed_events = pickle.load(f)"
   ]
  },
  {
   "cell_type": "code",
   "execution_count": 34,
   "metadata": {},
   "outputs": [],
   "source": [
    "with open(r\"C:\\Development\\ultimateNakMuay\\data\\raw\\fighter_ufc_payload_async.pkl\", \"rb\") as f:\n",
    "    mined_events = pickle.load(f)"
   ]
  },
  {
   "cell_type": "code",
   "execution_count": 36,
   "metadata": {},
   "outputs": [
    {
     "data": {
      "text/plain": [
       "{pandas.core.frame.DataFrame}"
      ]
     },
     "execution_count": 36,
     "metadata": {},
     "output_type": "execute_result"
    }
   ],
   "source": [
    "set([type(result[\"df\"]) for result in mined_events])"
   ]
  },
  {
   "cell_type": "code",
   "execution_count": 37,
   "metadata": {},
   "outputs": [
    {
     "data": {
      "text/plain": [
       "{'event': 'UFC Fight Night: Pavlovich vs. Blaydes',\n",
       " 'url': 'https://en.wikipedia.org/wiki/UFC_Fight_Night:_Pavlovich_vs._Blaydes',\n",
       " 'df':            Main Card (ESPN+)                            \\\n",
       "                 Weight class        Unnamed: 1_level_1   \n",
       " 0                Heavyweight          Sergei Pavlovich   \n",
       " 1               Middleweight               Bruno Silva   \n",
       " 2                Lightweight               Bobby Green   \n",
       " 3          Women's Flyweight            Iasmin Lucindo   \n",
       " 4               Welterweight            Jeremiah Wells   \n",
       " 5   Preliminary Card (ESPN+)  Preliminary Card (ESPN+)   \n",
       " 6                Lightweight           Christos Giagos   \n",
       " 7               Bantamweight            Montel Jackson   \n",
       " 8      Women's Featherweight              Norma Dumont   \n",
       " 9                Heavyweight            Mohammad Usman   \n",
       " 10      Catchweight (147 lb)             William Gomis   \n",
       " 11              Bantamweight            Brady Hiestand   \n",
       " \n",
       "                                                         \\\n",
       "           Unnamed: 2_level_1        Unnamed: 3_level_1   \n",
       " 0                       def.            Curtis Blaydes   \n",
       " 1                       def.              Brad Tavares   \n",
       " 2                        vs.              Jared Gordon   \n",
       " 3                       def.     Brogan Walker-Sanchez   \n",
       " 4                       def.      Matthew Semelsberger   \n",
       " 5   Preliminary Card (ESPN+)  Preliminary Card (ESPN+)   \n",
       " 6                       def.               Ricky Glenn   \n",
       " 7                       def.                Rani Yahya   \n",
       " 8                       def.                Karol Rosa   \n",
       " 9                       def.               Junior Tafa   \n",
       " 10                      def.          Francis Marshall   \n",
       " 11                      def.            Danaa Batgerel   \n",
       " \n",
       "                                                                           \\\n",
       "                                         Method                     Round   \n",
       " 0                                TKO (punches)                         1   \n",
       " 1                         TKO (knee and punch)                         1   \n",
       " 2       No Contest (accidental clash of heads)                         1   \n",
       " 3   Decision (unanimous) (30–27, 30–27, 30–27)                         3   \n",
       " 4       Decision (split) (30–27, 28–29, 30–27)                         3   \n",
       " 5                     Preliminary Card (ESPN+)  Preliminary Card (ESPN+)   \n",
       " 6                                   KO (punch)                         1   \n",
       " 7                                 KO (punches)                         1   \n",
       " 8   Decision (unanimous) (29–28, 29–28, 29–28)                         3   \n",
       " 9   Decision (unanimous) (29–28, 29–28, 29–28)                         3   \n",
       " 10      Decision (split) (29–28, 28–29, 29–28)                         3   \n",
       " 11                               TKO (punches)                         3   \n",
       " \n",
       "                                                         \n",
       "                         Time                     Notes  \n",
       " 0                       3:08                       NaN  \n",
       " 1                       3:35                       NaN  \n",
       " 2                       4:35                       [a]  \n",
       " 3                       5:00                       NaN  \n",
       " 4                       5:00                       NaN  \n",
       " 5   Preliminary Card (ESPN+)  Preliminary Card (ESPN+)  \n",
       " 6                       1:35                       NaN  \n",
       " 7                       3:42                       NaN  \n",
       " 8                       5:00                       NaN  \n",
       " 9                       5:00                       NaN  \n",
       " 10                      5:00                       NaN  \n",
       " 11                      4:21                       NaN  }"
      ]
     },
     "execution_count": 37,
     "metadata": {},
     "output_type": "execute_result"
    }
   ],
   "source": [
    "mined_events[0]"
   ]
  },
  {
   "cell_type": "code",
   "execution_count": null,
   "metadata": {},
   "outputs": [],
   "source": []
  }
 ],
 "metadata": {
  "kernelspec": {
   "display_name": "ultimateNakMuay",
   "language": "python",
   "name": "python3"
  },
  "language_info": {
   "codemirror_mode": {
    "name": "ipython",
    "version": 3
   },
   "file_extension": ".py",
   "mimetype": "text/x-python",
   "name": "python",
   "nbconvert_exporter": "python",
   "pygments_lexer": "ipython3",
   "version": "3.11.3"
  },
  "orig_nbformat": 4
 },
 "nbformat": 4,
 "nbformat_minor": 2
}
